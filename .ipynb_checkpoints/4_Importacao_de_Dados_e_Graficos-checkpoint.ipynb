{
 "cells": [
  {
   "cell_type": "markdown",
   "metadata": {},
   "source": [
    "### Importar bibliotecas"
   ]
  },
  {
   "cell_type": "code",
   "execution_count": 1,
   "metadata": {},
   "outputs": [
    {
     "name": "stderr",
     "output_type": "stream",
     "text": [
      "Warning message:\n",
      "\"package 'ggplot2' was built under R version 3.6.3\""
     ]
    }
   ],
   "source": [
    "# Biblioteca para gráficos\n",
    "library(ggplot2)\n",
    "# Biblioteca para manipulação de grids\n",
    "library(grid)"
   ]
  },
  {
   "cell_type": "code",
   "execution_count": 2,
   "metadata": {},
   "outputs": [
    {
     "name": "stderr",
     "output_type": "stream",
     "text": [
      "Warning message:\n",
      "\"package 'ggplot2' is in use and will not be installed\""
     ]
    }
   ],
   "source": [
    "install.packages(\"ggplot2\")"
   ]
  },
  {
   "cell_type": "code",
   "execution_count": 5,
   "metadata": {},
   "outputs": [
    {
     "data": {
      "text/html": [
       "<table>\n",
       "<thead><tr><th scope=col>arvore</th><th scope=col>classe</th><th scope=col>talhao</th><th scope=col>dap</th><th scope=col>ht</th><th scope=col>tronco</th><th scope=col>sobra</th><th scope=col>folha</th><th scope=col>total</th></tr></thead>\n",
       "<tbody>\n",
       "\t<tr><td> 6    </td><td>c     </td><td>22    </td><td>19.90 </td><td>21.50 </td><td>183.64</td><td>20.42 </td><td> 8.57 </td><td>212.64</td></tr>\n",
       "\t<tr><td> 8    </td><td>b     </td><td>23    </td><td>12.40 </td><td>15.74 </td><td> 42.29</td><td> 6.58 </td><td> 2.52 </td><td> 51.40</td></tr>\n",
       "\t<tr><td> 7    </td><td>c     </td><td>32    </td><td>16.50 </td><td>11.74 </td><td> 60.61</td><td>11.35 </td><td>48.52 </td><td>120.49</td></tr>\n",
       "\t<tr><td> 8    </td><td>a     </td><td>32    </td><td> 9.00 </td><td> 7.72 </td><td> 12.28</td><td> 9.99 </td><td>27.67 </td><td> 49.95</td></tr>\n",
       "\t<tr><td> 9    </td><td>a     </td><td>32    </td><td> 7.00 </td><td> 6.55 </td><td> 11.86</td><td> 7.97 </td><td> 7.76 </td><td> 27.61</td></tr>\n",
       "\t<tr><td> 9    </td><td>b     </td><td>32    </td><td>10.50 </td><td> 8.79 </td><td> 26.10</td><td> 7.48 </td><td>23.36 </td><td> 56.95</td></tr>\n",
       "\t<tr><td> 1    </td><td>c     </td><td>22    </td><td>13.00 </td><td>12.86 </td><td> 47.84</td><td>12.14 </td><td> 2.33 </td><td> 62.32</td></tr>\n",
       "\t<tr><td> 2    </td><td>c     </td><td>22    </td><td>20.00 </td><td>20.05 </td><td>183.07</td><td>32.18 </td><td>14.56 </td><td>229.83</td></tr>\n",
       "\t<tr><td> 1    </td><td>a     </td><td>22    </td><td> 7.00 </td><td>11.60 </td><td> 16.19</td><td> 1.81 </td><td> 0.65 </td><td> 18.66</td></tr>\n",
       "\t<tr><td> 2    </td><td>a     </td><td>23    </td><td> 6.30 </td><td> 6.36 </td><td>  6.40</td><td> 5.92 </td><td> 0.93 </td><td> 13.27</td></tr>\n",
       "\t<tr><td> 1    </td><td>b     </td><td>23    </td><td>15.50 </td><td>18.20 </td><td>103.39</td><td>14.17 </td><td> 5.26 </td><td>122.83</td></tr>\n",
       "\t<tr><td> 2    </td><td>b     </td><td>23    </td><td> 8.50 </td><td>10.96 </td><td> 13.71</td><td> 3.28 </td><td> 0.90 </td><td> 17.91</td></tr>\n",
       "\t<tr><td> 3    </td><td>a     </td><td>18    </td><td> 7.00 </td><td>11.30 </td><td>  6.11</td><td> 8.23 </td><td> 1.12 </td><td> 15.47</td></tr>\n",
       "\t<tr><td> 3    </td><td>b     </td><td>18    </td><td>12.50 </td><td>15.70 </td><td> 68.72</td><td> 9.24 </td><td> 1.87 </td><td> 79.85</td></tr>\n",
       "\t<tr><td> 4    </td><td>b     </td><td>16    </td><td>10.40 </td><td>10.52 </td><td> 25.28</td><td> 6.91 </td><td> 2.57 </td><td> 34.76</td></tr>\n",
       "\t<tr><td> 4    </td><td>a     </td><td>16    </td><td> 6.00 </td><td> 7.53 </td><td>  8.51</td><td> 6.66 </td><td> 1.61 </td><td> 16.78</td></tr>\n",
       "\t<tr><td> 5    </td><td>b     </td><td>23    </td><td>12.30 </td><td>14.20 </td><td> 47.19</td><td> 5.94 </td><td> 3.94 </td><td> 57.08</td></tr>\n",
       "\t<tr><td> 6    </td><td>b     </td><td>17    </td><td>10.00 </td><td>11.36 </td><td> 26.43</td><td> 5.79 </td><td> 2.01 </td><td> 34.23</td></tr>\n",
       "\t<tr><td> 5    </td><td>a     </td><td>17    </td><td> 5.90 </td><td>11.26 </td><td>  3.83</td><td> 4.14 </td><td> 0.12 </td><td>  8.10</td></tr>\n",
       "\t<tr><td> 3    </td><td>c     </td><td>32    </td><td>20.05 </td><td>11.40 </td><td>158.66</td><td>42.28 </td><td> 6.69 </td><td>207.64</td></tr>\n",
       "\t<tr><td> 6    </td><td>a     </td><td>32    </td><td> 7.00 </td><td> 6.74 </td><td>  5.64</td><td> 5.38 </td><td> 0.72 </td><td> 11.74</td></tr>\n",
       "\t<tr><td> 4    </td><td>c     </td><td>16    </td><td>15.30 </td><td>14.90 </td><td> 90.81</td><td>18.46 </td><td> 8.28 </td><td>117.56</td></tr>\n",
       "\t<tr><td> 7    </td><td>a     </td><td>16    </td><td> 6.00 </td><td> 8.12 </td><td>  1.96</td><td> 4.86 </td><td> 0.84 </td><td>  7.67</td></tr>\n",
       "\t<tr><td> 7    </td><td>b     </td><td>17    </td><td> 8.60 </td><td>14.05 </td><td> 25.42</td><td> 4.50 </td><td> 1.47 </td><td> 31.41</td></tr>\n",
       "\t<tr><td> 5    </td><td>c     </td><td>16    </td><td>12.50 </td><td>11.05 </td><td> 39.51</td><td>14.37 </td><td> 3.73 </td><td> 57.62</td></tr>\n",
       "\t<tr><td> 8    </td><td>c     </td><td>17    </td><td>22.00 </td><td>25.52 </td><td>272.16</td><td>18.25 </td><td> 9.49 </td><td>299.91</td></tr>\n",
       "\t<tr><td>10    </td><td>a     </td><td>17    </td><td> 9.40 </td><td>12.64 </td><td> 31.78</td><td>36.72 </td><td>11.92 </td><td> 80.44</td></tr>\n",
       "\t<tr><td> 9    </td><td>c     </td><td>22    </td><td>17.00 </td><td>20.42 </td><td>118.70</td><td> 7.94 </td><td> 1.79 </td><td>128.44</td></tr>\n",
       "\t<tr><td>10    </td><td>c     </td><td>17    </td><td>16.00 </td><td>17.30 </td><td> 98.45</td><td>11.71 </td><td> 5.45 </td><td>115.63</td></tr>\n",
       "\t<tr><td>10    </td><td>b     </td><td>16    </td><td>12.00 </td><td>17.20 </td><td> 49.98</td><td> 5.29 </td><td> 1.10 </td><td> 56.39</td></tr>\n",
       "\t<tr><td> 1    </td><td>d     </td><td>23    </td><td>17.00 </td><td>16.20 </td><td>118.12</td><td>21.10 </td><td> 7.11 </td><td>146.33</td></tr>\n",
       "\t<tr><td> 2    </td><td>d     </td><td>23    </td><td>13.70 </td><td>11.80 </td><td> 50.17</td><td> 7.32 </td><td> 4.45 </td><td> 61.96</td></tr>\n",
       "\t<tr><td> 3    </td><td>d     </td><td>23    </td><td>23.00 </td><td>16.80 </td><td>217.04</td><td>55.18 </td><td>18.88 </td><td>291.10</td></tr>\n",
       "\t<tr><td> 4    </td><td>d     </td><td>32    </td><td>22.00 </td><td>15.65 </td><td>189.90</td><td>65.83 </td><td>10.87 </td><td>266.61</td></tr>\n",
       "\t<tr><td> 5    </td><td>d     </td><td>17    </td><td>19.00 </td><td>18.60 </td><td>119.26</td><td>15.88 </td><td> 7.65 </td><td>142.79</td></tr>\n",
       "\t<tr><td> 6    </td><td>d     </td><td>18    </td><td>15.40 </td><td>14.16 </td><td> 88.80</td><td> 9.40 </td><td> 3.64 </td><td>101.85</td></tr>\n",
       "</tbody>\n",
       "</table>\n"
      ],
      "text/latex": [
       "\\begin{tabular}{r|lllllllll}\n",
       " arvore & classe & talhao & dap & ht & tronco & sobra & folha & total\\\\\n",
       "\\hline\n",
       "\t  6     & c      & 22     & 19.90  & 21.50  & 183.64 & 20.42  &  8.57  & 212.64\\\\\n",
       "\t  8     & b      & 23     & 12.40  & 15.74  &  42.29 &  6.58  &  2.52  &  51.40\\\\\n",
       "\t  7     & c      & 32     & 16.50  & 11.74  &  60.61 & 11.35  & 48.52  & 120.49\\\\\n",
       "\t  8     & a      & 32     &  9.00  &  7.72  &  12.28 &  9.99  & 27.67  &  49.95\\\\\n",
       "\t  9     & a      & 32     &  7.00  &  6.55  &  11.86 &  7.97  &  7.76  &  27.61\\\\\n",
       "\t  9     & b      & 32     & 10.50  &  8.79  &  26.10 &  7.48  & 23.36  &  56.95\\\\\n",
       "\t  1     & c      & 22     & 13.00  & 12.86  &  47.84 & 12.14  &  2.33  &  62.32\\\\\n",
       "\t  2     & c      & 22     & 20.00  & 20.05  & 183.07 & 32.18  & 14.56  & 229.83\\\\\n",
       "\t  1     & a      & 22     &  7.00  & 11.60  &  16.19 &  1.81  &  0.65  &  18.66\\\\\n",
       "\t  2     & a      & 23     &  6.30  &  6.36  &   6.40 &  5.92  &  0.93  &  13.27\\\\\n",
       "\t  1     & b      & 23     & 15.50  & 18.20  & 103.39 & 14.17  &  5.26  & 122.83\\\\\n",
       "\t  2     & b      & 23     &  8.50  & 10.96  &  13.71 &  3.28  &  0.90  &  17.91\\\\\n",
       "\t  3     & a      & 18     &  7.00  & 11.30  &   6.11 &  8.23  &  1.12  &  15.47\\\\\n",
       "\t  3     & b      & 18     & 12.50  & 15.70  &  68.72 &  9.24  &  1.87  &  79.85\\\\\n",
       "\t  4     & b      & 16     & 10.40  & 10.52  &  25.28 &  6.91  &  2.57  &  34.76\\\\\n",
       "\t  4     & a      & 16     &  6.00  &  7.53  &   8.51 &  6.66  &  1.61  &  16.78\\\\\n",
       "\t  5     & b      & 23     & 12.30  & 14.20  &  47.19 &  5.94  &  3.94  &  57.08\\\\\n",
       "\t  6     & b      & 17     & 10.00  & 11.36  &  26.43 &  5.79  &  2.01  &  34.23\\\\\n",
       "\t  5     & a      & 17     &  5.90  & 11.26  &   3.83 &  4.14  &  0.12  &   8.10\\\\\n",
       "\t  3     & c      & 32     & 20.05  & 11.40  & 158.66 & 42.28  &  6.69  & 207.64\\\\\n",
       "\t  6     & a      & 32     &  7.00  &  6.74  &   5.64 &  5.38  &  0.72  &  11.74\\\\\n",
       "\t  4     & c      & 16     & 15.30  & 14.90  &  90.81 & 18.46  &  8.28  & 117.56\\\\\n",
       "\t  7     & a      & 16     &  6.00  &  8.12  &   1.96 &  4.86  &  0.84  &   7.67\\\\\n",
       "\t  7     & b      & 17     &  8.60  & 14.05  &  25.42 &  4.50  &  1.47  &  31.41\\\\\n",
       "\t  5     & c      & 16     & 12.50  & 11.05  &  39.51 & 14.37  &  3.73  &  57.62\\\\\n",
       "\t  8     & c      & 17     & 22.00  & 25.52  & 272.16 & 18.25  &  9.49  & 299.91\\\\\n",
       "\t 10     & a      & 17     &  9.40  & 12.64  &  31.78 & 36.72  & 11.92  &  80.44\\\\\n",
       "\t  9     & c      & 22     & 17.00  & 20.42  & 118.70 &  7.94  &  1.79  & 128.44\\\\\n",
       "\t 10     & c      & 17     & 16.00  & 17.30  &  98.45 & 11.71  &  5.45  & 115.63\\\\\n",
       "\t 10     & b      & 16     & 12.00  & 17.20  &  49.98 &  5.29  &  1.10  &  56.39\\\\\n",
       "\t  1     & d      & 23     & 17.00  & 16.20  & 118.12 & 21.10  &  7.11  & 146.33\\\\\n",
       "\t  2     & d      & 23     & 13.70  & 11.80  &  50.17 &  7.32  &  4.45  &  61.96\\\\\n",
       "\t  3     & d      & 23     & 23.00  & 16.80  & 217.04 & 55.18  & 18.88  & 291.10\\\\\n",
       "\t  4     & d      & 32     & 22.00  & 15.65  & 189.90 & 65.83  & 10.87  & 266.61\\\\\n",
       "\t  5     & d      & 17     & 19.00  & 18.60  & 119.26 & 15.88  &  7.65  & 142.79\\\\\n",
       "\t  6     & d      & 18     & 15.40  & 14.16  &  88.80 &  9.40  &  3.64  & 101.85\\\\\n",
       "\\end{tabular}\n"
      ],
      "text/markdown": [
       "\n",
       "| arvore | classe | talhao | dap | ht | tronco | sobra | folha | total |\n",
       "|---|---|---|---|---|---|---|---|---|\n",
       "|  6     | c      | 22     | 19.90  | 21.50  | 183.64 | 20.42  |  8.57  | 212.64 |\n",
       "|  8     | b      | 23     | 12.40  | 15.74  |  42.29 |  6.58  |  2.52  |  51.40 |\n",
       "|  7     | c      | 32     | 16.50  | 11.74  |  60.61 | 11.35  | 48.52  | 120.49 |\n",
       "|  8     | a      | 32     |  9.00  |  7.72  |  12.28 |  9.99  | 27.67  |  49.95 |\n",
       "|  9     | a      | 32     |  7.00  |  6.55  |  11.86 |  7.97  |  7.76  |  27.61 |\n",
       "|  9     | b      | 32     | 10.50  |  8.79  |  26.10 |  7.48  | 23.36  |  56.95 |\n",
       "|  1     | c      | 22     | 13.00  | 12.86  |  47.84 | 12.14  |  2.33  |  62.32 |\n",
       "|  2     | c      | 22     | 20.00  | 20.05  | 183.07 | 32.18  | 14.56  | 229.83 |\n",
       "|  1     | a      | 22     |  7.00  | 11.60  |  16.19 |  1.81  |  0.65  |  18.66 |\n",
       "|  2     | a      | 23     |  6.30  |  6.36  |   6.40 |  5.92  |  0.93  |  13.27 |\n",
       "|  1     | b      | 23     | 15.50  | 18.20  | 103.39 | 14.17  |  5.26  | 122.83 |\n",
       "|  2     | b      | 23     |  8.50  | 10.96  |  13.71 |  3.28  |  0.90  |  17.91 |\n",
       "|  3     | a      | 18     |  7.00  | 11.30  |   6.11 |  8.23  |  1.12  |  15.47 |\n",
       "|  3     | b      | 18     | 12.50  | 15.70  |  68.72 |  9.24  |  1.87  |  79.85 |\n",
       "|  4     | b      | 16     | 10.40  | 10.52  |  25.28 |  6.91  |  2.57  |  34.76 |\n",
       "|  4     | a      | 16     |  6.00  |  7.53  |   8.51 |  6.66  |  1.61  |  16.78 |\n",
       "|  5     | b      | 23     | 12.30  | 14.20  |  47.19 |  5.94  |  3.94  |  57.08 |\n",
       "|  6     | b      | 17     | 10.00  | 11.36  |  26.43 |  5.79  |  2.01  |  34.23 |\n",
       "|  5     | a      | 17     |  5.90  | 11.26  |   3.83 |  4.14  |  0.12  |   8.10 |\n",
       "|  3     | c      | 32     | 20.05  | 11.40  | 158.66 | 42.28  |  6.69  | 207.64 |\n",
       "|  6     | a      | 32     |  7.00  |  6.74  |   5.64 |  5.38  |  0.72  |  11.74 |\n",
       "|  4     | c      | 16     | 15.30  | 14.90  |  90.81 | 18.46  |  8.28  | 117.56 |\n",
       "|  7     | a      | 16     |  6.00  |  8.12  |   1.96 |  4.86  |  0.84  |   7.67 |\n",
       "|  7     | b      | 17     |  8.60  | 14.05  |  25.42 |  4.50  |  1.47  |  31.41 |\n",
       "|  5     | c      | 16     | 12.50  | 11.05  |  39.51 | 14.37  |  3.73  |  57.62 |\n",
       "|  8     | c      | 17     | 22.00  | 25.52  | 272.16 | 18.25  |  9.49  | 299.91 |\n",
       "| 10     | a      | 17     |  9.40  | 12.64  |  31.78 | 36.72  | 11.92  |  80.44 |\n",
       "|  9     | c      | 22     | 17.00  | 20.42  | 118.70 |  7.94  |  1.79  | 128.44 |\n",
       "| 10     | c      | 17     | 16.00  | 17.30  |  98.45 | 11.71  |  5.45  | 115.63 |\n",
       "| 10     | b      | 16     | 12.00  | 17.20  |  49.98 |  5.29  |  1.10  |  56.39 |\n",
       "|  1     | d      | 23     | 17.00  | 16.20  | 118.12 | 21.10  |  7.11  | 146.33 |\n",
       "|  2     | d      | 23     | 13.70  | 11.80  |  50.17 |  7.32  |  4.45  |  61.96 |\n",
       "|  3     | d      | 23     | 23.00  | 16.80  | 217.04 | 55.18  | 18.88  | 291.10 |\n",
       "|  4     | d      | 32     | 22.00  | 15.65  | 189.90 | 65.83  | 10.87  | 266.61 |\n",
       "|  5     | d      | 17     | 19.00  | 18.60  | 119.26 | 15.88  |  7.65  | 142.79 |\n",
       "|  6     | d      | 18     | 15.40  | 14.16  |  88.80 |  9.40  |  3.64  | 101.85 |\n",
       "\n"
      ],
      "text/plain": [
       "   arvore classe talhao dap   ht    tronco sobra folha total \n",
       "1   6     c      22     19.90 21.50 183.64 20.42  8.57 212.64\n",
       "2   8     b      23     12.40 15.74  42.29  6.58  2.52  51.40\n",
       "3   7     c      32     16.50 11.74  60.61 11.35 48.52 120.49\n",
       "4   8     a      32      9.00  7.72  12.28  9.99 27.67  49.95\n",
       "5   9     a      32      7.00  6.55  11.86  7.97  7.76  27.61\n",
       "6   9     b      32     10.50  8.79  26.10  7.48 23.36  56.95\n",
       "7   1     c      22     13.00 12.86  47.84 12.14  2.33  62.32\n",
       "8   2     c      22     20.00 20.05 183.07 32.18 14.56 229.83\n",
       "9   1     a      22      7.00 11.60  16.19  1.81  0.65  18.66\n",
       "10  2     a      23      6.30  6.36   6.40  5.92  0.93  13.27\n",
       "11  1     b      23     15.50 18.20 103.39 14.17  5.26 122.83\n",
       "12  2     b      23      8.50 10.96  13.71  3.28  0.90  17.91\n",
       "13  3     a      18      7.00 11.30   6.11  8.23  1.12  15.47\n",
       "14  3     b      18     12.50 15.70  68.72  9.24  1.87  79.85\n",
       "15  4     b      16     10.40 10.52  25.28  6.91  2.57  34.76\n",
       "16  4     a      16      6.00  7.53   8.51  6.66  1.61  16.78\n",
       "17  5     b      23     12.30 14.20  47.19  5.94  3.94  57.08\n",
       "18  6     b      17     10.00 11.36  26.43  5.79  2.01  34.23\n",
       "19  5     a      17      5.90 11.26   3.83  4.14  0.12   8.10\n",
       "20  3     c      32     20.05 11.40 158.66 42.28  6.69 207.64\n",
       "21  6     a      32      7.00  6.74   5.64  5.38  0.72  11.74\n",
       "22  4     c      16     15.30 14.90  90.81 18.46  8.28 117.56\n",
       "23  7     a      16      6.00  8.12   1.96  4.86  0.84   7.67\n",
       "24  7     b      17      8.60 14.05  25.42  4.50  1.47  31.41\n",
       "25  5     c      16     12.50 11.05  39.51 14.37  3.73  57.62\n",
       "26  8     c      17     22.00 25.52 272.16 18.25  9.49 299.91\n",
       "27 10     a      17      9.40 12.64  31.78 36.72 11.92  80.44\n",
       "28  9     c      22     17.00 20.42 118.70  7.94  1.79 128.44\n",
       "29 10     c      17     16.00 17.30  98.45 11.71  5.45 115.63\n",
       "30 10     b      16     12.00 17.20  49.98  5.29  1.10  56.39\n",
       "31  1     d      23     17.00 16.20 118.12 21.10  7.11 146.33\n",
       "32  2     d      23     13.70 11.80  50.17  7.32  4.45  61.96\n",
       "33  3     d      23     23.00 16.80 217.04 55.18 18.88 291.10\n",
       "34  4     d      32     22.00 15.65 189.90 65.83 10.87 266.61\n",
       "35  5     d      17     19.00 18.60 119.26 15.88  7.65 142.79\n",
       "36  6     d      18     15.40 14.16  88.80  9.40  3.64 101.85"
      ]
     },
     "metadata": {},
     "output_type": "display_data"
    }
   ],
   "source": [
    "# Importando base de dados do link externo\n",
    "base_de_dados <- read.csv(\"http://ecologia.ib.usp.br/bie5782/lib/exe/fetch.php?media=dados:esaligna.csv\")\n",
    "base_de_dados"
   ]
  },
  {
   "cell_type": "code",
   "execution_count": 6,
   "metadata": {},
   "outputs": [
    {
     "data": {
      "image/png": "[encoded data removed]",
      "text/plain": [
       "plot without title"
      ]
     },
     "metadata": {},
     "output_type": "display_data"
    }
   ],
   "source": [
    "# Criando grafico de inspeção considerando as colunas dap(x) e ht(y)\n",
    "# O tipo de ponto do gráfico é geométrico\n",
    "# Adicionando legendas no X e Y\n",
    "p <- ggplot(base_de_dados, aes(x = dap, y =ht)) + \n",
    "     geom_point() +\n",
    "     xlab(\"diâmetro na altura do peito (cm)\") +\n",
    "     ylab(\"altura do tronco (m)\")\n",
    "\n",
    "p"
   ]
  },
  {
   "cell_type": "code",
   "execution_count": 7,
   "metadata": {},
   "outputs": [
    {
     "data": {
      "image/png": "[encoded data removed]",
      "text/plain": [
       "plot without title"
      ]
     },
     "metadata": {},
     "output_type": "display_data"
    }
   ],
   "source": [
    "# Criando grafico de inspeção considerando as colunas talhao(x) e folha(y)\n",
    "p2 <- ggplot(base_de_dados, aes(x=talhao, y=folha)) + \n",
    "      geom_point() +\n",
    "      xlab(\"Talhão\") + \n",
    "      ylab(\"Folha\")\n",
    "\n",
    "p2"
   ]
  },
  {
   "cell_type": "code",
   "execution_count": 17,
   "metadata": {},
   "outputs": [
    {
     "data": {
      "text/html": [
       "<ol class=list-inline>\n",
       "\t<li>22</li>\n",
       "\t<li>23</li>\n",
       "\t<li>32</li>\n",
       "\t<li>18</li>\n",
       "\t<li>16</li>\n",
       "\t<li>17</li>\n",
       "</ol>\n"
      ],
      "text/latex": [
       "\\begin{enumerate*}\n",
       "\\item 22\n",
       "\\item 23\n",
       "\\item 32\n",
       "\\item 18\n",
       "\\item 16\n",
       "\\item 17\n",
       "\\end{enumerate*}\n"
      ],
      "text/markdown": [
       "1. 22\n",
       "2. 23\n",
       "3. 32\n",
       "4. 18\n",
       "5. 16\n",
       "6. 17\n",
       "\n",
       "\n"
      ],
      "text/plain": [
       "[1] 22 23 32 18 16 17"
      ]
     },
     "metadata": {},
     "output_type": "display_data"
    },
    {
     "data": {
      "text/html": [
       "<ol class=list-inline>\n",
       "\t<li>16</li>\n",
       "\t<li>17</li>\n",
       "\t<li>18</li>\n",
       "\t<li>22</li>\n",
       "\t<li>23</li>\n",
       "\t<li>32</li>\n",
       "</ol>\n"
      ],
      "text/latex": [
       "\\begin{enumerate*}\n",
       "\\item 16\n",
       "\\item 17\n",
       "\\item 18\n",
       "\\item 22\n",
       "\\item 23\n",
       "\\item 32\n",
       "\\end{enumerate*}\n"
      ],
      "text/markdown": [
       "1. 16\n",
       "2. 17\n",
       "3. 18\n",
       "4. 22\n",
       "5. 23\n",
       "6. 32\n",
       "\n",
       "\n"
      ],
      "text/plain": [
       "[1] 16 17 18 22 23 32"
      ]
     },
     "metadata": {},
     "output_type": "display_data"
    },
    {
     "data": {
      "text/html": [
       "<dl class=dl-horizontal>\n",
       "\t<dt>16</dt>\n",
       "\t\t<dd>10.3666666666667</dd>\n",
       "\t<dt>17</dt>\n",
       "\t\t<dd>12.9857142857143</dd>\n",
       "\t<dt>18</dt>\n",
       "\t\t<dd>11.6333333333333</dd>\n",
       "\t<dt>22</dt>\n",
       "\t\t<dd>15.38</dd>\n",
       "\t<dt>23</dt>\n",
       "\t\t<dd>13.5875</dd>\n",
       "\t<dt>32</dt>\n",
       "\t\t<dd>13.15</dd>\n",
       "</dl>\n"
      ],
      "text/latex": [
       "\\begin{description*}\n",
       "\\item[16] 10.3666666666667\n",
       "\\item[17] 12.9857142857143\n",
       "\\item[18] 11.6333333333333\n",
       "\\item[22] 15.38\n",
       "\\item[23] 13.5875\n",
       "\\item[32] 13.15\n",
       "\\end{description*}\n"
      ],
      "text/markdown": [
       "16\n",
       ":   10.366666666666717\n",
       ":   12.985714285714318\n",
       ":   11.633333333333322\n",
       ":   15.3823\n",
       ":   13.587532\n",
       ":   13.15\n",
       "\n"
      ],
      "text/plain": [
       "      16       17       18       22       23       32 \n",
       "10.36667 12.98571 11.63333 15.38000 13.58750 13.15000 "
      ]
     },
     "metadata": {},
     "output_type": "display_data"
    },
    {
     "data": {
      "text/html": [
       "<dl class=dl-horizontal>\n",
       "\t<dt>16</dt>\n",
       "\t\t<dd>3.73345237905436</dd>\n",
       "\t<dt>17</dt>\n",
       "\t\t<dd>6.02396009599128</dd>\n",
       "\t<dt>18</dt>\n",
       "\t\t<dd>4.26653645634645</dd>\n",
       "\t<dt>22</dt>\n",
       "\t\t<dd>5.48379430686454</dd>\n",
       "\t<dt>23</dt>\n",
       "\t\t<dd>5.15431511315658</dd>\n",
       "\t<dt>32</dt>\n",
       "\t\t<dd>6.28549918463124</dd>\n",
       "</dl>\n"
      ],
      "text/latex": [
       "\\begin{description*}\n",
       "\\item[16] 3.73345237905436\n",
       "\\item[17] 6.02396009599128\n",
       "\\item[18] 4.26653645634645\n",
       "\\item[22] 5.48379430686454\n",
       "\\item[23] 5.15431511315658\n",
       "\\item[32] 6.28549918463124\n",
       "\\end{description*}\n"
      ],
      "text/markdown": [
       "16\n",
       ":   3.7334523790543617\n",
       ":   6.0239600959912818\n",
       ":   4.2665364563464522\n",
       ":   5.4837943068645423\n",
       ":   5.1543151131565832\n",
       ":   6.28549918463124\n",
       "\n"
      ],
      "text/plain": [
       "      16       17       18       22       23       32 \n",
       "3.733452 6.023960 4.266536 5.483794 5.154315 6.285499 "
      ]
     },
     "metadata": {},
     "output_type": "display_data"
    }
   ],
   "source": [
    "# Retorna os valores brutos da coluna talhão\n",
    "unique(base_de_dados$talhao)\n",
    "# Ordena estes valores\n",
    "sort(unique(base_de_dados$talhao))\n",
    "# with=em que\n",
    "# tapply=transformata (Estatística Descritiva)\n",
    "# entre dap (var. dependente) e talhão\n",
    "# mean=média\n",
    "with(base_de_dados, tapply(dap,talhao, mean)) \n",
    "# sd=desvio padrão\n",
    "with(base_de_dados, tapply(dap,talhao,sd))"
   ]
  },
  {
   "cell_type": "markdown",
   "metadata": {},
   "source": [
    "### Criar novo dataframe com talhão, média e desvio padrão(std)\n",
    "#### Variável dependente: dap\n",
    "#### Desvio padrão: diferença entre o máximo e o mínimo até a média"
   ]
  },
  {
   "cell_type": "code",
   "execution_count": 9,
   "metadata": {},
   "outputs": [
    {
     "data": {
      "text/html": [
       "<table>\n",
       "<thead><tr><th></th><th scope=col>arvore</th><th scope=col>classe</th><th scope=col>talhao</th><th scope=col>dap</th><th scope=col>ht</th><th scope=col>tronco</th><th scope=col>sobra</th><th scope=col>folha</th><th scope=col>total</th></tr></thead>\n",
       "<tbody>\n",
       "\t<tr><th scope=row>15</th><td> 4    </td><td>b     </td><td>16    </td><td>10.4  </td><td>10.52 </td><td>25.28 </td><td> 6.91 </td><td>2.57  </td><td> 34.76</td></tr>\n",
       "\t<tr><th scope=row>16</th><td> 4    </td><td>a     </td><td>16    </td><td> 6.0  </td><td> 7.53 </td><td> 8.51 </td><td> 6.66 </td><td>1.61  </td><td> 16.78</td></tr>\n",
       "\t<tr><th scope=row>22</th><td> 4    </td><td>c     </td><td>16    </td><td>15.3  </td><td>14.90 </td><td>90.81 </td><td>18.46 </td><td>8.28  </td><td>117.56</td></tr>\n",
       "\t<tr><th scope=row>23</th><td> 7    </td><td>a     </td><td>16    </td><td> 6.0  </td><td> 8.12 </td><td> 1.96 </td><td> 4.86 </td><td>0.84  </td><td>  7.67</td></tr>\n",
       "\t<tr><th scope=row>25</th><td> 5    </td><td>c     </td><td>16    </td><td>12.5  </td><td>11.05 </td><td>39.51 </td><td>14.37 </td><td>3.73  </td><td> 57.62</td></tr>\n",
       "\t<tr><th scope=row>30</th><td>10    </td><td>b     </td><td>16    </td><td>12.0  </td><td>17.20 </td><td>49.98 </td><td> 5.29 </td><td>1.10  </td><td> 56.39</td></tr>\n",
       "</tbody>\n",
       "</table>\n"
      ],
      "text/latex": [
       "\\begin{tabular}{r|lllllllll}\n",
       "  & arvore & classe & talhao & dap & ht & tronco & sobra & folha & total\\\\\n",
       "\\hline\n",
       "\t15 &  4     & b      & 16     & 10.4   & 10.52  & 25.28  &  6.91  & 2.57   &  34.76\\\\\n",
       "\t16 &  4     & a      & 16     &  6.0   &  7.53  &  8.51  &  6.66  & 1.61   &  16.78\\\\\n",
       "\t22 &  4     & c      & 16     & 15.3   & 14.90  & 90.81  & 18.46  & 8.28   & 117.56\\\\\n",
       "\t23 &  7     & a      & 16     &  6.0   &  8.12  &  1.96  &  4.86  & 0.84   &   7.67\\\\\n",
       "\t25 &  5     & c      & 16     & 12.5   & 11.05  & 39.51  & 14.37  & 3.73   &  57.62\\\\\n",
       "\t30 & 10     & b      & 16     & 12.0   & 17.20  & 49.98  &  5.29  & 1.10   &  56.39\\\\\n",
       "\\end{tabular}\n"
      ],
      "text/markdown": [
       "\n",
       "| <!--/--> | arvore | classe | talhao | dap | ht | tronco | sobra | folha | total |\n",
       "|---|---|---|---|---|---|---|---|---|---|\n",
       "| 15 |  4     | b      | 16     | 10.4   | 10.52  | 25.28  |  6.91  | 2.57   |  34.76 |\n",
       "| 16 |  4     | a      | 16     |  6.0   |  7.53  |  8.51  |  6.66  | 1.61   |  16.78 |\n",
       "| 22 |  4     | c      | 16     | 15.3   | 14.90  | 90.81  | 18.46  | 8.28   | 117.56 |\n",
       "| 23 |  7     | a      | 16     |  6.0   |  8.12  |  1.96  |  4.86  | 0.84   |   7.67 |\n",
       "| 25 |  5     | c      | 16     | 12.5   | 11.05  | 39.51  | 14.37  | 3.73   |  57.62 |\n",
       "| 30 | 10     | b      | 16     | 12.0   | 17.20  | 49.98  |  5.29  | 1.10   |  56.39 |\n",
       "\n"
      ],
      "text/plain": [
       "   arvore classe talhao dap  ht    tronco sobra folha total \n",
       "15  4     b      16     10.4 10.52 25.28   6.91 2.57   34.76\n",
       "16  4     a      16      6.0  7.53  8.51   6.66 1.61   16.78\n",
       "22  4     c      16     15.3 14.90 90.81  18.46 8.28  117.56\n",
       "23  7     a      16      6.0  8.12  1.96   4.86 0.84    7.67\n",
       "25  5     c      16     12.5 11.05 39.51  14.37 3.73   57.62\n",
       "30 10     b      16     12.0 17.20 49.98   5.29 1.10   56.39"
      ]
     },
     "metadata": {},
     "output_type": "display_data"
    }
   ],
   "source": [
    "esaligna[base_de_dados$talhao == 16,]"
   ]
  },
  {
   "cell_type": "code",
   "execution_count": 16,
   "metadata": {},
   "outputs": [
    {
     "data": {
      "text/html": [
       "<table>\n",
       "<thead><tr><th></th><th scope=col>talhao</th><th scope=col>media</th><th scope=col>std</th></tr></thead>\n",
       "<tbody>\n",
       "\t<tr><th scope=row>16</th><td>16      </td><td>10.36667</td><td>3.733452</td></tr>\n",
       "\t<tr><th scope=row>17</th><td>17      </td><td>12.98571</td><td>6.023960</td></tr>\n",
       "\t<tr><th scope=row>18</th><td>18      </td><td>11.63333</td><td>4.266536</td></tr>\n",
       "\t<tr><th scope=row>22</th><td>22      </td><td>15.38000</td><td>5.483794</td></tr>\n",
       "\t<tr><th scope=row>23</th><td>23      </td><td>13.58750</td><td>5.154315</td></tr>\n",
       "\t<tr><th scope=row>32</th><td>32      </td><td>13.15000</td><td>6.285499</td></tr>\n",
       "</tbody>\n",
       "</table>\n"
      ],
      "text/latex": [
       "\\begin{tabular}{r|lll}\n",
       "  & talhao & media & std\\\\\n",
       "\\hline\n",
       "\t16 & 16       & 10.36667 & 3.733452\\\\\n",
       "\t17 & 17       & 12.98571 & 6.023960\\\\\n",
       "\t18 & 18       & 11.63333 & 4.266536\\\\\n",
       "\t22 & 22       & 15.38000 & 5.483794\\\\\n",
       "\t23 & 23       & 13.58750 & 5.154315\\\\\n",
       "\t32 & 32       & 13.15000 & 6.285499\\\\\n",
       "\\end{tabular}\n"
      ],
      "text/markdown": [
       "\n",
       "| <!--/--> | talhao | media | std |\n",
       "|---|---|---|---|\n",
       "| 16 | 16       | 10.36667 | 3.733452 |\n",
       "| 17 | 17       | 12.98571 | 6.023960 |\n",
       "| 18 | 18       | 11.63333 | 4.266536 |\n",
       "| 22 | 22       | 15.38000 | 5.483794 |\n",
       "| 23 | 23       | 13.58750 | 5.154315 |\n",
       "| 32 | 32       | 13.15000 | 6.285499 |\n",
       "\n"
      ],
      "text/plain": [
       "   talhao media    std     \n",
       "16 16     10.36667 3.733452\n",
       "17 17     12.98571 6.023960\n",
       "18 18     11.63333 4.266536\n",
       "22 22     15.38000 5.483794\n",
       "23 23     13.58750 5.154315\n",
       "32 32     13.15000 6.285499"
      ]
     },
     "metadata": {},
     "output_type": "display_data"
    }
   ],
   "source": [
    "dat_por_talhao <- data.frame(talhao = sort(unique(base_de_dados$talhao)),\n",
    "                             media = with(base_de_dados, tapply(dap,talhao, mean)), # Para cada talhão, aplicar a média\n",
    "                             std = with(base_de_dados, tapply(dap,talhao,sd))) # PAra cada talhão, aplicar o desvio padrão\n",
    "\n",
    "dat_por_talhao"
   ]
  },
  {
   "cell_type": "markdown",
   "metadata": {},
   "source": [
    "### 1 - Gerar a partir dos dados, informações de valores máximos, mínimos, quartis, amplitude, variância, em relação à $arvore$ por $tronco$"
   ]
  },
  {
   "cell_type": "code",
   "execution_count": 19,
   "metadata": {},
   "outputs": [
    {
     "data": {
      "text/html": [
       "<table>\n",
       "<thead><tr><th scope=col>arvore</th><th scope=col>maximo</th><th scope=col>minimos</th><th scope=col>quartis</th><th scope=col>amplitude</th><th scope=col>variancia</th><th scope=col>media</th><th scope=col>std</th></tr></thead>\n",
       "<tbody>\n",
       "\t<tr><td> 1                                           </td><td>118.12                                       </td><td>16.19                                        </td><td>16.1900, 39.9275, 75.6150, 107.0725, 118.1200</td><td>16.19, 118.12                                </td><td> 2269.7784                                   </td><td> 71.3850                                     </td><td> 47.64219                                    </td></tr>\n",
       "\t<tr><td> 2                                         </td><td>183.07                                     </td><td> 6.40                                      </td><td>6.4000, 11.8825, 31.9400, 83.3950, 183.0700</td><td>6.40, 183.07                               </td><td> 6738.0074                                 </td><td> 63.3375                                   </td><td> 82.08537                                  </td></tr>\n",
       "\t<tr><td> 3                                           </td><td>217.04                                       </td><td> 6.11                                        </td><td>6.1100, 53.0675, 113.6900, 173.2550, 217.0400</td><td>6.11, 217.04                                 </td><td> 8764.9358                                   </td><td>112.6325                                     </td><td> 93.62124                                    </td></tr>\n",
       "\t<tr><td> 4                                          </td><td>189.90                                      </td><td> 8.51                                       </td><td>8.5100, 21.0875, 58.0450, 115.5825, 189.9000</td><td>8.51, 189.90                                </td><td> 6764.1340                                  </td><td> 78.6250                                    </td><td> 82.24436                                   </td></tr>\n",
       "\t<tr><td> 5                                         </td><td>119.26                                     </td><td> 3.83                                      </td><td>3.8300, 30.5900, 43.3500, 65.2075, 119.2600</td><td>3.83, 119.26                               </td><td> 2340.8639                                 </td><td> 52.4475                                   </td><td> 48.38248                                  </td></tr>\n",
       "\t<tr><td> 6                                          </td><td>183.64                                      </td><td> 5.64                                       </td><td>5.6400, 21.2325, 57.6150, 112.5100, 183.6400</td><td>5.64, 183.64                                </td><td> 6385.9530                                  </td><td> 76.1275                                    </td><td> 79.91216                                   </td></tr>\n",
       "\t<tr><td> 7                                   </td><td> 60.61                               </td><td> 1.96                                </td><td>1.960, 13.690, 25.420, 43.015, 60.610</td><td>1.96, 60.61                          </td><td>  871.4217                           </td><td> 29.3300                             </td><td> 29.51985                            </td></tr>\n",
       "\t<tr><td> 8                                      </td><td>272.16                                  </td><td>12.28                                   </td><td>12.280, 27.285, 42.290, 157.225, 272.160</td><td>12.28, 272.16                           </td><td>20213.0719                              </td><td>108.9100                                </td><td>142.17268                               </td></tr>\n",
       "\t<tr><td> 9                                </td><td>118.70                            </td><td>11.86                             </td><td>11.86, 18.98, 26.10, 72.40, 118.70</td><td>11.86, 118.70                     </td><td> 3365.3872                        </td><td> 52.2200                          </td><td> 58.01196                         </td></tr>\n",
       "\t<tr><td>10                                    </td><td> 98.45                                </td><td>31.78                                 </td><td>31.780, 40.880, 49.980, 74.215, 98.450</td><td>31.78, 98.45                          </td><td> 1187.5783                            </td><td> 60.0700                              </td><td> 34.46126                             </td></tr>\n",
       "</tbody>\n",
       "</table>\n"
      ],
      "text/latex": [
       "\\begin{tabular}{r|llllllll}\n",
       " arvore & maximo & minimos & quartis & amplitude & variancia & media & std\\\\\n",
       "\\hline\n",
       "\t  1                                            & 118.12                                        & 16.19                                         & 16.1900, 39.9275, 75.6150, 107.0725, 118.1200 & 16.19, 118.12                                 &  2269.7784                                    &  71.3850                                      &  47.64219                                    \\\\\n",
       "\t  2                                          & 183.07                                      &  6.40                                       & 6.4000, 11.8825, 31.9400, 83.3950, 183.0700 & 6.40, 183.07                                &  6738.0074                                  &  63.3375                                    &  82.08537                                  \\\\\n",
       "\t  3                                            & 217.04                                        &  6.11                                         & 6.1100, 53.0675, 113.6900, 173.2550, 217.0400 & 6.11, 217.04                                  &  8764.9358                                    & 112.6325                                      &  93.62124                                    \\\\\n",
       "\t  4                                           & 189.90                                       &  8.51                                        & 8.5100, 21.0875, 58.0450, 115.5825, 189.9000 & 8.51, 189.90                                 &  6764.1340                                   &  78.6250                                     &  82.24436                                   \\\\\n",
       "\t  5                                          & 119.26                                      &  3.83                                       & 3.8300, 30.5900, 43.3500, 65.2075, 119.2600 & 3.83, 119.26                                &  2340.8639                                  &  52.4475                                    &  48.38248                                  \\\\\n",
       "\t  6                                           & 183.64                                       &  5.64                                        & 5.6400, 21.2325, 57.6150, 112.5100, 183.6400 & 5.64, 183.64                                 &  6385.9530                                   &  76.1275                                     &  79.91216                                   \\\\\n",
       "\t  7                                    &  60.61                                &  1.96                                 & 1.960, 13.690, 25.420, 43.015, 60.610 & 1.96, 60.61                           &   871.4217                            &  29.3300                              &  29.51985                            \\\\\n",
       "\t  8                                       & 272.16                                   & 12.28                                    & 12.280, 27.285, 42.290, 157.225, 272.160 & 12.28, 272.16                            & 20213.0719                               & 108.9100                                 & 142.17268                               \\\\\n",
       "\t  9                                 & 118.70                             & 11.86                              & 11.86, 18.98, 26.10, 72.40, 118.70 & 11.86, 118.70                      &  3365.3872                         &  52.2200                           &  58.01196                         \\\\\n",
       "\t 10                                     &  98.45                                 & 31.78                                  & 31.780, 40.880, 49.980, 74.215, 98.450 & 31.78, 98.45                           &  1187.5783                             &  60.0700                               &  34.46126                             \\\\\n",
       "\\end{tabular}\n"
      ],
      "text/markdown": [
       "\n",
       "| arvore | maximo | minimos | quartis | amplitude | variancia | media | std |\n",
       "|---|---|---|---|---|---|---|---|\n",
       "|  1                                            | 118.12                                        | 16.19                                         | 16.1900, 39.9275, 75.6150, 107.0725, 118.1200 | 16.19, 118.12                                 |  2269.7784                                    |  71.3850                                      |  47.64219                                     |\n",
       "|  2                                          | 183.07                                      |  6.40                                       | 6.4000, 11.8825, 31.9400, 83.3950, 183.0700 | 6.40, 183.07                                |  6738.0074                                  |  63.3375                                    |  82.08537                                   |\n",
       "|  3                                            | 217.04                                        |  6.11                                         | 6.1100, 53.0675, 113.6900, 173.2550, 217.0400 | 6.11, 217.04                                  |  8764.9358                                    | 112.6325                                      |  93.62124                                     |\n",
       "|  4                                           | 189.90                                       |  8.51                                        | 8.5100, 21.0875, 58.0450, 115.5825, 189.9000 | 8.51, 189.90                                 |  6764.1340                                   |  78.6250                                     |  82.24436                                    |\n",
       "|  5                                          | 119.26                                      |  3.83                                       | 3.8300, 30.5900, 43.3500, 65.2075, 119.2600 | 3.83, 119.26                                |  2340.8639                                  |  52.4475                                    |  48.38248                                   |\n",
       "|  6                                           | 183.64                                       |  5.64                                        | 5.6400, 21.2325, 57.6150, 112.5100, 183.6400 | 5.64, 183.64                                 |  6385.9530                                   |  76.1275                                     |  79.91216                                    |\n",
       "|  7                                    |  60.61                                |  1.96                                 | 1.960, 13.690, 25.420, 43.015, 60.610 | 1.96, 60.61                           |   871.4217                            |  29.3300                              |  29.51985                             |\n",
       "|  8                                       | 272.16                                   | 12.28                                    | 12.280, 27.285, 42.290, 157.225, 272.160 | 12.28, 272.16                            | 20213.0719                               | 108.9100                                 | 142.17268                                |\n",
       "|  9                                 | 118.70                             | 11.86                              | 11.86, 18.98, 26.10, 72.40, 118.70 | 11.86, 118.70                      |  3365.3872                         |  52.2200                           |  58.01196                          |\n",
       "| 10                                     |  98.45                                 | 31.78                                  | 31.780, 40.880, 49.980, 74.215, 98.450 | 31.78, 98.45                           |  1187.5783                             |  60.0700                               |  34.46126                              |\n",
       "\n"
      ],
      "text/plain": [
       "   arvore maximo minimos quartis                                      \n",
       "1   1     118.12 16.19   16.1900, 39.9275, 75.6150, 107.0725, 118.1200\n",
       "2   2     183.07  6.40   6.4000, 11.8825, 31.9400, 83.3950, 183.0700  \n",
       "3   3     217.04  6.11   6.1100, 53.0675, 113.6900, 173.2550, 217.0400\n",
       "4   4     189.90  8.51   8.5100, 21.0875, 58.0450, 115.5825, 189.9000 \n",
       "5   5     119.26  3.83   3.8300, 30.5900, 43.3500, 65.2075, 119.2600  \n",
       "6   6     183.64  5.64   5.6400, 21.2325, 57.6150, 112.5100, 183.6400 \n",
       "7   7      60.61  1.96   1.960, 13.690, 25.420, 43.015, 60.610        \n",
       "8   8     272.16 12.28   12.280, 27.285, 42.290, 157.225, 272.160     \n",
       "9   9     118.70 11.86   11.86, 18.98, 26.10, 72.40, 118.70           \n",
       "10 10      98.45 31.78   31.780, 40.880, 49.980, 74.215, 98.450       \n",
       "   amplitude     variancia  media    std      \n",
       "1  16.19, 118.12  2269.7784  71.3850  47.64219\n",
       "2  6.40, 183.07   6738.0074  63.3375  82.08537\n",
       "3  6.11, 217.04   8764.9358 112.6325  93.62124\n",
       "4  8.51, 189.90   6764.1340  78.6250  82.24436\n",
       "5  3.83, 119.26   2340.8639  52.4475  48.38248\n",
       "6  5.64, 183.64   6385.9530  76.1275  79.91216\n",
       "7  1.96, 60.61     871.4217  29.3300  29.51985\n",
       "8  12.28, 272.16 20213.0719 108.9100 142.17268\n",
       "9  11.86, 118.70  3365.3872  52.2200  58.01196\n",
       "10 31.78, 98.45   1187.5783  60.0700  34.46126"
      ]
     },
     "metadata": {},
     "output_type": "display_data"
    }
   ],
   "source": [
    "tronco_por_arvore <- data.frame( arvore=sort(unique(base_de_dados$arvore)),\n",
    "                                 maximo=with(base_de_dados, tapply(tronco, arvore, max)),\n",
    "                                 minimos=with(base_de_dados, tapply(tronco, arvore, min)),\n",
    "                                 quartis=with(base_de_dados, tapply(tronco, arvore, quantile)),\n",
    "                                 amplitude=with(base_de_dados, tapply(tronco, arvore, range)),\n",
    "                                 variancia=with(base_de_dados, tapply(tronco, arvore, var)),\n",
    "                                 media=with(base_de_dados, tapply(tronco, arvore, mean)),\n",
    "                                 std=with(base_de_dados, tapply(tronco, arvore, sd)))\n",
    "\n",
    "tronco_por_arvore"
   ]
  },
  {
   "cell_type": "code",
   "execution_count": 20,
   "metadata": {},
   "outputs": [
    {
     "data": {
      "text/plain": [
       "     arvore       classe     talhao           dap               ht       \n",
       " Min.   : 1.000   a:10   Min.   :16.00   Min.   : 5.900   Min.   : 6.36  \n",
       " 1st Qu.: 3.000   b:10   1st Qu.:17.00   1st Qu.: 8.575   1st Qu.:11.03  \n",
       " Median : 5.000   c:10   Median :22.00   Median :12.450   Median :12.75  \n",
       " Mean   : 5.167   d: 6   Mean   :21.86   Mean   :12.935   Mean   :13.51  \n",
       " 3rd Qu.: 7.250          3rd Qu.:23.00   3rd Qu.:16.625   3rd Qu.:16.35  \n",
       " Max.   :10.000          Max.   :32.00   Max.   :23.000   Max.   :25.52  \n",
       "     tronco           sobra            folha            total       \n",
       " Min.   :  1.96   Min.   : 1.810   Min.   : 0.120   Min.   :  7.67  \n",
       " 1st Qu.: 15.57   1st Qu.: 5.935   1st Qu.: 1.575   1st Qu.: 30.46  \n",
       " Median : 47.52   Median : 8.735   Median : 3.835   Median : 59.79  \n",
       " Mean   : 71.38   Mean   :14.574   Mean   : 7.232   Mean   : 93.20  \n",
       " 3rd Qu.:107.07   3rd Qu.:16.473   3rd Qu.: 8.352   3rd Qu.:124.23  \n",
       " Max.   :272.16   Max.   :65.830   Max.   :48.520   Max.   :299.91  "
      ]
     },
     "metadata": {},
     "output_type": "display_data"
    }
   ],
   "source": [
    "summary(base_de_dados)"
   ]
  },
  {
   "cell_type": "code",
   "execution_count": 26,
   "metadata": {},
   "outputs": [
    {
     "data": {
      "text/plain": [
       "   Min. 1st Qu.  Median    Mean 3rd Qu.    Max. \n",
       "  16.19   39.93   75.61   71.39  107.07  118.12 "
      ]
     },
     "metadata": {},
     "output_type": "display_data"
    }
   ],
   "source": [
    "#base_de_dados[base_de_dados$arvore == 1,\"tronco\"]\n",
    "summary(base_de_dados[base_de_dados$arvore == 1,\"tronco\"])"
   ]
  },
  {
   "cell_type": "code",
   "execution_count": 29,
   "metadata": {},
   "outputs": [
    {
     "name": "stderr",
     "output_type": "stream",
     "text": [
      "Warning message:\n",
      "\"Ignoring unknown parameters: with\""
     ]
    },
    {
     "data": {
      "image/png": "[encoded data removed]",
      "text/plain": [
       "plot without title"
      ]
     },
     "metadata": {},
     "output_type": "display_data"
    }
   ],
   "source": [
    "p_media_desvio <- ggplot(tronco_por_arvore, aes(factor(arvore), media)) +\n",
    "                         geom_point(stat=\"identity\",size=5) +\n",
    "                         geom_errorbar(aes(ymin=media-std, ymax=media+std), with=0.5) +\n",
    "                         xlab(\"arvore\")\n",
    "\n",
    "p_media_desvio"
   ]
  },
  {
   "cell_type": "code",
   "execution_count": 31,
   "metadata": {},
   "outputs": [
    {
     "name": "stderr",
     "output_type": "stream",
     "text": [
      "also installing the dependencies 'bitops', 'XML', 'rpart.plot'\n",
      "\n"
     ]
    },
    {
     "name": "stdout",
     "output_type": "stream",
     "text": [
      "package 'bitops' successfully unpacked and MD5 sums checked\n",
      "package 'XML' successfully unpacked and MD5 sums checked\n",
      "package 'rpart.plot' successfully unpacked and MD5 sums checked\n",
      "package 'rattle' successfully unpacked and MD5 sums checked\n",
      "\n",
      "The downloaded binary packages are in\n",
      "\tC:\\Users\\MorelRob\\AppData\\Local\\Temp\\Rtmp63im30\\downloaded_packages\n"
     ]
    }
   ],
   "source": [
    "install.packages('rattle')"
   ]
  },
  {
   "cell_type": "code",
   "execution_count": 32,
   "metadata": {},
   "outputs": [
    {
     "name": "stderr",
     "output_type": "stream",
     "text": [
      "Warning message:\n",
      "\"package 'rattle' was built under R version 3.6.3\"Loading required package: tibble\n",
      "Loading required package: bitops\n",
      "Rattle: A free graphical interface for data science with R.\n",
      "Version 5.4.0 Copyright (c) 2006-2020 Togaware Pty Ltd.\n",
      "Type 'rattle()' to shake, rattle, and roll your data.\n"
     ]
    }
   ],
   "source": [
    "library(rattle)"
   ]
  },
  {
   "cell_type": "code",
   "execution_count": 37,
   "metadata": {},
   "outputs": [
    {
     "data": {
      "text/html": [
       "<table>\n",
       "<thead><tr><th scope=col>Type</th><th scope=col>Alcohol</th><th scope=col>Malic</th><th scope=col>Ash</th><th scope=col>Alcalinity</th><th scope=col>Magnesium</th><th scope=col>Phenols</th><th scope=col>Flavanoids</th><th scope=col>Nonflavanoids</th><th scope=col>Proanthocyanins</th><th scope=col>Color</th><th scope=col>Hue</th><th scope=col>Dilution</th><th scope=col>Proline</th></tr></thead>\n",
       "<tbody>\n",
       "\t<tr><td>1    </td><td>14.23</td><td>1.71 </td><td>2.43 </td><td>15.6 </td><td>127  </td><td>2.80 </td><td>3.06 </td><td>0.28 </td><td>2.29 </td><td>5.64 </td><td>1.04 </td><td>3.92 </td><td>1065 </td></tr>\n",
       "\t<tr><td>1    </td><td>13.20</td><td>1.78 </td><td>2.14 </td><td>11.2 </td><td>100  </td><td>2.65 </td><td>2.76 </td><td>0.26 </td><td>1.28 </td><td>4.38 </td><td>1.05 </td><td>3.40 </td><td>1050 </td></tr>\n",
       "\t<tr><td>1    </td><td>13.16</td><td>2.36 </td><td>2.67 </td><td>18.6 </td><td>101  </td><td>2.80 </td><td>3.24 </td><td>0.30 </td><td>2.81 </td><td>5.68 </td><td>1.03 </td><td>3.17 </td><td>1185 </td></tr>\n",
       "\t<tr><td>1    </td><td>14.37</td><td>1.95 </td><td>2.50 </td><td>16.8 </td><td>113  </td><td>3.85 </td><td>3.49 </td><td>0.24 </td><td>2.18 </td><td>7.80 </td><td>0.86 </td><td>3.45 </td><td>1480 </td></tr>\n",
       "\t<tr><td>1    </td><td>13.24</td><td>2.59 </td><td>2.87 </td><td>21.0 </td><td>118  </td><td>2.80 </td><td>2.69 </td><td>0.39 </td><td>1.82 </td><td>4.32 </td><td>1.04 </td><td>2.93 </td><td> 735 </td></tr>\n",
       "\t<tr><td>1    </td><td>14.20</td><td>1.76 </td><td>2.45 </td><td>15.2 </td><td>112  </td><td>3.27 </td><td>3.39 </td><td>0.34 </td><td>1.97 </td><td>6.75 </td><td>1.05 </td><td>2.85 </td><td>1450 </td></tr>\n",
       "</tbody>\n",
       "</table>\n"
      ],
      "text/latex": [
       "\\begin{tabular}{r|llllllllllllll}\n",
       " Type & Alcohol & Malic & Ash & Alcalinity & Magnesium & Phenols & Flavanoids & Nonflavanoids & Proanthocyanins & Color & Hue & Dilution & Proline\\\\\n",
       "\\hline\n",
       "\t 1     & 14.23 & 1.71  & 2.43  & 15.6  & 127   & 2.80  & 3.06  & 0.28  & 2.29  & 5.64  & 1.04  & 3.92  & 1065 \\\\\n",
       "\t 1     & 13.20 & 1.78  & 2.14  & 11.2  & 100   & 2.65  & 2.76  & 0.26  & 1.28  & 4.38  & 1.05  & 3.40  & 1050 \\\\\n",
       "\t 1     & 13.16 & 2.36  & 2.67  & 18.6  & 101   & 2.80  & 3.24  & 0.30  & 2.81  & 5.68  & 1.03  & 3.17  & 1185 \\\\\n",
       "\t 1     & 14.37 & 1.95  & 2.50  & 16.8  & 113   & 3.85  & 3.49  & 0.24  & 2.18  & 7.80  & 0.86  & 3.45  & 1480 \\\\\n",
       "\t 1     & 13.24 & 2.59  & 2.87  & 21.0  & 118   & 2.80  & 2.69  & 0.39  & 1.82  & 4.32  & 1.04  & 2.93  &  735 \\\\\n",
       "\t 1     & 14.20 & 1.76  & 2.45  & 15.2  & 112   & 3.27  & 3.39  & 0.34  & 1.97  & 6.75  & 1.05  & 2.85  & 1450 \\\\\n",
       "\\end{tabular}\n"
      ],
      "text/markdown": [
       "\n",
       "| Type | Alcohol | Malic | Ash | Alcalinity | Magnesium | Phenols | Flavanoids | Nonflavanoids | Proanthocyanins | Color | Hue | Dilution | Proline |\n",
       "|---|---|---|---|---|---|---|---|---|---|---|---|---|---|\n",
       "| 1     | 14.23 | 1.71  | 2.43  | 15.6  | 127   | 2.80  | 3.06  | 0.28  | 2.29  | 5.64  | 1.04  | 3.92  | 1065  |\n",
       "| 1     | 13.20 | 1.78  | 2.14  | 11.2  | 100   | 2.65  | 2.76  | 0.26  | 1.28  | 4.38  | 1.05  | 3.40  | 1050  |\n",
       "| 1     | 13.16 | 2.36  | 2.67  | 18.6  | 101   | 2.80  | 3.24  | 0.30  | 2.81  | 5.68  | 1.03  | 3.17  | 1185  |\n",
       "| 1     | 14.37 | 1.95  | 2.50  | 16.8  | 113   | 3.85  | 3.49  | 0.24  | 2.18  | 7.80  | 0.86  | 3.45  | 1480  |\n",
       "| 1     | 13.24 | 2.59  | 2.87  | 21.0  | 118   | 2.80  | 2.69  | 0.39  | 1.82  | 4.32  | 1.04  | 2.93  |  735  |\n",
       "| 1     | 14.20 | 1.76  | 2.45  | 15.2  | 112   | 3.27  | 3.39  | 0.34  | 1.97  | 6.75  | 1.05  | 2.85  | 1450  |\n",
       "\n"
      ],
      "text/plain": [
       "  Type Alcohol Malic Ash  Alcalinity Magnesium Phenols Flavanoids Nonflavanoids\n",
       "1 1    14.23   1.71  2.43 15.6       127       2.80    3.06       0.28         \n",
       "2 1    13.20   1.78  2.14 11.2       100       2.65    2.76       0.26         \n",
       "3 1    13.16   2.36  2.67 18.6       101       2.80    3.24       0.30         \n",
       "4 1    14.37   1.95  2.50 16.8       113       3.85    3.49       0.24         \n",
       "5 1    13.24   2.59  2.87 21.0       118       2.80    2.69       0.39         \n",
       "6 1    14.20   1.76  2.45 15.2       112       3.27    3.39       0.34         \n",
       "  Proanthocyanins Color Hue  Dilution Proline\n",
       "1 2.29            5.64  1.04 3.92     1065   \n",
       "2 1.28            4.38  1.05 3.40     1050   \n",
       "3 2.81            5.68  1.03 3.17     1185   \n",
       "4 2.18            7.80  0.86 3.45     1480   \n",
       "5 1.82            4.32  1.04 2.93      735   \n",
       "6 1.97            6.75  1.05 2.85     1450   "
      ]
     },
     "metadata": {},
     "output_type": "display_data"
    }
   ],
   "source": [
    "data(wine, package=\"rattle\") # Importando base de dados disposta pelo rattle\n",
    "head(wine)"
   ]
  },
  {
   "cell_type": "code",
   "execution_count": 38,
   "metadata": {},
   "outputs": [
    {
     "data": {
      "text/plain": [
       " Type      Alcohol          Malic            Ash          Alcalinity   \n",
       " 1:59   Min.   :11.03   Min.   :0.740   Min.   :1.360   Min.   :10.60  \n",
       " 2:71   1st Qu.:12.36   1st Qu.:1.603   1st Qu.:2.210   1st Qu.:17.20  \n",
       " 3:48   Median :13.05   Median :1.865   Median :2.360   Median :19.50  \n",
       "        Mean   :13.00   Mean   :2.336   Mean   :2.367   Mean   :19.49  \n",
       "        3rd Qu.:13.68   3rd Qu.:3.083   3rd Qu.:2.558   3rd Qu.:21.50  \n",
       "        Max.   :14.83   Max.   :5.800   Max.   :3.230   Max.   :30.00  \n",
       "   Magnesium         Phenols        Flavanoids    Nonflavanoids   \n",
       " Min.   : 70.00   Min.   :0.980   Min.   :0.340   Min.   :0.1300  \n",
       " 1st Qu.: 88.00   1st Qu.:1.742   1st Qu.:1.205   1st Qu.:0.2700  \n",
       " Median : 98.00   Median :2.355   Median :2.135   Median :0.3400  \n",
       " Mean   : 99.74   Mean   :2.295   Mean   :2.029   Mean   :0.3619  \n",
       " 3rd Qu.:107.00   3rd Qu.:2.800   3rd Qu.:2.875   3rd Qu.:0.4375  \n",
       " Max.   :162.00   Max.   :3.880   Max.   :5.080   Max.   :0.6600  \n",
       " Proanthocyanins     Color             Hue            Dilution    \n",
       " Min.   :0.410   Min.   : 1.280   Min.   :0.4800   Min.   :1.270  \n",
       " 1st Qu.:1.250   1st Qu.: 3.220   1st Qu.:0.7825   1st Qu.:1.938  \n",
       " Median :1.555   Median : 4.690   Median :0.9650   Median :2.780  \n",
       " Mean   :1.591   Mean   : 5.058   Mean   :0.9574   Mean   :2.612  \n",
       " 3rd Qu.:1.950   3rd Qu.: 6.200   3rd Qu.:1.1200   3rd Qu.:3.170  \n",
       " Max.   :3.580   Max.   :13.000   Max.   :1.7100   Max.   :4.000  \n",
       "    Proline      \n",
       " Min.   : 278.0  \n",
       " 1st Qu.: 500.5  \n",
       " Median : 673.5  \n",
       " Mean   : 746.9  \n",
       " 3rd Qu.: 985.0  \n",
       " Max.   :1680.0  "
      ]
     },
     "metadata": {},
     "output_type": "display_data"
    }
   ],
   "source": [
    "summary(wine)"
   ]
  },
  {
   "cell_type": "code",
   "execution_count": 46,
   "metadata": {},
   "outputs": [
    {
     "data": {
      "text/html": [
       "<table>\n",
       "<thead><tr><th scope=col>Alcohol</th><th scope=col>Malic</th><th scope=col>Ash</th><th scope=col>Alcalinity</th><th scope=col>Magnesium</th><th scope=col>Phenols</th><th scope=col>Flavanoids</th><th scope=col>Nonflavanoids</th><th scope=col>Proanthocyanins</th><th scope=col>Color</th><th scope=col>Hue</th><th scope=col>Dilution</th><th scope=col>Proline</th></tr></thead>\n",
       "<tbody>\n",
       "\t<tr><td>1.5143408  </td><td>-0.56066822</td><td> 0.2313998 </td><td>-1.1663032 </td><td>1.90852151 </td><td>0.8067217  </td><td>1.0319081  </td><td>-0.6577078 </td><td> 1.2214385 </td><td> 0.2510088 </td><td> 0.3611585 </td><td>1.8427215  </td><td> 1.01015939</td></tr>\n",
       "\t<tr><td>0.2455968  </td><td>-0.49800856</td><td>-0.8256672 </td><td>-2.4838405 </td><td>0.01809398 </td><td>0.5670481  </td><td>0.7315653  </td><td>-0.8184106 </td><td>-0.5431887 </td><td>-0.2924962 </td><td> 0.4049085 </td><td>1.1103172  </td><td> 0.96252635</td></tr>\n",
       "\t<tr><td>0.1963252  </td><td> 0.02117152</td><td> 1.1062139 </td><td>-0.2679823 </td><td>0.08810981 </td><td>0.8067217  </td><td>1.2121137  </td><td>-0.4970050 </td><td> 2.1299594 </td><td> 0.2682629 </td><td> 0.3174085 </td><td>0.7863692  </td><td> 1.39122370</td></tr>\n",
       "\t<tr><td>1.6867914  </td><td>-0.34583508</td><td> 0.4865539 </td><td>-0.8069748 </td><td>0.92829983 </td><td>2.4844372  </td><td>1.4623994  </td><td>-0.9791134 </td><td> 1.0292513 </td><td> 1.1827317 </td><td>-0.4263410 </td><td>1.1807407  </td><td> 2.32800680</td></tr>\n",
       "\t<tr><td>0.2948684  </td><td> 0.22705328</td><td> 1.8352256 </td><td> 0.4506745 </td><td>1.27837900 </td><td>0.8067217  </td><td>0.6614853  </td><td> 0.2261576 </td><td> 0.4002753 </td><td>-0.3183774 </td><td> 0.3611585 </td><td>0.4483365  </td><td>-0.03776747</td></tr>\n",
       "\t<tr><td>1.4773871  </td><td>-0.51591132</td><td> 0.3043010 </td><td>-1.2860793 </td><td>0.85828399 </td><td>1.5576991  </td><td>1.3622851  </td><td>-0.1755994 </td><td> 0.6623487 </td><td> 0.7298108 </td><td> 0.4049085 </td><td>0.3356589  </td><td> 2.23274072</td></tr>\n",
       "</tbody>\n",
       "</table>\n"
      ],
      "text/latex": [
       "\\begin{tabular}{lllllllllllll}\n",
       " Alcohol & Malic & Ash & Alcalinity & Magnesium & Phenols & Flavanoids & Nonflavanoids & Proanthocyanins & Color & Hue & Dilution & Proline\\\\\n",
       "\\hline\n",
       "\t 1.5143408   & -0.56066822 &  0.2313998  & -1.1663032  & 1.90852151  & 0.8067217   & 1.0319081   & -0.6577078  &  1.2214385  &  0.2510088  &  0.3611585  & 1.8427215   &  1.01015939\\\\\n",
       "\t 0.2455968   & -0.49800856 & -0.8256672  & -2.4838405  & 0.01809398  & 0.5670481   & 0.7315653   & -0.8184106  & -0.5431887  & -0.2924962  &  0.4049085  & 1.1103172   &  0.96252635\\\\\n",
       "\t 0.1963252   &  0.02117152 &  1.1062139  & -0.2679823  & 0.08810981  & 0.8067217   & 1.2121137   & -0.4970050  &  2.1299594  &  0.2682629  &  0.3174085  & 0.7863692   &  1.39122370\\\\\n",
       "\t 1.6867914   & -0.34583508 &  0.4865539  & -0.8069748  & 0.92829983  & 2.4844372   & 1.4623994   & -0.9791134  &  1.0292513  &  1.1827317  & -0.4263410  & 1.1807407   &  2.32800680\\\\\n",
       "\t 0.2948684   &  0.22705328 &  1.8352256  &  0.4506745  & 1.27837900  & 0.8067217   & 0.6614853   &  0.2261576  &  0.4002753  & -0.3183774  &  0.3611585  & 0.4483365   & -0.03776747\\\\\n",
       "\t 1.4773871   & -0.51591132 &  0.3043010  & -1.2860793  & 0.85828399  & 1.5576991   & 1.3622851   & -0.1755994  &  0.6623487  &  0.7298108  &  0.4049085  & 0.3356589   &  2.23274072\\\\\n",
       "\\end{tabular}\n"
      ],
      "text/markdown": [
       "\n",
       "| Alcohol | Malic | Ash | Alcalinity | Magnesium | Phenols | Flavanoids | Nonflavanoids | Proanthocyanins | Color | Hue | Dilution | Proline |\n",
       "|---|---|---|---|---|---|---|---|---|---|---|---|---|\n",
       "| 1.5143408   | -0.56066822 |  0.2313998  | -1.1663032  | 1.90852151  | 0.8067217   | 1.0319081   | -0.6577078  |  1.2214385  |  0.2510088  |  0.3611585  | 1.8427215   |  1.01015939 |\n",
       "| 0.2455968   | -0.49800856 | -0.8256672  | -2.4838405  | 0.01809398  | 0.5670481   | 0.7315653   | -0.8184106  | -0.5431887  | -0.2924962  |  0.4049085  | 1.1103172   |  0.96252635 |\n",
       "| 0.1963252   |  0.02117152 |  1.1062139  | -0.2679823  | 0.08810981  | 0.8067217   | 1.2121137   | -0.4970050  |  2.1299594  |  0.2682629  |  0.3174085  | 0.7863692   |  1.39122370 |\n",
       "| 1.6867914   | -0.34583508 |  0.4865539  | -0.8069748  | 0.92829983  | 2.4844372   | 1.4623994   | -0.9791134  |  1.0292513  |  1.1827317  | -0.4263410  | 1.1807407   |  2.32800680 |\n",
       "| 0.2948684   |  0.22705328 |  1.8352256  |  0.4506745  | 1.27837900  | 0.8067217   | 0.6614853   |  0.2261576  |  0.4002753  | -0.3183774  |  0.3611585  | 0.4483365   | -0.03776747 |\n",
       "| 1.4773871   | -0.51591132 |  0.3043010  | -1.2860793  | 0.85828399  | 1.5576991   | 1.3622851   | -0.1755994  |  0.6623487  |  0.7298108  |  0.4049085  | 0.3356589   |  2.23274072 |\n",
       "\n"
      ],
      "text/plain": [
       "     Alcohol   Malic       Ash        Alcalinity Magnesium  Phenols  \n",
       "[1,] 1.5143408 -0.56066822  0.2313998 -1.1663032 1.90852151 0.8067217\n",
       "[2,] 0.2455968 -0.49800856 -0.8256672 -2.4838405 0.01809398 0.5670481\n",
       "[3,] 0.1963252  0.02117152  1.1062139 -0.2679823 0.08810981 0.8067217\n",
       "[4,] 1.6867914 -0.34583508  0.4865539 -0.8069748 0.92829983 2.4844372\n",
       "[5,] 0.2948684  0.22705328  1.8352256  0.4506745 1.27837900 0.8067217\n",
       "[6,] 1.4773871 -0.51591132  0.3043010 -1.2860793 0.85828399 1.5576991\n",
       "     Flavanoids Nonflavanoids Proanthocyanins Color      Hue        Dilution \n",
       "[1,] 1.0319081  -0.6577078     1.2214385       0.2510088  0.3611585 1.8427215\n",
       "[2,] 0.7315653  -0.8184106    -0.5431887      -0.2924962  0.4049085 1.1103172\n",
       "[3,] 1.2121137  -0.4970050     2.1299594       0.2682629  0.3174085 0.7863692\n",
       "[4,] 1.4623994  -0.9791134     1.0292513       1.1827317 -0.4263410 1.1807407\n",
       "[5,] 0.6614853   0.2261576     0.4002753      -0.3183774  0.3611585 0.4483365\n",
       "[6,] 1.3622851  -0.1755994     0.6623487       0.7298108  0.4049085 0.3356589\n",
       "     Proline    \n",
       "[1,]  1.01015939\n",
       "[2,]  0.96252635\n",
       "[3,]  1.39122370\n",
       "[4,]  2.32800680\n",
       "[5,] -0.03776747\n",
       "[6,]  2.23274072"
      ]
     },
     "metadata": {},
     "output_type": "display_data"
    }
   ],
   "source": [
    "# Aplica escala nas medidas para que o peso de cada variável não interfira nas análises\n",
    "# Diminuir a influência de pesos aos resultados\n",
    "# - Média/std\n",
    "wine.stand <- scale(wine[-1]); #[-1] Para remover a primeira coluna\n",
    "\n",
    "head(wine.stand)"
   ]
  },
  {
   "cell_type": "code",
   "execution_count": 41,
   "metadata": {},
   "outputs": [
    {
     "data": {
      "text/plain": [
       "    Alcohol             Malic              Ash             Alcalinity       \n",
       " Min.   :-2.42739   Min.   :-1.4290   Min.   :-3.66881   Min.   :-2.663505  \n",
       " 1st Qu.:-0.78603   1st Qu.:-0.6569   1st Qu.:-0.57051   1st Qu.:-0.687199  \n",
       " Median : 0.06083   Median :-0.4219   Median :-0.02375   Median : 0.001514  \n",
       " Mean   : 0.00000   Mean   : 0.0000   Mean   : 0.00000   Mean   : 0.000000  \n",
       " 3rd Qu.: 0.83378   3rd Qu.: 0.6679   3rd Qu.: 0.69615   3rd Qu.: 0.600395  \n",
       " Max.   : 2.25341   Max.   : 3.1004   Max.   : 3.14745   Max.   : 3.145637  \n",
       "   Magnesium          Phenols           Flavanoids      Nonflavanoids    \n",
       " Min.   :-2.0824   Min.   :-2.10132   Min.   :-1.6912   Min.   :-1.8630  \n",
       " 1st Qu.:-0.8221   1st Qu.:-0.88298   1st Qu.:-0.8252   1st Qu.:-0.7381  \n",
       " Median :-0.1219   Median : 0.09569   Median : 0.1059   Median :-0.1756  \n",
       " Mean   : 0.0000   Mean   : 0.00000   Mean   : 0.0000   Mean   : 0.0000  \n",
       " 3rd Qu.: 0.5082   3rd Qu.: 0.80672   3rd Qu.: 0.8467   3rd Qu.: 0.6078  \n",
       " Max.   : 4.3591   Max.   : 2.53237   Max.   : 3.0542   Max.   : 2.3956  \n",
       " Proanthocyanins        Color              Hue              Dilution      \n",
       " Min.   :-2.06321   Min.   :-1.6297   Min.   :-2.08884   Min.   :-1.8897  \n",
       " 1st Qu.:-0.59560   1st Qu.:-0.7929   1st Qu.:-0.76540   1st Qu.:-0.9496  \n",
       " Median :-0.06272   Median :-0.1588   Median : 0.03303   Median : 0.2371  \n",
       " Mean   : 0.00000   Mean   : 0.0000   Mean   : 0.00000   Mean   : 0.0000  \n",
       " 3rd Qu.: 0.62741   3rd Qu.: 0.4926   3rd Qu.: 0.71116   3rd Qu.: 0.7864  \n",
       " Max.   : 3.47527   Max.   : 3.4258   Max.   : 3.29241   Max.   : 1.9554  \n",
       "    Proline       \n",
       " Min.   :-1.4890  \n",
       " 1st Qu.:-0.7824  \n",
       " Median :-0.2331  \n",
       " Mean   : 0.0000  \n",
       " 3rd Qu.: 0.7561  \n",
       " Max.   : 2.9631  "
      ]
     },
     "metadata": {},
     "output_type": "display_data"
    }
   ],
   "source": [
    "summary(wine.stand)"
   ]
  },
  {
   "cell_type": "code",
   "execution_count": 43,
   "metadata": {},
   "outputs": [],
   "source": [
    "# Realizar uma clusterização - Perform k-means clustering on a data matrix\n",
    "k.means.fit <- kmeans(wine.stand, 3)"
   ]
  },
  {
   "cell_type": "code",
   "execution_count": 44,
   "metadata": {},
   "outputs": [],
   "source": [
    "?kmeans"
   ]
  },
  {
   "cell_type": "code",
   "execution_count": 49,
   "metadata": {},
   "outputs": [
    {
     "data": {
      "text/html": [
       "<dl>\n",
       "\t<dt>$names</dt>\n",
       "\t\t<dd><ol class=list-inline>\n",
       "\t<li>'cluster'</li>\n",
       "\t<li>'centers'</li>\n",
       "\t<li>'totss'</li>\n",
       "\t<li>'withinss'</li>\n",
       "\t<li>'tot.withinss'</li>\n",
       "\t<li>'betweenss'</li>\n",
       "\t<li>'size'</li>\n",
       "\t<li>'iter'</li>\n",
       "\t<li>'ifault'</li>\n",
       "</ol>\n",
       "</dd>\n",
       "\t<dt>$class</dt>\n",
       "\t\t<dd>'kmeans'</dd>\n",
       "</dl>\n"
      ],
      "text/latex": [
       "\\begin{description}\n",
       "\\item[\\$names] \\begin{enumerate*}\n",
       "\\item 'cluster'\n",
       "\\item 'centers'\n",
       "\\item 'totss'\n",
       "\\item 'withinss'\n",
       "\\item 'tot.withinss'\n",
       "\\item 'betweenss'\n",
       "\\item 'size'\n",
       "\\item 'iter'\n",
       "\\item 'ifault'\n",
       "\\end{enumerate*}\n",
       "\n",
       "\\item[\\$class] 'kmeans'\n",
       "\\end{description}\n"
      ],
      "text/markdown": [
       "$names\n",
       ":   1. 'cluster'\n",
       "2. 'centers'\n",
       "3. 'totss'\n",
       "4. 'withinss'\n",
       "5. 'tot.withinss'\n",
       "6. 'betweenss'\n",
       "7. 'size'\n",
       "8. 'iter'\n",
       "9. 'ifault'\n",
       "\n",
       "\n",
       "\n",
       "$class\n",
       ":   'kmeans'\n",
       "\n",
       "\n"
      ],
      "text/plain": [
       "$names\n",
       "[1] \"cluster\"      \"centers\"      \"totss\"        \"withinss\"     \"tot.withinss\"\n",
       "[6] \"betweenss\"    \"size\"         \"iter\"         \"ifault\"      \n",
       "\n",
       "$class\n",
       "[1] \"kmeans\"\n"
      ]
     },
     "metadata": {},
     "output_type": "display_data"
    }
   ],
   "source": [
    "attributes(k.means.fit)"
   ]
  },
  {
   "cell_type": "code",
   "execution_count": 51,
   "metadata": {},
   "outputs": [
    {
     "data": {
      "text/html": [
       "<ol class=list-inline>\n",
       "\t<li>51</li>\n",
       "\t<li>65</li>\n",
       "\t<li>62</li>\n",
       "</ol>\n"
      ],
      "text/latex": [
       "\\begin{enumerate*}\n",
       "\\item 51\n",
       "\\item 65\n",
       "\\item 62\n",
       "\\end{enumerate*}\n"
      ],
      "text/markdown": [
       "1. 51\n",
       "2. 65\n",
       "3. 62\n",
       "\n",
       "\n"
      ],
      "text/plain": [
       "[1] 51 65 62"
      ]
     },
     "metadata": {},
     "output_type": "display_data"
    }
   ],
   "source": [
    "k.means.fit$size"
   ]
  },
  {
   "cell_type": "code",
   "execution_count": 48,
   "metadata": {},
   "outputs": [
    {
     "data": {
      "text/html": [
       "<table>\n",
       "<thead><tr><th scope=col>Alcohol</th><th scope=col>Malic</th><th scope=col>Ash</th><th scope=col>Alcalinity</th><th scope=col>Magnesium</th><th scope=col>Phenols</th><th scope=col>Flavanoids</th><th scope=col>Nonflavanoids</th><th scope=col>Proanthocyanins</th><th scope=col>Color</th><th scope=col>Hue</th><th scope=col>Dilution</th><th scope=col>Proline</th></tr></thead>\n",
       "<tbody>\n",
       "\t<tr><td> 0.1644436 </td><td> 0.8690954 </td><td> 0.1863726 </td><td> 0.5228924 </td><td>-0.07526047</td><td>-0.97657548</td><td>-1.21182921</td><td> 0.72402116</td><td>-0.77751312</td><td> 0.9388902 </td><td>-1.1615122 </td><td>-1.2887761 </td><td>-0.4059428 </td></tr>\n",
       "\t<tr><td>-0.9234669 </td><td>-0.3929331 </td><td>-0.4931257 </td><td> 0.1701220 </td><td>-0.49032869</td><td>-0.07576891</td><td> 0.02075402</td><td>-0.03343924</td><td> 0.05810161</td><td>-0.8993770 </td><td> 0.4605046 </td><td> 0.2700025 </td><td>-0.7517257 </td></tr>\n",
       "\t<tr><td> 0.8328826 </td><td>-0.3029551 </td><td> 0.3636801 </td><td>-0.6084749 </td><td> 0.57596208</td><td> 0.88274724</td><td> 0.97506900</td><td>-0.56050853</td><td> 0.57865427</td><td> 0.1705823 </td><td> 0.4726504 </td><td> 0.7770551 </td><td> 1.1220202 </td></tr>\n",
       "</tbody>\n",
       "</table>\n"
      ],
      "text/latex": [
       "\\begin{tabular}{r|lllllllllllll}\n",
       " Alcohol & Malic & Ash & Alcalinity & Magnesium & Phenols & Flavanoids & Nonflavanoids & Proanthocyanins & Color & Hue & Dilution & Proline\\\\\n",
       "\\hline\n",
       "\t  0.1644436  &  0.8690954  &  0.1863726  &  0.5228924  & -0.07526047 & -0.97657548 & -1.21182921 &  0.72402116 & -0.77751312 &  0.9388902  & -1.1615122  & -1.2887761  & -0.4059428 \\\\\n",
       "\t -0.9234669  & -0.3929331  & -0.4931257  &  0.1701220  & -0.49032869 & -0.07576891 &  0.02075402 & -0.03343924 &  0.05810161 & -0.8993770  &  0.4605046  &  0.2700025  & -0.7517257 \\\\\n",
       "\t  0.8328826  & -0.3029551  &  0.3636801  & -0.6084749  &  0.57596208 &  0.88274724 &  0.97506900 & -0.56050853 &  0.57865427 &  0.1705823  &  0.4726504  &  0.7770551  &  1.1220202 \\\\\n",
       "\\end{tabular}\n"
      ],
      "text/markdown": [
       "\n",
       "| Alcohol | Malic | Ash | Alcalinity | Magnesium | Phenols | Flavanoids | Nonflavanoids | Proanthocyanins | Color | Hue | Dilution | Proline |\n",
       "|---|---|---|---|---|---|---|---|---|---|---|---|---|\n",
       "|  0.1644436  |  0.8690954  |  0.1863726  |  0.5228924  | -0.07526047 | -0.97657548 | -1.21182921 |  0.72402116 | -0.77751312 |  0.9388902  | -1.1615122  | -1.2887761  | -0.4059428  |\n",
       "| -0.9234669  | -0.3929331  | -0.4931257  |  0.1701220  | -0.49032869 | -0.07576891 |  0.02075402 | -0.03343924 |  0.05810161 | -0.8993770  |  0.4605046  |  0.2700025  | -0.7517257  |\n",
       "|  0.8328826  | -0.3029551  |  0.3636801  | -0.6084749  |  0.57596208 |  0.88274724 |  0.97506900 | -0.56050853 |  0.57865427 |  0.1705823  |  0.4726504  |  0.7770551  |  1.1220202  |\n",
       "\n"
      ],
      "text/plain": [
       "  Alcohol    Malic      Ash        Alcalinity Magnesium   Phenols    \n",
       "1  0.1644436  0.8690954  0.1863726  0.5228924 -0.07526047 -0.97657548\n",
       "2 -0.9234669 -0.3929331 -0.4931257  0.1701220 -0.49032869 -0.07576891\n",
       "3  0.8328826 -0.3029551  0.3636801 -0.6084749  0.57596208  0.88274724\n",
       "  Flavanoids  Nonflavanoids Proanthocyanins Color      Hue        Dilution  \n",
       "1 -1.21182921  0.72402116   -0.77751312      0.9388902 -1.1615122 -1.2887761\n",
       "2  0.02075402 -0.03343924    0.05810161     -0.8993770  0.4605046  0.2700025\n",
       "3  0.97506900 -0.56050853    0.57865427      0.1705823  0.4726504  0.7770551\n",
       "  Proline   \n",
       "1 -0.4059428\n",
       "2 -0.7517257\n",
       "3  1.1220202"
      ]
     },
     "metadata": {},
     "output_type": "display_data"
    }
   ],
   "source": [
    "k.means.fit$centers"
   ]
  },
  {
   "cell_type": "code",
   "execution_count": 55,
   "metadata": {},
   "outputs": [],
   "source": [
    "library(cluster) # Biblioteca para visualização de cluster"
   ]
  },
  {
   "cell_type": "code",
   "execution_count": 58,
   "metadata": {},
   "outputs": [
    {
     "data": {
      "image/png": "[encoded data removed]",
      "text/plain": [
       "Plot with title \"Representação 2D dos clusters\""
      ]
     },
     "metadata": {},
     "output_type": "display_data"
    }
   ],
   "source": [
    "clusplot(wine.stand, k.means.fit$cluster, main=\"Representação 2D dos clusters\",\n",
    "        color=TRUE, shade=TRUE,\n",
    "        labels=3, lines=0)"
   ]
  },
  {
   "cell_type": "code",
   "execution_count": 84,
   "metadata": {},
   "outputs": [],
   "source": [
    "?clusplot"
   ]
  },
  {
   "cell_type": "code",
   "execution_count": 62,
   "metadata": {},
   "outputs": [
    {
     "data": {
      "text/html": [
       "<table>\n",
       "<thead><tr><th scope=col>Country</th><th scope=col>RedMeat</th><th scope=col>WhiteMeat</th><th scope=col>Eggs</th><th scope=col>Milk</th><th scope=col>Fish</th><th scope=col>Cereals</th><th scope=col>Starch</th><th scope=col>Nuts</th><th scope=col>Fr.Veg</th></tr></thead>\n",
       "<tbody>\n",
       "\t<tr><td>Albania       </td><td>10.1          </td><td> 1.4          </td><td>0.5           </td><td> 8.9          </td><td>0.2           </td><td>42.3          </td><td>0.6           </td><td>5.5           </td><td>1.7           </td></tr>\n",
       "\t<tr><td>Austria       </td><td> 8.9          </td><td>14.0          </td><td>4.3           </td><td>19.9          </td><td>2.1           </td><td>28.0          </td><td>3.6           </td><td>1.3           </td><td>4.3           </td></tr>\n",
       "\t<tr><td>Belgium       </td><td>13.5          </td><td> 9.3          </td><td>4.1           </td><td>17.5          </td><td>4.5           </td><td>26.6          </td><td>5.7           </td><td>2.1           </td><td>4.0           </td></tr>\n",
       "\t<tr><td>Bulgaria      </td><td> 7.8          </td><td> 6.0          </td><td>1.6           </td><td> 8.3          </td><td>1.2           </td><td>56.7          </td><td>1.1           </td><td>3.7           </td><td>4.2           </td></tr>\n",
       "\t<tr><td>Czechoslovakia</td><td> 9.7          </td><td>11.4          </td><td>2.8           </td><td>12.5          </td><td>2.0           </td><td>34.3          </td><td>5.0           </td><td>1.1           </td><td>4.0           </td></tr>\n",
       "\t<tr><td>Denmark       </td><td>10.6          </td><td>10.8          </td><td>3.7           </td><td>25.0          </td><td>9.9           </td><td>21.9          </td><td>4.8           </td><td>0.7           </td><td>2.4           </td></tr>\n",
       "</tbody>\n",
       "</table>\n"
      ],
      "text/latex": [
       "\\begin{tabular}{r|llllllllll}\n",
       " Country & RedMeat & WhiteMeat & Eggs & Milk & Fish & Cereals & Starch & Nuts & Fr.Veg\\\\\n",
       "\\hline\n",
       "\t Albania        & 10.1           &  1.4           & 0.5            &  8.9           & 0.2            & 42.3           & 0.6            & 5.5            & 1.7           \\\\\n",
       "\t Austria        &  8.9           & 14.0           & 4.3            & 19.9           & 2.1            & 28.0           & 3.6            & 1.3            & 4.3           \\\\\n",
       "\t Belgium        & 13.5           &  9.3           & 4.1            & 17.5           & 4.5            & 26.6           & 5.7            & 2.1            & 4.0           \\\\\n",
       "\t Bulgaria       &  7.8           &  6.0           & 1.6            &  8.3           & 1.2            & 56.7           & 1.1            & 3.7            & 4.2           \\\\\n",
       "\t Czechoslovakia &  9.7           & 11.4           & 2.8            & 12.5           & 2.0            & 34.3           & 5.0            & 1.1            & 4.0           \\\\\n",
       "\t Denmark        & 10.6           & 10.8           & 3.7            & 25.0           & 9.9            & 21.9           & 4.8            & 0.7            & 2.4           \\\\\n",
       "\\end{tabular}\n"
      ],
      "text/markdown": [
       "\n",
       "| Country | RedMeat | WhiteMeat | Eggs | Milk | Fish | Cereals | Starch | Nuts | Fr.Veg |\n",
       "|---|---|---|---|---|---|---|---|---|---|\n",
       "| Albania        | 10.1           |  1.4           | 0.5            |  8.9           | 0.2            | 42.3           | 0.6            | 5.5            | 1.7            |\n",
       "| Austria        |  8.9           | 14.0           | 4.3            | 19.9           | 2.1            | 28.0           | 3.6            | 1.3            | 4.3            |\n",
       "| Belgium        | 13.5           |  9.3           | 4.1            | 17.5           | 4.5            | 26.6           | 5.7            | 2.1            | 4.0            |\n",
       "| Bulgaria       |  7.8           |  6.0           | 1.6            |  8.3           | 1.2            | 56.7           | 1.1            | 3.7            | 4.2            |\n",
       "| Czechoslovakia |  9.7           | 11.4           | 2.8            | 12.5           | 2.0            | 34.3           | 5.0            | 1.1            | 4.0            |\n",
       "| Denmark        | 10.6           | 10.8           | 3.7            | 25.0           | 9.9            | 21.9           | 4.8            | 0.7            | 2.4            |\n",
       "\n"
      ],
      "text/plain": [
       "  Country        RedMeat WhiteMeat Eggs Milk Fish Cereals Starch Nuts Fr.Veg\n",
       "1 Albania        10.1     1.4      0.5   8.9 0.2  42.3    0.6    5.5  1.7   \n",
       "2 Austria         8.9    14.0      4.3  19.9 2.1  28.0    3.6    1.3  4.3   \n",
       "3 Belgium        13.5     9.3      4.1  17.5 4.5  26.6    5.7    2.1  4.0   \n",
       "4 Bulgaria        7.8     6.0      1.6   8.3 1.2  56.7    1.1    3.7  4.2   \n",
       "5 Czechoslovakia  9.7    11.4      2.8  12.5 2.0  34.3    5.0    1.1  4.0   \n",
       "6 Denmark        10.6    10.8      3.7  25.0 9.9  21.9    4.8    0.7  2.4   "
      ]
     },
     "metadata": {},
     "output_type": "display_data"
    }
   ],
   "source": [
    "url = 'http://www.biz.uiowa.edu/faculty/jledolter/DataMining/protein.csv'\n",
    "food <- read.csv(url)\n",
    "head(food)"
   ]
  },
  {
   "cell_type": "code",
   "execution_count": 63,
   "metadata": {},
   "outputs": [
    {
     "data": {
      "text/html": [
       "<table>\n",
       "<thead><tr><th scope=col>Country</th><th scope=col>RedMeat</th><th scope=col>WhiteMeat</th><th scope=col>Eggs</th><th scope=col>Milk</th><th scope=col>Fish</th><th scope=col>Cereals</th><th scope=col>Starch</th><th scope=col>Nuts</th><th scope=col>Fr.Veg</th></tr></thead>\n",
       "<tbody>\n",
       "\t<tr><td>Albania       </td><td>10.1          </td><td> 1.4          </td><td>0.5           </td><td> 8.9          </td><td> 0.2          </td><td>42.3          </td><td>0.6           </td><td>5.5           </td><td>1.7           </td></tr>\n",
       "\t<tr><td>Austria       </td><td> 8.9          </td><td>14.0          </td><td>4.3           </td><td>19.9          </td><td> 2.1          </td><td>28.0          </td><td>3.6           </td><td>1.3           </td><td>4.3           </td></tr>\n",
       "\t<tr><td>Belgium       </td><td>13.5          </td><td> 9.3          </td><td>4.1           </td><td>17.5          </td><td> 4.5          </td><td>26.6          </td><td>5.7           </td><td>2.1           </td><td>4.0           </td></tr>\n",
       "\t<tr><td>Bulgaria      </td><td> 7.8          </td><td> 6.0          </td><td>1.6           </td><td> 8.3          </td><td> 1.2          </td><td>56.7          </td><td>1.1           </td><td>3.7           </td><td>4.2           </td></tr>\n",
       "\t<tr><td>Czechoslovakia</td><td> 9.7          </td><td>11.4          </td><td>2.8           </td><td>12.5          </td><td> 2.0          </td><td>34.3          </td><td>5.0           </td><td>1.1           </td><td>4.0           </td></tr>\n",
       "\t<tr><td>Denmark       </td><td>10.6          </td><td>10.8          </td><td>3.7           </td><td>25.0          </td><td> 9.9          </td><td>21.9          </td><td>4.8           </td><td>0.7           </td><td>2.4           </td></tr>\n",
       "\t<tr><td>E Germany     </td><td> 8.4          </td><td>11.6          </td><td>3.7           </td><td>11.1          </td><td> 5.4          </td><td>24.6          </td><td>6.5           </td><td>0.8           </td><td>3.6           </td></tr>\n",
       "\t<tr><td>Finland       </td><td> 9.5          </td><td> 4.9          </td><td>2.7           </td><td>33.7          </td><td> 5.8          </td><td>26.3          </td><td>5.1           </td><td>1.0           </td><td>1.4           </td></tr>\n",
       "\t<tr><td>France        </td><td>18.0          </td><td> 9.9          </td><td>3.3           </td><td>19.5          </td><td> 5.7          </td><td>28.1          </td><td>4.8           </td><td>2.4           </td><td>6.5           </td></tr>\n",
       "\t<tr><td>Greece        </td><td>10.2          </td><td> 3.0          </td><td>2.8           </td><td>17.6          </td><td> 5.9          </td><td>41.7          </td><td>2.2           </td><td>7.8           </td><td>6.5           </td></tr>\n",
       "\t<tr><td>Hungary       </td><td> 5.3          </td><td>12.4          </td><td>2.9           </td><td> 9.7          </td><td> 0.3          </td><td>40.1          </td><td>4.0           </td><td>5.4           </td><td>4.2           </td></tr>\n",
       "\t<tr><td>Ireland       </td><td>13.9          </td><td>10.0          </td><td>4.7           </td><td>25.8          </td><td> 2.2          </td><td>24.0          </td><td>6.2           </td><td>1.6           </td><td>2.9           </td></tr>\n",
       "\t<tr><td>Italy         </td><td> 9.0          </td><td> 5.1          </td><td>2.9           </td><td>13.7          </td><td> 3.4          </td><td>36.8          </td><td>2.1           </td><td>4.3           </td><td>6.7           </td></tr>\n",
       "\t<tr><td>Netherlands   </td><td> 9.5          </td><td>13.6          </td><td>3.6           </td><td>23.4          </td><td> 2.5          </td><td>22.4          </td><td>4.2           </td><td>1.8           </td><td>3.7           </td></tr>\n",
       "\t<tr><td>Norway        </td><td> 9.4          </td><td> 4.7          </td><td>2.7           </td><td>23.3          </td><td> 9.7          </td><td>23.0          </td><td>4.6           </td><td>1.6           </td><td>2.7           </td></tr>\n",
       "\t<tr><td>Poland        </td><td> 6.9          </td><td>10.2          </td><td>2.7           </td><td>19.3          </td><td> 3.0          </td><td>36.1          </td><td>5.9           </td><td>2.0           </td><td>6.6           </td></tr>\n",
       "\t<tr><td>Portugal      </td><td> 6.2          </td><td> 3.7          </td><td>1.1           </td><td> 4.9          </td><td>14.2          </td><td>27.0          </td><td>5.9           </td><td>4.7           </td><td>7.9           </td></tr>\n",
       "\t<tr><td>Romania       </td><td> 6.2          </td><td> 6.3          </td><td>1.5           </td><td>11.1          </td><td> 1.0          </td><td>49.6          </td><td>3.1           </td><td>5.3           </td><td>2.8           </td></tr>\n",
       "\t<tr><td>Spain         </td><td> 7.1          </td><td> 3.4          </td><td>3.1           </td><td> 8.6          </td><td> 7.0          </td><td>29.2          </td><td>5.7           </td><td>5.9           </td><td>7.2           </td></tr>\n",
       "\t<tr><td>Sweden        </td><td> 9.9          </td><td> 7.8          </td><td>3.5           </td><td>24.7          </td><td> 7.5          </td><td>19.5          </td><td>3.7           </td><td>1.4           </td><td>2.0           </td></tr>\n",
       "\t<tr><td>Switzerland   </td><td>13.1          </td><td>10.1          </td><td>3.1           </td><td>23.8          </td><td> 2.3          </td><td>25.6          </td><td>2.8           </td><td>2.4           </td><td>4.9           </td></tr>\n",
       "\t<tr><td>UK            </td><td>17.4          </td><td> 5.7          </td><td>4.7           </td><td>20.6          </td><td> 4.3          </td><td>24.3          </td><td>4.7           </td><td>3.4           </td><td>3.3           </td></tr>\n",
       "\t<tr><td>USSR          </td><td> 9.3          </td><td> 4.6          </td><td>2.1           </td><td>16.6          </td><td> 3.0          </td><td>43.6          </td><td>6.4           </td><td>3.4           </td><td>2.9           </td></tr>\n",
       "\t<tr><td>W Germany     </td><td>11.4          </td><td>12.5          </td><td>4.1           </td><td>18.8          </td><td> 3.4          </td><td>18.6          </td><td>5.2           </td><td>1.5           </td><td>3.8           </td></tr>\n",
       "\t<tr><td>Yugoslavia    </td><td> 4.4          </td><td> 5.0          </td><td>1.2           </td><td> 9.5          </td><td> 0.6          </td><td>55.9          </td><td>3.0           </td><td>5.7           </td><td>3.2           </td></tr>\n",
       "</tbody>\n",
       "</table>\n"
      ],
      "text/latex": [
       "\\begin{tabular}{r|llllllllll}\n",
       " Country & RedMeat & WhiteMeat & Eggs & Milk & Fish & Cereals & Starch & Nuts & Fr.Veg\\\\\n",
       "\\hline\n",
       "\t Albania        & 10.1           &  1.4           & 0.5            &  8.9           &  0.2           & 42.3           & 0.6            & 5.5            & 1.7           \\\\\n",
       "\t Austria        &  8.9           & 14.0           & 4.3            & 19.9           &  2.1           & 28.0           & 3.6            & 1.3            & 4.3           \\\\\n",
       "\t Belgium        & 13.5           &  9.3           & 4.1            & 17.5           &  4.5           & 26.6           & 5.7            & 2.1            & 4.0           \\\\\n",
       "\t Bulgaria       &  7.8           &  6.0           & 1.6            &  8.3           &  1.2           & 56.7           & 1.1            & 3.7            & 4.2           \\\\\n",
       "\t Czechoslovakia &  9.7           & 11.4           & 2.8            & 12.5           &  2.0           & 34.3           & 5.0            & 1.1            & 4.0           \\\\\n",
       "\t Denmark        & 10.6           & 10.8           & 3.7            & 25.0           &  9.9           & 21.9           & 4.8            & 0.7            & 2.4           \\\\\n",
       "\t E Germany      &  8.4           & 11.6           & 3.7            & 11.1           &  5.4           & 24.6           & 6.5            & 0.8            & 3.6           \\\\\n",
       "\t Finland        &  9.5           &  4.9           & 2.7            & 33.7           &  5.8           & 26.3           & 5.1            & 1.0            & 1.4           \\\\\n",
       "\t France         & 18.0           &  9.9           & 3.3            & 19.5           &  5.7           & 28.1           & 4.8            & 2.4            & 6.5           \\\\\n",
       "\t Greece         & 10.2           &  3.0           & 2.8            & 17.6           &  5.9           & 41.7           & 2.2            & 7.8            & 6.5           \\\\\n",
       "\t Hungary        &  5.3           & 12.4           & 2.9            &  9.7           &  0.3           & 40.1           & 4.0            & 5.4            & 4.2           \\\\\n",
       "\t Ireland        & 13.9           & 10.0           & 4.7            & 25.8           &  2.2           & 24.0           & 6.2            & 1.6            & 2.9           \\\\\n",
       "\t Italy          &  9.0           &  5.1           & 2.9            & 13.7           &  3.4           & 36.8           & 2.1            & 4.3            & 6.7           \\\\\n",
       "\t Netherlands    &  9.5           & 13.6           & 3.6            & 23.4           &  2.5           & 22.4           & 4.2            & 1.8            & 3.7           \\\\\n",
       "\t Norway         &  9.4           &  4.7           & 2.7            & 23.3           &  9.7           & 23.0           & 4.6            & 1.6            & 2.7           \\\\\n",
       "\t Poland         &  6.9           & 10.2           & 2.7            & 19.3           &  3.0           & 36.1           & 5.9            & 2.0            & 6.6           \\\\\n",
       "\t Portugal       &  6.2           &  3.7           & 1.1            &  4.9           & 14.2           & 27.0           & 5.9            & 4.7            & 7.9           \\\\\n",
       "\t Romania        &  6.2           &  6.3           & 1.5            & 11.1           &  1.0           & 49.6           & 3.1            & 5.3            & 2.8           \\\\\n",
       "\t Spain          &  7.1           &  3.4           & 3.1            &  8.6           &  7.0           & 29.2           & 5.7            & 5.9            & 7.2           \\\\\n",
       "\t Sweden         &  9.9           &  7.8           & 3.5            & 24.7           &  7.5           & 19.5           & 3.7            & 1.4            & 2.0           \\\\\n",
       "\t Switzerland    & 13.1           & 10.1           & 3.1            & 23.8           &  2.3           & 25.6           & 2.8            & 2.4            & 4.9           \\\\\n",
       "\t UK             & 17.4           &  5.7           & 4.7            & 20.6           &  4.3           & 24.3           & 4.7            & 3.4            & 3.3           \\\\\n",
       "\t USSR           &  9.3           &  4.6           & 2.1            & 16.6           &  3.0           & 43.6           & 6.4            & 3.4            & 2.9           \\\\\n",
       "\t W Germany      & 11.4           & 12.5           & 4.1            & 18.8           &  3.4           & 18.6           & 5.2            & 1.5            & 3.8           \\\\\n",
       "\t Yugoslavia     &  4.4           &  5.0           & 1.2            &  9.5           &  0.6           & 55.9           & 3.0            & 5.7            & 3.2           \\\\\n",
       "\\end{tabular}\n"
      ],
      "text/markdown": [
       "\n",
       "| Country | RedMeat | WhiteMeat | Eggs | Milk | Fish | Cereals | Starch | Nuts | Fr.Veg |\n",
       "|---|---|---|---|---|---|---|---|---|---|\n",
       "| Albania        | 10.1           |  1.4           | 0.5            |  8.9           |  0.2           | 42.3           | 0.6            | 5.5            | 1.7            |\n",
       "| Austria        |  8.9           | 14.0           | 4.3            | 19.9           |  2.1           | 28.0           | 3.6            | 1.3            | 4.3            |\n",
       "| Belgium        | 13.5           |  9.3           | 4.1            | 17.5           |  4.5           | 26.6           | 5.7            | 2.1            | 4.0            |\n",
       "| Bulgaria       |  7.8           |  6.0           | 1.6            |  8.3           |  1.2           | 56.7           | 1.1            | 3.7            | 4.2            |\n",
       "| Czechoslovakia |  9.7           | 11.4           | 2.8            | 12.5           |  2.0           | 34.3           | 5.0            | 1.1            | 4.0            |\n",
       "| Denmark        | 10.6           | 10.8           | 3.7            | 25.0           |  9.9           | 21.9           | 4.8            | 0.7            | 2.4            |\n",
       "| E Germany      |  8.4           | 11.6           | 3.7            | 11.1           |  5.4           | 24.6           | 6.5            | 0.8            | 3.6            |\n",
       "| Finland        |  9.5           |  4.9           | 2.7            | 33.7           |  5.8           | 26.3           | 5.1            | 1.0            | 1.4            |\n",
       "| France         | 18.0           |  9.9           | 3.3            | 19.5           |  5.7           | 28.1           | 4.8            | 2.4            | 6.5            |\n",
       "| Greece         | 10.2           |  3.0           | 2.8            | 17.6           |  5.9           | 41.7           | 2.2            | 7.8            | 6.5            |\n",
       "| Hungary        |  5.3           | 12.4           | 2.9            |  9.7           |  0.3           | 40.1           | 4.0            | 5.4            | 4.2            |\n",
       "| Ireland        | 13.9           | 10.0           | 4.7            | 25.8           |  2.2           | 24.0           | 6.2            | 1.6            | 2.9            |\n",
       "| Italy          |  9.0           |  5.1           | 2.9            | 13.7           |  3.4           | 36.8           | 2.1            | 4.3            | 6.7            |\n",
       "| Netherlands    |  9.5           | 13.6           | 3.6            | 23.4           |  2.5           | 22.4           | 4.2            | 1.8            | 3.7            |\n",
       "| Norway         |  9.4           |  4.7           | 2.7            | 23.3           |  9.7           | 23.0           | 4.6            | 1.6            | 2.7            |\n",
       "| Poland         |  6.9           | 10.2           | 2.7            | 19.3           |  3.0           | 36.1           | 5.9            | 2.0            | 6.6            |\n",
       "| Portugal       |  6.2           |  3.7           | 1.1            |  4.9           | 14.2           | 27.0           | 5.9            | 4.7            | 7.9            |\n",
       "| Romania        |  6.2           |  6.3           | 1.5            | 11.1           |  1.0           | 49.6           | 3.1            | 5.3            | 2.8            |\n",
       "| Spain          |  7.1           |  3.4           | 3.1            |  8.6           |  7.0           | 29.2           | 5.7            | 5.9            | 7.2            |\n",
       "| Sweden         |  9.9           |  7.8           | 3.5            | 24.7           |  7.5           | 19.5           | 3.7            | 1.4            | 2.0            |\n",
       "| Switzerland    | 13.1           | 10.1           | 3.1            | 23.8           |  2.3           | 25.6           | 2.8            | 2.4            | 4.9            |\n",
       "| UK             | 17.4           |  5.7           | 4.7            | 20.6           |  4.3           | 24.3           | 4.7            | 3.4            | 3.3            |\n",
       "| USSR           |  9.3           |  4.6           | 2.1            | 16.6           |  3.0           | 43.6           | 6.4            | 3.4            | 2.9            |\n",
       "| W Germany      | 11.4           | 12.5           | 4.1            | 18.8           |  3.4           | 18.6           | 5.2            | 1.5            | 3.8            |\n",
       "| Yugoslavia     |  4.4           |  5.0           | 1.2            |  9.5           |  0.6           | 55.9           | 3.0            | 5.7            | 3.2            |\n",
       "\n"
      ],
      "text/plain": [
       "   Country        RedMeat WhiteMeat Eggs Milk Fish Cereals Starch Nuts Fr.Veg\n",
       "1  Albania        10.1     1.4      0.5   8.9  0.2 42.3    0.6    5.5  1.7   \n",
       "2  Austria         8.9    14.0      4.3  19.9  2.1 28.0    3.6    1.3  4.3   \n",
       "3  Belgium        13.5     9.3      4.1  17.5  4.5 26.6    5.7    2.1  4.0   \n",
       "4  Bulgaria        7.8     6.0      1.6   8.3  1.2 56.7    1.1    3.7  4.2   \n",
       "5  Czechoslovakia  9.7    11.4      2.8  12.5  2.0 34.3    5.0    1.1  4.0   \n",
       "6  Denmark        10.6    10.8      3.7  25.0  9.9 21.9    4.8    0.7  2.4   \n",
       "7  E Germany       8.4    11.6      3.7  11.1  5.4 24.6    6.5    0.8  3.6   \n",
       "8  Finland         9.5     4.9      2.7  33.7  5.8 26.3    5.1    1.0  1.4   \n",
       "9  France         18.0     9.9      3.3  19.5  5.7 28.1    4.8    2.4  6.5   \n",
       "10 Greece         10.2     3.0      2.8  17.6  5.9 41.7    2.2    7.8  6.5   \n",
       "11 Hungary         5.3    12.4      2.9   9.7  0.3 40.1    4.0    5.4  4.2   \n",
       "12 Ireland        13.9    10.0      4.7  25.8  2.2 24.0    6.2    1.6  2.9   \n",
       "13 Italy           9.0     5.1      2.9  13.7  3.4 36.8    2.1    4.3  6.7   \n",
       "14 Netherlands     9.5    13.6      3.6  23.4  2.5 22.4    4.2    1.8  3.7   \n",
       "15 Norway          9.4     4.7      2.7  23.3  9.7 23.0    4.6    1.6  2.7   \n",
       "16 Poland          6.9    10.2      2.7  19.3  3.0 36.1    5.9    2.0  6.6   \n",
       "17 Portugal        6.2     3.7      1.1   4.9 14.2 27.0    5.9    4.7  7.9   \n",
       "18 Romania         6.2     6.3      1.5  11.1  1.0 49.6    3.1    5.3  2.8   \n",
       "19 Spain           7.1     3.4      3.1   8.6  7.0 29.2    5.7    5.9  7.2   \n",
       "20 Sweden          9.9     7.8      3.5  24.7  7.5 19.5    3.7    1.4  2.0   \n",
       "21 Switzerland    13.1    10.1      3.1  23.8  2.3 25.6    2.8    2.4  4.9   \n",
       "22 UK             17.4     5.7      4.7  20.6  4.3 24.3    4.7    3.4  3.3   \n",
       "23 USSR            9.3     4.6      2.1  16.6  3.0 43.6    6.4    3.4  2.9   \n",
       "24 W Germany      11.4    12.5      4.1  18.8  3.4 18.6    5.2    1.5  3.8   \n",
       "25 Yugoslavia      4.4     5.0      1.2   9.5  0.6 55.9    3.0    5.7  3.2   "
      ]
     },
     "metadata": {},
     "output_type": "display_data"
    }
   ],
   "source": [
    "food"
   ]
  },
  {
   "cell_type": "code",
   "execution_count": 64,
   "metadata": {},
   "outputs": [
    {
     "data": {
      "text/plain": [
       "           Country      RedMeat         WhiteMeat           Eggs      \n",
       " Albania       : 1   Min.   : 4.400   Min.   : 1.400   Min.   :0.500  \n",
       " Austria       : 1   1st Qu.: 7.800   1st Qu.: 4.900   1st Qu.:2.700  \n",
       " Belgium       : 1   Median : 9.500   Median : 7.800   Median :2.900  \n",
       " Bulgaria      : 1   Mean   : 9.828   Mean   : 7.896   Mean   :2.936  \n",
       " Czechoslovakia: 1   3rd Qu.:10.600   3rd Qu.:10.800   3rd Qu.:3.700  \n",
       " Denmark       : 1   Max.   :18.000   Max.   :14.000   Max.   :4.700  \n",
       " (Other)       :19                                                    \n",
       "      Milk            Fish           Cereals          Starch     \n",
       " Min.   : 4.90   Min.   : 0.200   Min.   :18.60   Min.   :0.600  \n",
       " 1st Qu.:11.10   1st Qu.: 2.100   1st Qu.:24.30   1st Qu.:3.100  \n",
       " Median :17.60   Median : 3.400   Median :28.00   Median :4.700  \n",
       " Mean   :17.11   Mean   : 4.284   Mean   :32.25   Mean   :4.276  \n",
       " 3rd Qu.:23.30   3rd Qu.: 5.800   3rd Qu.:40.10   3rd Qu.:5.700  \n",
       " Max.   :33.70   Max.   :14.200   Max.   :56.70   Max.   :6.500  \n",
       "                                                                 \n",
       "      Nuts           Fr.Veg     \n",
       " Min.   :0.700   Min.   :1.400  \n",
       " 1st Qu.:1.500   1st Qu.:2.900  \n",
       " Median :2.400   Median :3.800  \n",
       " Mean   :3.072   Mean   :4.136  \n",
       " 3rd Qu.:4.700   3rd Qu.:4.900  \n",
       " Max.   :7.800   Max.   :7.900  \n",
       "                                "
      ]
     },
     "metadata": {},
     "output_type": "display_data"
    }
   ],
   "source": [
    "summary(food)"
   ]
  },
  {
   "cell_type": "code",
   "execution_count": 65,
   "metadata": {},
   "outputs": [],
   "source": [
    "# Settando esta semente (seed) para que possamos ter o mínimo de controle do aleatório\n",
    "set.seed(123456789)"
   ]
  },
  {
   "cell_type": "code",
   "execution_count": 70,
   "metadata": {},
   "outputs": [],
   "source": [
    "# Agrupando em 4 grupos, considerando apenas o consumo dos dois insumos RedMeat e WhiteMeat\n",
    "grpMeat <- kmeans(food[,c(\"RedMeat\",\"WhiteMeat\")],centers=4,nstart=10)"
   ]
  },
  {
   "cell_type": "code",
   "execution_count": 67,
   "metadata": {},
   "outputs": [
    {
     "data": {
      "text/plain": [
       "K-means clustering with 4 clusters of sizes 7, 8, 5, 5\n",
       "\n",
       "Cluster means:\n",
       "    RedMeat WhiteMeat\n",
       "1  9.628571    4.5000\n",
       "2  8.837500   12.0625\n",
       "3 15.180000    9.0000\n",
       "4  6.340000    4.8800\n",
       "\n",
       "Clustering vector:\n",
       " [1] 1 2 3 4 2 2 2 1 3 1 2 3 1 2 1 2 4 4 4 1 3 3 1 2 4\n",
       "\n",
       "Within cluster sum of squares by cluster:\n",
       "[1] 24.51429 39.45750 35.66800 13.38000\n",
       " (between_SS / total_SS =  81.0 %)\n",
       "\n",
       "Available components:\n",
       "\n",
       "[1] \"cluster\"      \"centers\"      \"totss\"        \"withinss\"     \"tot.withinss\"\n",
       "[6] \"betweenss\"    \"size\"         \"iter\"         \"ifault\"      "
      ]
     },
     "metadata": {},
     "output_type": "display_data"
    }
   ],
   "source": [
    "grpMeat"
   ]
  },
  {
   "cell_type": "code",
   "execution_count": 69,
   "metadata": {},
   "outputs": [
    {
     "data": {
      "text/html": [
       "<ol class=list-inline>\n",
       "\t<li>2</li>\n",
       "\t<li>5</li>\n",
       "\t<li>6</li>\n",
       "\t<li>7</li>\n",
       "\t<li>11</li>\n",
       "\t<li>14</li>\n",
       "\t<li>16</li>\n",
       "\t<li>24</li>\n",
       "\t<li>4</li>\n",
       "\t<li>17</li>\n",
       "\t<li>18</li>\n",
       "\t<li>19</li>\n",
       "\t<li>25</li>\n",
       "\t<li>1</li>\n",
       "\t<li>8</li>\n",
       "\t<li>10</li>\n",
       "\t<li>13</li>\n",
       "\t<li>15</li>\n",
       "\t<li>20</li>\n",
       "\t<li>23</li>\n",
       "\t<li>3</li>\n",
       "\t<li>9</li>\n",
       "\t<li>12</li>\n",
       "\t<li>21</li>\n",
       "\t<li>22</li>\n",
       "</ol>\n"
      ],
      "text/latex": [
       "\\begin{enumerate*}\n",
       "\\item 2\n",
       "\\item 5\n",
       "\\item 6\n",
       "\\item 7\n",
       "\\item 11\n",
       "\\item 14\n",
       "\\item 16\n",
       "\\item 24\n",
       "\\item 4\n",
       "\\item 17\n",
       "\\item 18\n",
       "\\item 19\n",
       "\\item 25\n",
       "\\item 1\n",
       "\\item 8\n",
       "\\item 10\n",
       "\\item 13\n",
       "\\item 15\n",
       "\\item 20\n",
       "\\item 23\n",
       "\\item 3\n",
       "\\item 9\n",
       "\\item 12\n",
       "\\item 21\n",
       "\\item 22\n",
       "\\end{enumerate*}\n"
      ],
      "text/markdown": [
       "1. 2\n",
       "2. 5\n",
       "3. 6\n",
       "4. 7\n",
       "5. 11\n",
       "6. 14\n",
       "7. 16\n",
       "8. 24\n",
       "9. 4\n",
       "10. 17\n",
       "11. 18\n",
       "12. 19\n",
       "13. 25\n",
       "14. 1\n",
       "15. 8\n",
       "16. 10\n",
       "17. 13\n",
       "18. 15\n",
       "19. 20\n",
       "20. 23\n",
       "21. 3\n",
       "22. 9\n",
       "23. 12\n",
       "24. 21\n",
       "25. 22\n",
       "\n",
       "\n"
      ],
      "text/plain": [
       " [1]  2  5  6  7 11 14 16 24  4 17 18 19 25  1  8 10 13 15 20 23  3  9 12 21 22"
      ]
     },
     "metadata": {},
     "output_type": "display_data"
    }
   ],
   "source": [
    "o = order(grpMeat$cluster)\n",
    "o"
   ]
  },
  {
   "cell_type": "code",
   "execution_count": 74,
   "metadata": {},
   "outputs": [
    {
     "data": {
      "text/html": [
       "<table>\n",
       "<thead><tr><th scope=col>food.Country.o.</th><th scope=col>grpMeat.cluster.o.</th></tr></thead>\n",
       "<tbody>\n",
       "\t<tr><td>Austria       </td><td>2             </td></tr>\n",
       "\t<tr><td>Czechoslovakia</td><td>2             </td></tr>\n",
       "\t<tr><td>Denmark       </td><td>2             </td></tr>\n",
       "\t<tr><td>E Germany     </td><td>2             </td></tr>\n",
       "\t<tr><td>Hungary       </td><td>2             </td></tr>\n",
       "\t<tr><td>Netherlands   </td><td>2             </td></tr>\n",
       "\t<tr><td>Poland        </td><td>2             </td></tr>\n",
       "\t<tr><td>W Germany     </td><td>2             </td></tr>\n",
       "\t<tr><td>Bulgaria      </td><td>3             </td></tr>\n",
       "\t<tr><td>Portugal      </td><td>3             </td></tr>\n",
       "\t<tr><td>Romania       </td><td>3             </td></tr>\n",
       "\t<tr><td>Spain         </td><td>3             </td></tr>\n",
       "\t<tr><td>Yugoslavia    </td><td>3             </td></tr>\n",
       "\t<tr><td>Albania       </td><td>4             </td></tr>\n",
       "\t<tr><td>Finland       </td><td>4             </td></tr>\n",
       "\t<tr><td>Greece        </td><td>4             </td></tr>\n",
       "\t<tr><td>Italy         </td><td>4             </td></tr>\n",
       "\t<tr><td>Norway        </td><td>4             </td></tr>\n",
       "\t<tr><td>Sweden        </td><td>4             </td></tr>\n",
       "\t<tr><td>USSR          </td><td>4             </td></tr>\n",
       "\t<tr><td>Belgium       </td><td>1             </td></tr>\n",
       "\t<tr><td>France        </td><td>1             </td></tr>\n",
       "\t<tr><td>Ireland       </td><td>1             </td></tr>\n",
       "\t<tr><td>Switzerland   </td><td>1             </td></tr>\n",
       "\t<tr><td>UK            </td><td>1             </td></tr>\n",
       "</tbody>\n",
       "</table>\n"
      ],
      "text/latex": [
       "\\begin{tabular}{r|ll}\n",
       " food.Country.o. & grpMeat.cluster.o.\\\\\n",
       "\\hline\n",
       "\t Austria        & 2             \\\\\n",
       "\t Czechoslovakia & 2             \\\\\n",
       "\t Denmark        & 2             \\\\\n",
       "\t E Germany      & 2             \\\\\n",
       "\t Hungary        & 2             \\\\\n",
       "\t Netherlands    & 2             \\\\\n",
       "\t Poland         & 2             \\\\\n",
       "\t W Germany      & 2             \\\\\n",
       "\t Bulgaria       & 3             \\\\\n",
       "\t Portugal       & 3             \\\\\n",
       "\t Romania        & 3             \\\\\n",
       "\t Spain          & 3             \\\\\n",
       "\t Yugoslavia     & 3             \\\\\n",
       "\t Albania        & 4             \\\\\n",
       "\t Finland        & 4             \\\\\n",
       "\t Greece         & 4             \\\\\n",
       "\t Italy          & 4             \\\\\n",
       "\t Norway         & 4             \\\\\n",
       "\t Sweden         & 4             \\\\\n",
       "\t USSR           & 4             \\\\\n",
       "\t Belgium        & 1             \\\\\n",
       "\t France         & 1             \\\\\n",
       "\t Ireland        & 1             \\\\\n",
       "\t Switzerland    & 1             \\\\\n",
       "\t UK             & 1             \\\\\n",
       "\\end{tabular}\n"
      ],
      "text/markdown": [
       "\n",
       "| food.Country.o. | grpMeat.cluster.o. |\n",
       "|---|---|\n",
       "| Austria        | 2              |\n",
       "| Czechoslovakia | 2              |\n",
       "| Denmark        | 2              |\n",
       "| E Germany      | 2              |\n",
       "| Hungary        | 2              |\n",
       "| Netherlands    | 2              |\n",
       "| Poland         | 2              |\n",
       "| W Germany      | 2              |\n",
       "| Bulgaria       | 3              |\n",
       "| Portugal       | 3              |\n",
       "| Romania        | 3              |\n",
       "| Spain          | 3              |\n",
       "| Yugoslavia     | 3              |\n",
       "| Albania        | 4              |\n",
       "| Finland        | 4              |\n",
       "| Greece         | 4              |\n",
       "| Italy          | 4              |\n",
       "| Norway         | 4              |\n",
       "| Sweden         | 4              |\n",
       "| USSR           | 4              |\n",
       "| Belgium        | 1              |\n",
       "| France         | 1              |\n",
       "| Ireland        | 1              |\n",
       "| Switzerland    | 1              |\n",
       "| UK             | 1              |\n",
       "\n"
      ],
      "text/plain": [
       "   food.Country.o. grpMeat.cluster.o.\n",
       "1  Austria         2                 \n",
       "2  Czechoslovakia  2                 \n",
       "3  Denmark         2                 \n",
       "4  E Germany       2                 \n",
       "5  Hungary         2                 \n",
       "6  Netherlands     2                 \n",
       "7  Poland          2                 \n",
       "8  W Germany       2                 \n",
       "9  Bulgaria        3                 \n",
       "10 Portugal        3                 \n",
       "11 Romania         3                 \n",
       "12 Spain           3                 \n",
       "13 Yugoslavia      3                 \n",
       "14 Albania         4                 \n",
       "15 Finland         4                 \n",
       "16 Greece          4                 \n",
       "17 Italy           4                 \n",
       "18 Norway          4                 \n",
       "19 Sweden          4                 \n",
       "20 USSR            4                 \n",
       "21 Belgium         1                 \n",
       "22 France          1                 \n",
       "23 Ireland         1                 \n",
       "24 Switzerland     1                 \n",
       "25 UK              1                 "
      ]
     },
     "metadata": {},
     "output_type": "display_data"
    }
   ],
   "source": [
    "# Criando novo dataframe por país, e o identificando no cluster\n",
    "data.frame(food$Country[o], grpMeat$cluster[o])"
   ]
  },
  {
   "cell_type": "code",
   "execution_count": 75,
   "metadata": {},
   "outputs": [
    {
     "data": {
      "image/png": "[encoded data removed]",
      "text/plain": [
       "plot without title"
      ]
     },
     "metadata": {},
     "output_type": "display_data"
    }
   ],
   "source": [
    "plot(food$Red, food$White, type=\"n\", xlim=c(3,19), xlab=\"Carne Vermelha\", ylab=\"Carne branca\")\n",
    "text(x=food$Red, y=food$White, food$Country, col=grpMeat$cluster)"
   ]
  },
  {
   "cell_type": "code",
   "execution_count": 97,
   "metadata": {},
   "outputs": [],
   "source": [
    "?cor"
   ]
  },
  {
   "cell_type": "code",
   "execution_count": 77,
   "metadata": {},
   "outputs": [
    {
     "data": {
      "text/html": [
       "0.153002709864027"
      ],
      "text/latex": [
       "0.153002709864027"
      ],
      "text/markdown": [
       "0.153002709864027"
      ],
      "text/plain": [
       "[1] 0.1530027"
      ]
     },
     "metadata": {},
     "output_type": "display_data"
    }
   ],
   "source": [
    "# Correlação entre carne branca e vermelha\n",
    "cor(food$Red,food$White)"
   ]
  },
  {
   "cell_type": "code",
   "execution_count": 78,
   "metadata": {},
   "outputs": [
    {
     "data": {
      "text/html": [
       "<table>\n",
       "<thead><tr><th scope=col>gradyear</th><th scope=col>gender</th><th scope=col>age</th><th scope=col>friends</th><th scope=col>basketball</th><th scope=col>football</th><th scope=col>soccer</th><th scope=col>softball</th><th scope=col>volleyball</th><th scope=col>swimming</th><th scope=col>...</th><th scope=col>blonde</th><th scope=col>mall</th><th scope=col>shopping</th><th scope=col>clothes</th><th scope=col>hollister</th><th scope=col>abercrombie</th><th scope=col>die</th><th scope=col>death</th><th scope=col>drunk</th><th scope=col>drugs</th></tr></thead>\n",
       "<tbody>\n",
       "\t<tr><td>2006  </td><td>M     </td><td>18.982</td><td> 7    </td><td>0     </td><td>0     </td><td>0     </td><td>0     </td><td>0     </td><td>0     </td><td>...   </td><td>0     </td><td>0     </td><td>0     </td><td>0     </td><td>0     </td><td>0     </td><td>0     </td><td>0     </td><td>0     </td><td>0     </td></tr>\n",
       "\t<tr><td>2006  </td><td>F     </td><td>18.801</td><td> 0    </td><td>0     </td><td>1     </td><td>0     </td><td>0     </td><td>0     </td><td>0     </td><td>...   </td><td>0     </td><td>1     </td><td>0     </td><td>0     </td><td>0     </td><td>0     </td><td>0     </td><td>0     </td><td>0     </td><td>0     </td></tr>\n",
       "\t<tr><td>2006  </td><td>M     </td><td>18.335</td><td>69    </td><td>0     </td><td>1     </td><td>0     </td><td>0     </td><td>0     </td><td>0     </td><td>...   </td><td>0     </td><td>0     </td><td>0     </td><td>0     </td><td>0     </td><td>0     </td><td>0     </td><td>1     </td><td>0     </td><td>0     </td></tr>\n",
       "</tbody>\n",
       "</table>\n"
      ],
      "text/latex": [
       "\\begin{tabular}{r|llllllllllllllllllllllllllllllllllllllll}\n",
       " gradyear & gender & age & friends & basketball & football & soccer & softball & volleyball & swimming & ... & blonde & mall & shopping & clothes & hollister & abercrombie & die & death & drunk & drugs\\\\\n",
       "\\hline\n",
       "\t 2006   & M      & 18.982 &  7     & 0      & 0      & 0      & 0      & 0      & 0      & ...    & 0      & 0      & 0      & 0      & 0      & 0      & 0      & 0      & 0      & 0     \\\\\n",
       "\t 2006   & F      & 18.801 &  0     & 0      & 1      & 0      & 0      & 0      & 0      & ...    & 0      & 1      & 0      & 0      & 0      & 0      & 0      & 0      & 0      & 0     \\\\\n",
       "\t 2006   & M      & 18.335 & 69     & 0      & 1      & 0      & 0      & 0      & 0      & ...    & 0      & 0      & 0      & 0      & 0      & 0      & 0      & 1      & 0      & 0     \\\\\n",
       "\\end{tabular}\n"
      ],
      "text/markdown": [
       "\n",
       "| gradyear | gender | age | friends | basketball | football | soccer | softball | volleyball | swimming | ... | blonde | mall | shopping | clothes | hollister | abercrombie | die | death | drunk | drugs |\n",
       "|---|---|---|---|---|---|---|---|---|---|---|---|---|---|---|---|---|---|---|---|---|\n",
       "| 2006   | M      | 18.982 |  7     | 0      | 0      | 0      | 0      | 0      | 0      | ...    | 0      | 0      | 0      | 0      | 0      | 0      | 0      | 0      | 0      | 0      |\n",
       "| 2006   | F      | 18.801 |  0     | 0      | 1      | 0      | 0      | 0      | 0      | ...    | 0      | 1      | 0      | 0      | 0      | 0      | 0      | 0      | 0      | 0      |\n",
       "| 2006   | M      | 18.335 | 69     | 0      | 1      | 0      | 0      | 0      | 0      | ...    | 0      | 0      | 0      | 0      | 0      | 0      | 0      | 1      | 0      | 0      |\n",
       "\n"
      ],
      "text/plain": [
       "  gradyear gender age    friends basketball football soccer softball volleyball\n",
       "1 2006     M      18.982  7      0          0        0      0        0         \n",
       "2 2006     F      18.801  0      0          1        0      0        0         \n",
       "3 2006     M      18.335 69      0          1        0      0        0         \n",
       "  swimming ... blonde mall shopping clothes hollister abercrombie die death\n",
       "1 0        ... 0      0    0        0       0         0           0   0    \n",
       "2 0        ... 0      1    0        0       0         0           0   0    \n",
       "3 0        ... 0      0    0        0       0         0           0   1    \n",
       "  drunk drugs\n",
       "1 0     0    \n",
       "2 0     0    \n",
       "3 0     0    "
      ]
     },
     "metadata": {},
     "output_type": "display_data"
    },
    {
     "data": {
      "text/html": [
       "<ol class=list-inline>\n",
       "\t<li>30000</li>\n",
       "\t<li>40</li>\n",
       "</ol>\n"
      ],
      "text/latex": [
       "\\begin{enumerate*}\n",
       "\\item 30000\n",
       "\\item 40\n",
       "\\end{enumerate*}\n"
      ],
      "text/markdown": [
       "1. 30000\n",
       "2. 40\n",
       "\n",
       "\n"
      ],
      "text/plain": [
       "[1] 30000    40"
      ]
     },
     "metadata": {},
     "output_type": "display_data"
    }
   ],
   "source": [
    "teens <- read.csv(\"https://raw.githubusercontent.com/brenden17/sklearnlab/master/facebook/snsdata.csv\")\n",
    "head(teens,3)\n",
    "dim(teens)"
   ]
  },
  {
   "cell_type": "code",
   "execution_count": 79,
   "metadata": {},
   "outputs": [
    {
     "data": {
      "text/plain": [
       "    gradyear     gender           age             friends      \n",
       " Min.   :2006   F   :22054   Min.   :  3.086   Min.   :  0.00  \n",
       " 1st Qu.:2007   M   : 5222   1st Qu.: 16.312   1st Qu.:  3.00  \n",
       " Median :2008   NA's: 2724   Median : 17.287   Median : 20.00  \n",
       " Mean   :2008                Mean   : 17.994   Mean   : 30.18  \n",
       " 3rd Qu.:2008                3rd Qu.: 18.259   3rd Qu.: 44.00  \n",
       " Max.   :2009                Max.   :106.927   Max.   :830.00  \n",
       "                             NA's   :5086                      \n",
       "   basketball         football           soccer           softball      \n",
       " Min.   : 0.0000   Min.   : 0.0000   Min.   : 0.0000   Min.   : 0.0000  \n",
       " 1st Qu.: 0.0000   1st Qu.: 0.0000   1st Qu.: 0.0000   1st Qu.: 0.0000  \n",
       " Median : 0.0000   Median : 0.0000   Median : 0.0000   Median : 0.0000  \n",
       " Mean   : 0.2673   Mean   : 0.2523   Mean   : 0.2228   Mean   : 0.1612  \n",
       " 3rd Qu.: 0.0000   3rd Qu.: 0.0000   3rd Qu.: 0.0000   3rd Qu.: 0.0000  \n",
       " Max.   :24.0000   Max.   :15.0000   Max.   :27.0000   Max.   :17.0000  \n",
       "                                                                        \n",
       "   volleyball         swimming        cheerleading       baseball      \n",
       " Min.   : 0.0000   Min.   : 0.0000   Min.   :0.0000   Min.   : 0.0000  \n",
       " 1st Qu.: 0.0000   1st Qu.: 0.0000   1st Qu.:0.0000   1st Qu.: 0.0000  \n",
       " Median : 0.0000   Median : 0.0000   Median :0.0000   Median : 0.0000  \n",
       " Mean   : 0.1431   Mean   : 0.1344   Mean   :0.1066   Mean   : 0.1049  \n",
       " 3rd Qu.: 0.0000   3rd Qu.: 0.0000   3rd Qu.:0.0000   3rd Qu.: 0.0000  \n",
       " Max.   :14.0000   Max.   :31.0000   Max.   :9.0000   Max.   :16.0000  \n",
       "                                                                       \n",
       "     tennis             sports           cute              sex          \n",
       " Min.   : 0.00000   Min.   : 0.00   Min.   : 0.0000   Min.   :  0.0000  \n",
       " 1st Qu.: 0.00000   1st Qu.: 0.00   1st Qu.: 0.0000   1st Qu.:  0.0000  \n",
       " Median : 0.00000   Median : 0.00   Median : 0.0000   Median :  0.0000  \n",
       " Mean   : 0.08733   Mean   : 0.14   Mean   : 0.3229   Mean   :  0.2094  \n",
       " 3rd Qu.: 0.00000   3rd Qu.: 0.00   3rd Qu.: 0.0000   3rd Qu.:  0.0000  \n",
       " Max.   :15.00000   Max.   :12.00   Max.   :18.0000   Max.   :114.0000  \n",
       "                                                                        \n",
       "      sexy              hot              kissed            dance        \n",
       " Min.   : 0.0000   Min.   : 0.0000   Min.   : 0.0000   Min.   : 0.0000  \n",
       " 1st Qu.: 0.0000   1st Qu.: 0.0000   1st Qu.: 0.0000   1st Qu.: 0.0000  \n",
       " Median : 0.0000   Median : 0.0000   Median : 0.0000   Median : 0.0000  \n",
       " Mean   : 0.1412   Mean   : 0.1266   Mean   : 0.1032   Mean   : 0.4252  \n",
       " 3rd Qu.: 0.0000   3rd Qu.: 0.0000   3rd Qu.: 0.0000   3rd Qu.: 0.0000  \n",
       " Max.   :18.0000   Max.   :10.0000   Max.   :26.0000   Max.   :30.0000  \n",
       "                                                                        \n",
       "      band            marching           music              rock        \n",
       " Min.   : 0.0000   Min.   : 0.0000   Min.   : 0.0000   Min.   : 0.0000  \n",
       " 1st Qu.: 0.0000   1st Qu.: 0.0000   1st Qu.: 0.0000   1st Qu.: 0.0000  \n",
       " Median : 0.0000   Median : 0.0000   Median : 0.0000   Median : 0.0000  \n",
       " Mean   : 0.2996   Mean   : 0.0406   Mean   : 0.7378   Mean   : 0.2433  \n",
       " 3rd Qu.: 0.0000   3rd Qu.: 0.0000   3rd Qu.: 1.0000   3rd Qu.: 0.0000  \n",
       " Max.   :66.0000   Max.   :11.0000   Max.   :64.0000   Max.   :21.0000  \n",
       "                                                                        \n",
       "      god              church            jesus             bible         \n",
       " Min.   : 0.0000   Min.   : 0.0000   Min.   : 0.0000   Min.   : 0.00000  \n",
       " 1st Qu.: 0.0000   1st Qu.: 0.0000   1st Qu.: 0.0000   1st Qu.: 0.00000  \n",
       " Median : 0.0000   Median : 0.0000   Median : 0.0000   Median : 0.00000  \n",
       " Mean   : 0.4653   Mean   : 0.2482   Mean   : 0.1121   Mean   : 0.02133  \n",
       " 3rd Qu.: 1.0000   3rd Qu.: 0.0000   3rd Qu.: 0.0000   3rd Qu.: 0.00000  \n",
       " Max.   :79.0000   Max.   :44.0000   Max.   :30.0000   Max.   :11.00000  \n",
       "                                                                         \n",
       "      hair             dress           blonde              mall        \n",
       " Min.   : 0.0000   Min.   :0.000   Min.   :  0.0000   Min.   : 0.0000  \n",
       " 1st Qu.: 0.0000   1st Qu.:0.000   1st Qu.:  0.0000   1st Qu.: 0.0000  \n",
       " Median : 0.0000   Median :0.000   Median :  0.0000   Median : 0.0000  \n",
       " Mean   : 0.4226   Mean   :0.111   Mean   :  0.0989   Mean   : 0.2574  \n",
       " 3rd Qu.: 0.0000   3rd Qu.:0.000   3rd Qu.:  0.0000   3rd Qu.: 0.0000  \n",
       " Max.   :37.0000   Max.   :9.000   Max.   :327.0000   Max.   :12.0000  \n",
       "                                                                       \n",
       "    shopping         clothes         hollister        abercrombie     \n",
       " Min.   : 0.000   Min.   :0.0000   Min.   :0.00000   Min.   :0.00000  \n",
       " 1st Qu.: 0.000   1st Qu.:0.0000   1st Qu.:0.00000   1st Qu.:0.00000  \n",
       " Median : 0.000   Median :0.0000   Median :0.00000   Median :0.00000  \n",
       " Mean   : 0.353   Mean   :0.1485   Mean   :0.06987   Mean   :0.05117  \n",
       " 3rd Qu.: 1.000   3rd Qu.:0.0000   3rd Qu.:0.00000   3rd Qu.:0.00000  \n",
       " Max.   :11.000   Max.   :8.0000   Max.   :9.00000   Max.   :8.00000  \n",
       "                                                                      \n",
       "      die              death             drunk             drugs         \n",
       " Min.   : 0.0000   Min.   : 0.0000   Min.   :0.00000   Min.   : 0.00000  \n",
       " 1st Qu.: 0.0000   1st Qu.: 0.0000   1st Qu.:0.00000   1st Qu.: 0.00000  \n",
       " Median : 0.0000   Median : 0.0000   Median :0.00000   Median : 0.00000  \n",
       " Mean   : 0.1841   Mean   : 0.1142   Mean   :0.08797   Mean   : 0.06043  \n",
       " 3rd Qu.: 0.0000   3rd Qu.: 0.0000   3rd Qu.:0.00000   3rd Qu.: 0.00000  \n",
       " Max.   :22.0000   Max.   :14.0000   Max.   :8.00000   Max.   :16.00000  \n",
       "                                                                         "
      ]
     },
     "metadata": {},
     "output_type": "display_data"
    }
   ],
   "source": [
    "# Sumarização\n",
    "summary(teens)"
   ]
  },
  {
   "cell_type": "markdown",
   "metadata": {},
   "source": []
  }
 ],
 "metadata": {
  "kernelspec": {
   "display_name": "R",
   "language": "R",
   "name": "ir"
  },
  "language_info": {
   "codemirror_mode": "r",
   "file_extension": ".r",
   "mimetype": "text/x-r-source",
   "name": "R",
   "pygments_lexer": "r",
   "version": "3.6.1"
  }
 },
 "nbformat": 4,
 "nbformat_minor": 2
}
