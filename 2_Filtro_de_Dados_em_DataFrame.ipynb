{
 "cells": [
  {
   "cell_type": "markdown",
   "metadata": {},
   "source": [
    "## 1 - Input de dados"
   ]
  },
  {
   "cell_type": "code",
   "execution_count": 1,
   "metadata": {},
   "outputs": [],
   "source": [
    "dados <- data.frame(ano = c(2001,2002,2003,2004,2005),\n",
    "                   captura = c(26,18,25,32,NA),\n",
    "                    porto=c(\"SP\",\"RS\",\"CE\",\"SC\",\"RN\"))"
   ]
  },
  {
   "cell_type": "code",
   "execution_count": 7,
   "metadata": {},
   "outputs": [
    {
     "data": {
      "text/html": [
       "<table>\n",
       "<caption>A data.frame: 5 × 3</caption>\n",
       "<thead>\n",
       "\t<tr><th scope=col>ano</th><th scope=col>captura</th><th scope=col>porto</th></tr>\n",
       "\t<tr><th scope=col>&lt;dbl&gt;</th><th scope=col>&lt;dbl&gt;</th><th scope=col>&lt;fct&gt;</th></tr>\n",
       "</thead>\n",
       "<tbody>\n",
       "\t<tr><td>2001</td><td>26</td><td>SP</td></tr>\n",
       "\t<tr><td>2002</td><td>18</td><td>RS</td></tr>\n",
       "\t<tr><td>2003</td><td>25</td><td>CE</td></tr>\n",
       "\t<tr><td>2004</td><td>32</td><td>SC</td></tr>\n",
       "\t<tr><td>2005</td><td>NA</td><td>RN</td></tr>\n",
       "</tbody>\n",
       "</table>\n"
      ],
      "text/latex": [
       "A data.frame: 5 × 3\n",
       "\\begin{tabular}{lll}\n",
       " ano & captura & porto\\\\\n",
       " <dbl> & <dbl> & <fct>\\\\\n",
       "\\hline\n",
       "\t 2001 & 26 & SP\\\\\n",
       "\t 2002 & 18 & RS\\\\\n",
       "\t 2003 & 25 & CE\\\\\n",
       "\t 2004 & 32 & SC\\\\\n",
       "\t 2005 & NA & RN\\\\\n",
       "\\end{tabular}\n"
      ],
      "text/markdown": [
       "\n",
       "A data.frame: 5 × 3\n",
       "\n",
       "| ano &lt;dbl&gt; | captura &lt;dbl&gt; | porto &lt;fct&gt; |\n",
       "|---|---|---|\n",
       "| 2001 | 26 | SP |\n",
       "| 2002 | 18 | RS |\n",
       "| 2003 | 25 | CE |\n",
       "| 2004 | 32 | SC |\n",
       "| 2005 | NA | RN |\n",
       "\n"
      ],
      "text/plain": [
       "  ano  captura porto\n",
       "1 2001 26      SP   \n",
       "2 2002 18      RS   \n",
       "3 2003 25      CE   \n",
       "4 2004 32      SC   \n",
       "5 2005 NA      RN   "
      ]
     },
     "metadata": {},
     "output_type": "display_data"
    }
   ],
   "source": [
    "dados"
   ]
  },
  {
   "cell_type": "markdown",
   "metadata": {},
   "source": [
    "### 2 - Dados do ano de 2004"
   ]
  },
  {
   "cell_type": "code",
   "execution_count": 2,
   "metadata": {},
   "outputs": [
    {
     "data": {
      "text/html": [
       "<table>\n",
       "<caption>A data.frame: 1 × 3</caption>\n",
       "<thead>\n",
       "\t<tr><th></th><th scope=col>ano</th><th scope=col>captura</th><th scope=col>porto</th></tr>\n",
       "\t<tr><th></th><th scope=col>&lt;dbl&gt;</th><th scope=col>&lt;dbl&gt;</th><th scope=col>&lt;fct&gt;</th></tr>\n",
       "</thead>\n",
       "<tbody>\n",
       "\t<tr><th scope=row>4</th><td>2004</td><td>32</td><td>SC</td></tr>\n",
       "</tbody>\n",
       "</table>\n"
      ],
      "text/latex": [
       "A data.frame: 1 × 3\n",
       "\\begin{tabular}{r|lll}\n",
       "  & ano & captura & porto\\\\\n",
       "  & <dbl> & <dbl> & <fct>\\\\\n",
       "\\hline\n",
       "\t4 & 2004 & 32 & SC\\\\\n",
       "\\end{tabular}\n"
      ],
      "text/markdown": [
       "\n",
       "A data.frame: 1 × 3\n",
       "\n",
       "| <!--/--> | ano &lt;dbl&gt; | captura &lt;dbl&gt; | porto &lt;fct&gt; |\n",
       "|---|---|---|---|\n",
       "| 4 | 2004 | 32 | SC |\n",
       "\n"
      ],
      "text/plain": [
       "  ano  captura porto\n",
       "4 2004 32      SC   "
      ]
     },
     "metadata": {},
     "output_type": "display_data"
    }
   ],
   "source": [
    "dados[dados$ano==2004,]"
   ]
  },
  {
   "cell_type": "code",
   "execution_count": 3,
   "metadata": {},
   "outputs": [
    {
     "data": {
      "text/html": [
       "<table>\n",
       "<caption>A data.frame: 1 × 3</caption>\n",
       "<thead>\n",
       "\t<tr><th></th><th scope=col>ano</th><th scope=col>captura</th><th scope=col>porto</th></tr>\n",
       "\t<tr><th></th><th scope=col>&lt;dbl&gt;</th><th scope=col>&lt;dbl&gt;</th><th scope=col>&lt;fct&gt;</th></tr>\n",
       "</thead>\n",
       "<tbody>\n",
       "\t<tr><th scope=row>4</th><td>2004</td><td>32</td><td>SC</td></tr>\n",
       "</tbody>\n",
       "</table>\n"
      ],
      "text/latex": [
       "A data.frame: 1 × 3\n",
       "\\begin{tabular}{r|lll}\n",
       "  & ano & captura & porto\\\\\n",
       "  & <dbl> & <dbl> & <fct>\\\\\n",
       "\\hline\n",
       "\t4 & 2004 & 32 & SC\\\\\n",
       "\\end{tabular}\n"
      ],
      "text/markdown": [
       "\n",
       "A data.frame: 1 × 3\n",
       "\n",
       "| <!--/--> | ano &lt;dbl&gt; | captura &lt;dbl&gt; | porto &lt;fct&gt; |\n",
       "|---|---|---|---|\n",
       "| 4 | 2004 | 32 | SC |\n",
       "\n"
      ],
      "text/plain": [
       "  ano  captura porto\n",
       "4 2004 32      SC   "
      ]
     },
     "metadata": {},
     "output_type": "display_data"
    }
   ],
   "source": [
    "subset(dados,dados$ano ==2004)"
   ]
  },
  {
   "cell_type": "markdown",
   "metadata": {},
   "source": [
    "### 3 - Dados do estado de SC"
   ]
  },
  {
   "cell_type": "code",
   "execution_count": 4,
   "metadata": {},
   "outputs": [
    {
     "data": {
      "text/html": [
       "<table>\n",
       "<caption>A data.frame: 1 × 3</caption>\n",
       "<thead>\n",
       "\t<tr><th></th><th scope=col>ano</th><th scope=col>captura</th><th scope=col>porto</th></tr>\n",
       "\t<tr><th></th><th scope=col>&lt;dbl&gt;</th><th scope=col>&lt;dbl&gt;</th><th scope=col>&lt;fct&gt;</th></tr>\n",
       "</thead>\n",
       "<tbody>\n",
       "\t<tr><th scope=row>4</th><td>2004</td><td>32</td><td>SC</td></tr>\n",
       "</tbody>\n",
       "</table>\n"
      ],
      "text/latex": [
       "A data.frame: 1 × 3\n",
       "\\begin{tabular}{r|lll}\n",
       "  & ano & captura & porto\\\\\n",
       "  & <dbl> & <dbl> & <fct>\\\\\n",
       "\\hline\n",
       "\t4 & 2004 & 32 & SC\\\\\n",
       "\\end{tabular}\n"
      ],
      "text/markdown": [
       "\n",
       "A data.frame: 1 × 3\n",
       "\n",
       "| <!--/--> | ano &lt;dbl&gt; | captura &lt;dbl&gt; | porto &lt;fct&gt; |\n",
       "|---|---|---|---|\n",
       "| 4 | 2004 | 32 | SC |\n",
       "\n"
      ],
      "text/plain": [
       "  ano  captura porto\n",
       "4 2004 32      SC   "
      ]
     },
     "metadata": {},
     "output_type": "display_data"
    }
   ],
   "source": [
    "dados[dados$porto==\"SC\",]"
   ]
  },
  {
   "cell_type": "code",
   "execution_count": 5,
   "metadata": {},
   "outputs": [
    {
     "data": {
      "text/html": [
       "<table>\n",
       "<caption>A data.frame: 1 × 3</caption>\n",
       "<thead>\n",
       "\t<tr><th></th><th scope=col>ano</th><th scope=col>captura</th><th scope=col>porto</th></tr>\n",
       "\t<tr><th></th><th scope=col>&lt;dbl&gt;</th><th scope=col>&lt;dbl&gt;</th><th scope=col>&lt;fct&gt;</th></tr>\n",
       "</thead>\n",
       "<tbody>\n",
       "\t<tr><th scope=row>4</th><td>2004</td><td>32</td><td>SC</td></tr>\n",
       "</tbody>\n",
       "</table>\n"
      ],
      "text/latex": [
       "A data.frame: 1 × 3\n",
       "\\begin{tabular}{r|lll}\n",
       "  & ano & captura & porto\\\\\n",
       "  & <dbl> & <dbl> & <fct>\\\\\n",
       "\\hline\n",
       "\t4 & 2004 & 32 & SC\\\\\n",
       "\\end{tabular}\n"
      ],
      "text/markdown": [
       "\n",
       "A data.frame: 1 × 3\n",
       "\n",
       "| <!--/--> | ano &lt;dbl&gt; | captura &lt;dbl&gt; | porto &lt;fct&gt; |\n",
       "|---|---|---|---|\n",
       "| 4 | 2004 | 32 | SC |\n",
       "\n"
      ],
      "text/plain": [
       "  ano  captura porto\n",
       "4 2004 32      SC   "
      ]
     },
     "metadata": {},
     "output_type": "display_data"
    }
   ],
   "source": [
    "subset(dados,dados$porto==\"SC\")"
   ]
  },
  {
   "cell_type": "markdown",
   "metadata": {},
   "source": [
    "## 4 - Dados que captura maior do que 25                                                           "
   ]
  },
  {
   "cell_type": "code",
   "execution_count": 6,
   "metadata": {},
   "outputs": [
    {
     "data": {
      "text/html": [
       "<table>\n",
       "<caption>A data.frame: 3 × 3</caption>\n",
       "<thead>\n",
       "\t<tr><th></th><th scope=col>ano</th><th scope=col>captura</th><th scope=col>porto</th></tr>\n",
       "\t<tr><th></th><th scope=col>&lt;dbl&gt;</th><th scope=col>&lt;dbl&gt;</th><th scope=col>&lt;fct&gt;</th></tr>\n",
       "</thead>\n",
       "<tbody>\n",
       "\t<tr><th scope=row>1</th><td>2001</td><td>26</td><td>SP</td></tr>\n",
       "\t<tr><th scope=row>4</th><td>2004</td><td>32</td><td>SC</td></tr>\n",
       "\t<tr><th scope=row>NA</th><td>  NA</td><td>NA</td><td>NA</td></tr>\n",
       "</tbody>\n",
       "</table>\n"
      ],
      "text/latex": [
       "A data.frame: 3 × 3\n",
       "\\begin{tabular}{r|lll}\n",
       "  & ano & captura & porto\\\\\n",
       "  & <dbl> & <dbl> & <fct>\\\\\n",
       "\\hline\n",
       "\t1 & 2001 & 26 & SP\\\\\n",
       "\t4 & 2004 & 32 & SC\\\\\n",
       "\tNA &   NA & NA & NA\\\\\n",
       "\\end{tabular}\n"
      ],
      "text/markdown": [
       "\n",
       "A data.frame: 3 × 3\n",
       "\n",
       "| <!--/--> | ano &lt;dbl&gt; | captura &lt;dbl&gt; | porto &lt;fct&gt; |\n",
       "|---|---|---|---|\n",
       "| 1 | 2001 | 26 | SP |\n",
       "| 4 | 2004 | 32 | SC |\n",
       "| NA |   NA | NA | NA |\n",
       "\n"
      ],
      "text/plain": [
       "   ano  captura porto\n",
       "1  2001 26      SP   \n",
       "4  2004 32      SC   \n",
       "NA   NA NA      NA   "
      ]
     },
     "metadata": {},
     "output_type": "display_data"
    }
   ],
   "source": [
    "dados[dados$captura>25,]"
   ]
  },
  {
   "cell_type": "code",
   "execution_count": 8,
   "metadata": {},
   "outputs": [
    {
     "data": {
      "text/html": [
       "<table>\n",
       "<caption>A data.frame: 2 × 3</caption>\n",
       "<thead>\n",
       "\t<tr><th></th><th scope=col>ano</th><th scope=col>captura</th><th scope=col>porto</th></tr>\n",
       "\t<tr><th></th><th scope=col>&lt;dbl&gt;</th><th scope=col>&lt;dbl&gt;</th><th scope=col>&lt;fct&gt;</th></tr>\n",
       "</thead>\n",
       "<tbody>\n",
       "\t<tr><th scope=row>1</th><td>2001</td><td>26</td><td>SP</td></tr>\n",
       "\t<tr><th scope=row>4</th><td>2004</td><td>32</td><td>SC</td></tr>\n",
       "</tbody>\n",
       "</table>\n"
      ],
      "text/latex": [
       "A data.frame: 2 × 3\n",
       "\\begin{tabular}{r|lll}\n",
       "  & ano & captura & porto\\\\\n",
       "  & <dbl> & <dbl> & <fct>\\\\\n",
       "\\hline\n",
       "\t1 & 2001 & 26 & SP\\\\\n",
       "\t4 & 2004 & 32 & SC\\\\\n",
       "\\end{tabular}\n"
      ],
      "text/markdown": [
       "\n",
       "A data.frame: 2 × 3\n",
       "\n",
       "| <!--/--> | ano &lt;dbl&gt; | captura &lt;dbl&gt; | porto &lt;fct&gt; |\n",
       "|---|---|---|---|\n",
       "| 1 | 2001 | 26 | SP |\n",
       "| 4 | 2004 | 32 | SC |\n",
       "\n"
      ],
      "text/plain": [
       "  ano  captura porto\n",
       "1 2001 26      SP   \n",
       "4 2004 32      SC   "
      ]
     },
     "metadata": {},
     "output_type": "display_data"
    }
   ],
   "source": [
    "subset(dados,dados$captura>25)"
   ]
  },
  {
   "cell_type": "markdown",
   "metadata": {},
   "source": [
    "## 5 - Dados em que captura maior do que 24 e estado do CE"
   ]
  },
  {
   "cell_type": "code",
   "execution_count": 10,
   "metadata": {},
   "outputs": [
    {
     "data": {
      "text/html": [
       "<table>\n",
       "<caption>A data.frame: 1 × 3</caption>\n",
       "<thead>\n",
       "\t<tr><th></th><th scope=col>ano</th><th scope=col>captura</th><th scope=col>porto</th></tr>\n",
       "\t<tr><th></th><th scope=col>&lt;dbl&gt;</th><th scope=col>&lt;dbl&gt;</th><th scope=col>&lt;fct&gt;</th></tr>\n",
       "</thead>\n",
       "<tbody>\n",
       "\t<tr><th scope=row>3</th><td>2003</td><td>25</td><td>CE</td></tr>\n",
       "</tbody>\n",
       "</table>\n"
      ],
      "text/latex": [
       "A data.frame: 1 × 3\n",
       "\\begin{tabular}{r|lll}\n",
       "  & ano & captura & porto\\\\\n",
       "  & <dbl> & <dbl> & <fct>\\\\\n",
       "\\hline\n",
       "\t3 & 2003 & 25 & CE\\\\\n",
       "\\end{tabular}\n"
      ],
      "text/markdown": [
       "\n",
       "A data.frame: 1 × 3\n",
       "\n",
       "| <!--/--> | ano &lt;dbl&gt; | captura &lt;dbl&gt; | porto &lt;fct&gt; |\n",
       "|---|---|---|---|\n",
       "| 3 | 2003 | 25 | CE |\n",
       "\n"
      ],
      "text/plain": [
       "  ano  captura porto\n",
       "3 2003 25      CE   "
      ]
     },
     "metadata": {},
     "output_type": "display_data"
    }
   ],
   "source": [
    "dados[ dados$captura > 24   &  dados$porto == \"CE\",     ]"
   ]
  },
  {
   "cell_type": "code",
   "execution_count": 11,
   "metadata": {},
   "outputs": [
    {
     "data": {
      "text/html": [
       "<table>\n",
       "<caption>A data.frame: 1 × 3</caption>\n",
       "<thead>\n",
       "\t<tr><th></th><th scope=col>ano</th><th scope=col>captura</th><th scope=col>porto</th></tr>\n",
       "\t<tr><th></th><th scope=col>&lt;dbl&gt;</th><th scope=col>&lt;dbl&gt;</th><th scope=col>&lt;fct&gt;</th></tr>\n",
       "</thead>\n",
       "<tbody>\n",
       "\t<tr><th scope=row>3</th><td>2003</td><td>25</td><td>CE</td></tr>\n",
       "</tbody>\n",
       "</table>\n"
      ],
      "text/latex": [
       "A data.frame: 1 × 3\n",
       "\\begin{tabular}{r|lll}\n",
       "  & ano & captura & porto\\\\\n",
       "  & <dbl> & <dbl> & <fct>\\\\\n",
       "\\hline\n",
       "\t3 & 2003 & 25 & CE\\\\\n",
       "\\end{tabular}\n"
      ],
      "text/markdown": [
       "\n",
       "A data.frame: 1 × 3\n",
       "\n",
       "| <!--/--> | ano &lt;dbl&gt; | captura &lt;dbl&gt; | porto &lt;fct&gt; |\n",
       "|---|---|---|---|\n",
       "| 3 | 2003 | 25 | CE |\n",
       "\n"
      ],
      "text/plain": [
       "  ano  captura porto\n",
       "3 2003 25      CE   "
      ]
     },
     "metadata": {},
     "output_type": "display_data"
    }
   ],
   "source": [
    "subset(dados,dados$captura > 24 & dados$porto ==\"CE\")"
   ]
  },
  {
   "cell_type": "markdown",
   "metadata": {},
   "source": [
    "## 6 - Estados que possuem NA"
   ]
  },
  {
   "cell_type": "code",
   "execution_count": 14,
   "metadata": {},
   "outputs": [
    {
     "data": {
      "text/html": [
       "<table>\n",
       "<caption>A data.frame: 1 × 3</caption>\n",
       "<thead>\n",
       "\t<tr><th></th><th scope=col>ano</th><th scope=col>captura</th><th scope=col>porto</th></tr>\n",
       "\t<tr><th></th><th scope=col>&lt;dbl&gt;</th><th scope=col>&lt;dbl&gt;</th><th scope=col>&lt;fct&gt;</th></tr>\n",
       "</thead>\n",
       "<tbody>\n",
       "\t<tr><th scope=row>5</th><td>2005</td><td>NA</td><td>RN</td></tr>\n",
       "</tbody>\n",
       "</table>\n"
      ],
      "text/latex": [
       "A data.frame: 1 × 3\n",
       "\\begin{tabular}{r|lll}\n",
       "  & ano & captura & porto\\\\\n",
       "  & <dbl> & <dbl> & <fct>\\\\\n",
       "\\hline\n",
       "\t5 & 2005 & NA & RN\\\\\n",
       "\\end{tabular}\n"
      ],
      "text/markdown": [
       "\n",
       "A data.frame: 1 × 3\n",
       "\n",
       "| <!--/--> | ano &lt;dbl&gt; | captura &lt;dbl&gt; | porto &lt;fct&gt; |\n",
       "|---|---|---|---|\n",
       "| 5 | 2005 | NA | RN |\n",
       "\n"
      ],
      "text/plain": [
       "  ano  captura porto\n",
       "5 2005 NA      RN   "
      ]
     },
     "metadata": {},
     "output_type": "display_data"
    }
   ],
   "source": [
    "dados[is.na(dados$captura),]"
   ]
  },
  {
   "cell_type": "code",
   "execution_count": 16,
   "metadata": {},
   "outputs": [
    {
     "data": {
      "text/html": [
       "<table>\n",
       "<caption>A data.frame: 1 × 3</caption>\n",
       "<thead>\n",
       "\t<tr><th></th><th scope=col>ano</th><th scope=col>captura</th><th scope=col>porto</th></tr>\n",
       "\t<tr><th></th><th scope=col>&lt;dbl&gt;</th><th scope=col>&lt;dbl&gt;</th><th scope=col>&lt;fct&gt;</th></tr>\n",
       "</thead>\n",
       "<tbody>\n",
       "\t<tr><th scope=row>5</th><td>2005</td><td>NA</td><td>RN</td></tr>\n",
       "</tbody>\n",
       "</table>\n"
      ],
      "text/latex": [
       "A data.frame: 1 × 3\n",
       "\\begin{tabular}{r|lll}\n",
       "  & ano & captura & porto\\\\\n",
       "  & <dbl> & <dbl> & <fct>\\\\\n",
       "\\hline\n",
       "\t5 & 2005 & NA & RN\\\\\n",
       "\\end{tabular}\n"
      ],
      "text/markdown": [
       "\n",
       "A data.frame: 1 × 3\n",
       "\n",
       "| <!--/--> | ano &lt;dbl&gt; | captura &lt;dbl&gt; | porto &lt;fct&gt; |\n",
       "|---|---|---|---|\n",
       "| 5 | 2005 | NA | RN |\n",
       "\n"
      ],
      "text/plain": [
       "  ano  captura porto\n",
       "5 2005 NA      RN   "
      ]
     },
     "metadata": {},
     "output_type": "display_data"
    }
   ],
   "source": [
    "subset(dados,is.na(dados$captura))"
   ]
  },
  {
   "cell_type": "code",
   "execution_count": null,
   "metadata": {},
   "outputs": [],
   "source": []
  }
 ],
 "metadata": {
  "kernelspec": {
   "display_name": "R",
   "language": "R",
   "name": "ir"
  },
  "language_info": {
   "codemirror_mode": "r",
   "file_extension": ".r",
   "mimetype": "text/x-r-source",
   "name": "R",
   "pygments_lexer": "r",
   "version": "3.6.1"
  }
 },
 "nbformat": 4,
 "nbformat_minor": 4
}
