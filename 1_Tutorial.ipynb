{
 "cells": [
  {
   "cell_type": "markdown",
   "id": "controlled-error",
   "metadata": {},
   "source": [
    "## Getting started"
   ]
  },
  {
   "cell_type": "code",
   "execution_count": 1,
   "id": "catholic-shepherd",
   "metadata": {},
   "outputs": [
    {
     "name": "stderr",
     "output_type": "stream",
     "text": [
      "starting httpd help server ... done\n"
     ]
    },
    {
     "name": "stdout",
     "output_type": "stream",
     "text": [
      "If nothing happens, you should open\n",
      "'http://127.0.0.1:18703/doc/html/index.html' yourself\n"
     ]
    }
   ],
   "source": [
    "help.start()"
   ]
  },
  {
   "cell_type": "code",
   "execution_count": 2,
   "id": "drawn-transaction",
   "metadata": {},
   "outputs": [],
   "source": [
    "# ? = help\n",
    "# Como funciona o print?\n",
    "?print"
   ]
  },
  {
   "cell_type": "code",
   "execution_count": 5,
   "id": "scheduled-cabinet",
   "metadata": {},
   "outputs": [],
   "source": [
    "help.search('linear regression')"
   ]
  },
  {
   "cell_type": "code",
   "execution_count": 6,
   "id": "discrete-sellers",
   "metadata": {},
   "outputs": [
    {
     "data": {
      "text/html": [
       "'C:/Users/MorelRob/Documents/R'"
      ],
      "text/latex": [
       "'C:/Users/MorelRob/Documents/R'"
      ],
      "text/markdown": [
       "'C:/Users/MorelRob/Documents/R'"
      ],
      "text/plain": [
       "[1] \"C:/Users/MorelRob/Documents/R\""
      ]
     },
     "metadata": {},
     "output_type": "display_data"
    }
   ],
   "source": [
    "# Retorna o diretório atual\n",
    "getwd()"
   ]
  },
  {
   "cell_type": "code",
   "execution_count": 8,
   "id": "tough-reggae",
   "metadata": {},
   "outputs": [
    {
     "data": {
      "text/html": [
       "'C:/'"
      ],
      "text/latex": [
       "'C:/'"
      ],
      "text/markdown": [
       "'C:/'"
      ],
      "text/plain": [
       "[1] \"C:/\""
      ]
     },
     "metadata": {},
     "output_type": "display_data"
    }
   ],
   "source": [
    "# Setta um diretório\n",
    "setwd('C:/')\n",
    "getwd()"
   ]
  },
  {
   "cell_type": "code",
   "execution_count": 9,
   "id": "northern-identification",
   "metadata": {},
   "outputs": [
    {
     "data": {
      "text/html": [
       "<ol class=list-inline>\n",
       "\t<li>'$Recycle.Bin'</li>\n",
       "\t<li>'$WinREAgent'</li>\n",
       "\t<li>'bootTel.dat'</li>\n",
       "\t<li>'Config.Msi'</li>\n",
       "\t<li>'Data'</li>\n",
       "\t<li>'dev'</li>\n",
       "\t<li>'Documents and Settings'</li>\n",
       "\t<li>'DumpStack.log'</li>\n",
       "\t<li>'DumpStack.log.tmp'</li>\n",
       "\t<li>'hiberfil.sys'</li>\n",
       "\t<li>'HP'</li>\n",
       "\t<li>'HPEXPERIENCE'</li>\n",
       "\t<li>'Intel'</li>\n",
       "\t<li>'pagefile.sys'</li>\n",
       "\t<li>'PerfLogs'</li>\n",
       "\t<li>'Procurement Plaza.lnk'</li>\n",
       "\t<li>'Program Files'</li>\n",
       "\t<li>'Program Files (x86)'</li>\n",
       "\t<li>'ProgramData'</li>\n",
       "\t<li>'Python27'</li>\n",
       "\t<li>'Python38'</li>\n",
       "\t<li>'Quarantine'</li>\n",
       "\t<li>'Recovery'</li>\n",
       "\t<li>'swapfile.sys'</li>\n",
       "\t<li>'SWSetup'</li>\n",
       "\t<li>'System Volume Information'</li>\n",
       "\t<li>'System.sav'</li>\n",
       "\t<li>'Temp'</li>\n",
       "\t<li>'tools'</li>\n",
       "\t<li>'Users'</li>\n",
       "\t<li>'Windows'</li>\n",
       "</ol>\n"
      ],
      "text/latex": [
       "\\begin{enumerate*}\n",
       "\\item '\\$Recycle.Bin'\n",
       "\\item '\\$WinREAgent'\n",
       "\\item 'bootTel.dat'\n",
       "\\item 'Config.Msi'\n",
       "\\item 'Data'\n",
       "\\item 'dev'\n",
       "\\item 'Documents and Settings'\n",
       "\\item 'DumpStack.log'\n",
       "\\item 'DumpStack.log.tmp'\n",
       "\\item 'hiberfil.sys'\n",
       "\\item 'HP'\n",
       "\\item 'HPEXPERIENCE'\n",
       "\\item 'Intel'\n",
       "\\item 'pagefile.sys'\n",
       "\\item 'PerfLogs'\n",
       "\\item 'Procurement Plaza.lnk'\n",
       "\\item 'Program Files'\n",
       "\\item 'Program Files (x86)'\n",
       "\\item 'ProgramData'\n",
       "\\item 'Python27'\n",
       "\\item 'Python38'\n",
       "\\item 'Quarantine'\n",
       "\\item 'Recovery'\n",
       "\\item 'swapfile.sys'\n",
       "\\item 'SWSetup'\n",
       "\\item 'System Volume Information'\n",
       "\\item 'System.sav'\n",
       "\\item 'Temp'\n",
       "\\item 'tools'\n",
       "\\item 'Users'\n",
       "\\item 'Windows'\n",
       "\\end{enumerate*}\n"
      ],
      "text/markdown": [
       "1. '$Recycle.Bin'\n",
       "2. '$WinREAgent'\n",
       "3. 'bootTel.dat'\n",
       "4. 'Config.Msi'\n",
       "5. 'Data'\n",
       "6. 'dev'\n",
       "7. 'Documents and Settings'\n",
       "8. 'DumpStack.log'\n",
       "9. 'DumpStack.log.tmp'\n",
       "10. 'hiberfil.sys'\n",
       "11. 'HP'\n",
       "12. 'HPEXPERIENCE'\n",
       "13. 'Intel'\n",
       "14. 'pagefile.sys'\n",
       "15. 'PerfLogs'\n",
       "16. 'Procurement Plaza.lnk'\n",
       "17. 'Program Files'\n",
       "18. 'Program Files (x86)'\n",
       "19. 'ProgramData'\n",
       "20. 'Python27'\n",
       "21. 'Python38'\n",
       "22. 'Quarantine'\n",
       "23. 'Recovery'\n",
       "24. 'swapfile.sys'\n",
       "25. 'SWSetup'\n",
       "26. 'System Volume Information'\n",
       "27. 'System.sav'\n",
       "28. 'Temp'\n",
       "29. 'tools'\n",
       "30. 'Users'\n",
       "31. 'Windows'\n",
       "\n",
       "\n"
      ],
      "text/plain": [
       " [1] \"$Recycle.Bin\"              \"$WinREAgent\"              \n",
       " [3] \"bootTel.dat\"               \"Config.Msi\"               \n",
       " [5] \"Data\"                      \"dev\"                      \n",
       " [7] \"Documents and Settings\"    \"DumpStack.log\"            \n",
       " [9] \"DumpStack.log.tmp\"         \"hiberfil.sys\"             \n",
       "[11] \"HP\"                        \"HPEXPERIENCE\"             \n",
       "[13] \"Intel\"                     \"pagefile.sys\"             \n",
       "[15] \"PerfLogs\"                  \"Procurement Plaza.lnk\"    \n",
       "[17] \"Program Files\"             \"Program Files (x86)\"      \n",
       "[19] \"ProgramData\"               \"Python27\"                 \n",
       "[21] \"Python38\"                  \"Quarantine\"               \n",
       "[23] \"Recovery\"                  \"swapfile.sys\"             \n",
       "[25] \"SWSetup\"                   \"System Volume Information\"\n",
       "[27] \"System.sav\"                \"Temp\"                     \n",
       "[29] \"tools\"                     \"Users\"                    \n",
       "[31] \"Windows\"                  "
      ]
     },
     "metadata": {},
     "output_type": "display_data"
    }
   ],
   "source": [
    "# Lista as pastas que tem no diretório\n",
    "dir()"
   ]
  },
  {
   "cell_type": "code",
   "execution_count": 10,
   "id": "fifteen-paradise",
   "metadata": {},
   "outputs": [
    {
     "data": {
      "text/html": [
       "<ol class=list-inline>\n",
       "\t<li>'$Recycle.Bin'</li>\n",
       "\t<li>'$WinREAgent'</li>\n",
       "\t<li>'bootTel.dat'</li>\n",
       "\t<li>'Config.Msi'</li>\n",
       "\t<li>'Data'</li>\n",
       "\t<li>'dev'</li>\n",
       "\t<li>'Documents and Settings'</li>\n",
       "\t<li>'DumpStack.log'</li>\n",
       "\t<li>'DumpStack.log.tmp'</li>\n",
       "\t<li>'hiberfil.sys'</li>\n",
       "\t<li>'HP'</li>\n",
       "\t<li>'HPEXPERIENCE'</li>\n",
       "\t<li>'Intel'</li>\n",
       "\t<li>'pagefile.sys'</li>\n",
       "\t<li>'PerfLogs'</li>\n",
       "\t<li>'Procurement Plaza.lnk'</li>\n",
       "\t<li>'Program Files'</li>\n",
       "\t<li>'Program Files (x86)'</li>\n",
       "\t<li>'ProgramData'</li>\n",
       "\t<li>'Python27'</li>\n",
       "\t<li>'Python38'</li>\n",
       "\t<li>'Quarantine'</li>\n",
       "\t<li>'Recovery'</li>\n",
       "\t<li>'swapfile.sys'</li>\n",
       "\t<li>'SWSetup'</li>\n",
       "\t<li>'System Volume Information'</li>\n",
       "\t<li>'System.sav'</li>\n",
       "\t<li>'Temp'</li>\n",
       "\t<li>'tools'</li>\n",
       "\t<li>'Users'</li>\n",
       "\t<li>'Windows'</li>\n",
       "</ol>\n"
      ],
      "text/latex": [
       "\\begin{enumerate*}\n",
       "\\item '\\$Recycle.Bin'\n",
       "\\item '\\$WinREAgent'\n",
       "\\item 'bootTel.dat'\n",
       "\\item 'Config.Msi'\n",
       "\\item 'Data'\n",
       "\\item 'dev'\n",
       "\\item 'Documents and Settings'\n",
       "\\item 'DumpStack.log'\n",
       "\\item 'DumpStack.log.tmp'\n",
       "\\item 'hiberfil.sys'\n",
       "\\item 'HP'\n",
       "\\item 'HPEXPERIENCE'\n",
       "\\item 'Intel'\n",
       "\\item 'pagefile.sys'\n",
       "\\item 'PerfLogs'\n",
       "\\item 'Procurement Plaza.lnk'\n",
       "\\item 'Program Files'\n",
       "\\item 'Program Files (x86)'\n",
       "\\item 'ProgramData'\n",
       "\\item 'Python27'\n",
       "\\item 'Python38'\n",
       "\\item 'Quarantine'\n",
       "\\item 'Recovery'\n",
       "\\item 'swapfile.sys'\n",
       "\\item 'SWSetup'\n",
       "\\item 'System Volume Information'\n",
       "\\item 'System.sav'\n",
       "\\item 'Temp'\n",
       "\\item 'tools'\n",
       "\\item 'Users'\n",
       "\\item 'Windows'\n",
       "\\end{enumerate*}\n"
      ],
      "text/markdown": [
       "1. '$Recycle.Bin'\n",
       "2. '$WinREAgent'\n",
       "3. 'bootTel.dat'\n",
       "4. 'Config.Msi'\n",
       "5. 'Data'\n",
       "6. 'dev'\n",
       "7. 'Documents and Settings'\n",
       "8. 'DumpStack.log'\n",
       "9. 'DumpStack.log.tmp'\n",
       "10. 'hiberfil.sys'\n",
       "11. 'HP'\n",
       "12. 'HPEXPERIENCE'\n",
       "13. 'Intel'\n",
       "14. 'pagefile.sys'\n",
       "15. 'PerfLogs'\n",
       "16. 'Procurement Plaza.lnk'\n",
       "17. 'Program Files'\n",
       "18. 'Program Files (x86)'\n",
       "19. 'ProgramData'\n",
       "20. 'Python27'\n",
       "21. 'Python38'\n",
       "22. 'Quarantine'\n",
       "23. 'Recovery'\n",
       "24. 'swapfile.sys'\n",
       "25. 'SWSetup'\n",
       "26. 'System Volume Information'\n",
       "27. 'System.sav'\n",
       "28. 'Temp'\n",
       "29. 'tools'\n",
       "30. 'Users'\n",
       "31. 'Windows'\n",
       "\n",
       "\n"
      ],
      "text/plain": [
       " [1] \"$Recycle.Bin\"              \"$WinREAgent\"              \n",
       " [3] \"bootTel.dat\"               \"Config.Msi\"               \n",
       " [5] \"Data\"                      \"dev\"                      \n",
       " [7] \"Documents and Settings\"    \"DumpStack.log\"            \n",
       " [9] \"DumpStack.log.tmp\"         \"hiberfil.sys\"             \n",
       "[11] \"HP\"                        \"HPEXPERIENCE\"             \n",
       "[13] \"Intel\"                     \"pagefile.sys\"             \n",
       "[15] \"PerfLogs\"                  \"Procurement Plaza.lnk\"    \n",
       "[17] \"Program Files\"             \"Program Files (x86)\"      \n",
       "[19] \"ProgramData\"               \"Python27\"                 \n",
       "[21] \"Python38\"                  \"Quarantine\"               \n",
       "[23] \"Recovery\"                  \"swapfile.sys\"             \n",
       "[25] \"SWSetup\"                   \"System Volume Information\"\n",
       "[27] \"System.sav\"                \"Temp\"                     \n",
       "[29] \"tools\"                     \"Users\"                    \n",
       "[31] \"Windows\"                  "
      ]
     },
     "metadata": {},
     "output_type": "display_data"
    }
   ],
   "source": [
    "# Lista pastas e arquivos que tem no diretório\n",
    "list.files()"
   ]
  },
  {
   "cell_type": "code",
   "execution_count": 12,
   "id": "exact-caution",
   "metadata": {},
   "outputs": [
    {
     "data": {
      "text/html": [
       "<ol class=list-inline>\n",
       "\t<li>'First_Test_Plot.ipynb'</li>\n",
       "\t<li>'Untitled.ipynb'</li>\n",
       "</ol>\n"
      ],
      "text/latex": [
       "\\begin{enumerate*}\n",
       "\\item 'First\\_Test\\_Plot.ipynb'\n",
       "\\item 'Untitled.ipynb'\n",
       "\\end{enumerate*}\n"
      ],
      "text/markdown": [
       "1. 'First_Test_Plot.ipynb'\n",
       "2. 'Untitled.ipynb'\n",
       "\n",
       "\n"
      ],
      "text/plain": [
       "[1] \"First_Test_Plot.ipynb\" \"Untitled.ipynb\"       "
      ]
     },
     "metadata": {},
     "output_type": "display_data"
    },
    {
     "data": {
      "text/html": [],
      "text/latex": [],
      "text/markdown": [],
      "text/plain": [
       "character(0)"
      ]
     },
     "metadata": {},
     "output_type": "display_data"
    }
   ],
   "source": [
    "setwd('C:/Users/MorelRob/Documents/R')\n",
    "list.files()\n",
    "ls()"
   ]
  },
  {
   "cell_type": "code",
   "execution_count": 14,
   "id": "massive-investing",
   "metadata": {},
   "outputs": [
    {
     "data": {
      "text/html": [
       "<ol class=list-inline>\n",
       "\t<li>'list_obj'</li>\n",
       "\t<li>'x'</li>\n",
       "</ol>\n"
      ],
      "text/latex": [
       "\\begin{enumerate*}\n",
       "\\item 'list\\_obj'\n",
       "\\item 'x'\n",
       "\\end{enumerate*}\n"
      ],
      "text/markdown": [
       "1. 'list_obj'\n",
       "2. 'x'\n",
       "\n",
       "\n"
      ],
      "text/plain": [
       "[1] \"list_obj\" \"x\"       "
      ]
     },
     "metadata": {},
     "output_type": "display_data"
    },
    {
     "data": {
      "text/html": [
       "<ol class=list-inline>\n",
       "\t<li>'list_obj'</li>\n",
       "\t<li>'x'</li>\n",
       "</ol>\n"
      ],
      "text/latex": [
       "\\begin{enumerate*}\n",
       "\\item 'list\\_obj'\n",
       "\\item 'x'\n",
       "\\end{enumerate*}\n"
      ],
      "text/markdown": [
       "1. 'list_obj'\n",
       "2. 'x'\n",
       "\n",
       "\n"
      ],
      "text/plain": [
       "[1] \"list_obj\" \"x\"       "
      ]
     },
     "metadata": {},
     "output_type": "display_data"
    },
    {
     "data": {
      "text/html": [
       "<ol class=list-inline>\n",
       "\t<li>'list_obj'</li>\n",
       "\t<li>'x'</li>\n",
       "</ol>\n"
      ],
      "text/latex": [
       "\\begin{enumerate*}\n",
       "\\item 'list\\_obj'\n",
       "\\item 'x'\n",
       "\\end{enumerate*}\n"
      ],
      "text/markdown": [
       "1. 'list_obj'\n",
       "2. 'x'\n",
       "\n",
       "\n"
      ],
      "text/plain": [
       "[1] \"list_obj\" \"x\"       "
      ]
     },
     "metadata": {},
     "output_type": "display_data"
    }
   ],
   "source": [
    "objects()\n",
    "x <- 1\n",
    "ls()\n",
    "list_obj <- ls()\n",
    "list_obj"
   ]
  },
  {
   "cell_type": "code",
   "execution_count": 17,
   "id": "worst-prompt",
   "metadata": {},
   "outputs": [],
   "source": [
    "# Salva um .RData do projeto (workspace)\n",
    "save.image(file='aula.RData')"
   ]
  },
  {
   "cell_type": "code",
   "execution_count": 18,
   "id": "settled-aside",
   "metadata": {},
   "outputs": [
    {
     "data": {
      "text/html": [
       "<ol class=list-inline>\n",
       "\t<li>'aula.RData'</li>\n",
       "\t<li>'First_Test_Plot.ipynb'</li>\n",
       "\t<li>'Untitled.ipynb'</li>\n",
       "</ol>\n"
      ],
      "text/latex": [
       "\\begin{enumerate*}\n",
       "\\item 'aula.RData'\n",
       "\\item 'First\\_Test\\_Plot.ipynb'\n",
       "\\item 'Untitled.ipynb'\n",
       "\\end{enumerate*}\n"
      ],
      "text/markdown": [
       "1. 'aula.RData'\n",
       "2. 'First_Test_Plot.ipynb'\n",
       "3. 'Untitled.ipynb'\n",
       "\n",
       "\n"
      ],
      "text/plain": [
       "[1] \"aula.RData\"            \"First_Test_Plot.ipynb\" \"Untitled.ipynb\"       "
      ]
     },
     "metadata": {},
     "output_type": "display_data"
    }
   ],
   "source": [
    "dir()"
   ]
  },
  {
   "cell_type": "code",
   "execution_count": 19,
   "id": "atomic-delhi",
   "metadata": {},
   "outputs": [],
   "source": [
    "# Carrega o workspace .RData\n",
    "load(file='aula.RData')"
   ]
  },
  {
   "cell_type": "code",
   "execution_count": 20,
   "id": "handed-judge",
   "metadata": {},
   "outputs": [
    {
     "name": "stderr",
     "output_type": "stream",
     "text": [
      "also installing the dependencies 'processx', 'rprojroot', 'pkgbuild', 'diffobj', 'rematch2', 'brio', 'callr', 'cli', 'desc', 'ellipsis', 'lifecycle', 'pkgload', 'praise', 'ps', 'rlang', 'waldo', 'withr', 'testthat', 'isoband'\n",
      "\n"
     ]
    },
    {
     "name": "stdout",
     "output_type": "stream",
     "text": [
      "\n",
      "  There are binary versions available but the source versions are later:\n",
      "          binary source needs_compilation\n",
      "lifecycle  0.2.0  1.0.0             FALSE\n",
      "waldo      0.2.3  0.2.4             FALSE\n",
      "testthat   3.0.1  3.0.2              TRUE\n",
      "\n",
      "  Binaries will be installed\n",
      "package 'processx' successfully unpacked and MD5 sums checked\n",
      "package 'rprojroot' successfully unpacked and MD5 sums checked\n",
      "package 'pkgbuild' successfully unpacked and MD5 sums checked\n",
      "package 'diffobj' successfully unpacked and MD5 sums checked\n",
      "package 'rematch2' successfully unpacked and MD5 sums checked\n",
      "package 'brio' successfully unpacked and MD5 sums checked\n",
      "package 'callr' successfully unpacked and MD5 sums checked\n",
      "package 'cli' successfully unpacked and MD5 sums checked\n",
      "package 'desc' successfully unpacked and MD5 sums checked\n",
      "package 'ellipsis' successfully unpacked and MD5 sums checked\n",
      "package 'pkgload' successfully unpacked and MD5 sums checked\n",
      "package 'praise' successfully unpacked and MD5 sums checked\n",
      "package 'ps' successfully unpacked and MD5 sums checked\n",
      "package 'rlang' successfully unpacked and MD5 sums checked\n"
     ]
    },
    {
     "name": "stderr",
     "output_type": "stream",
     "text": [
      "Warning message:\n",
      "\"cannot remove prior installation of package 'rlang'\"Warning message in file.copy(savedcopy, lib, recursive = TRUE):\n",
      "\"problem copying C:\\Users\\MorelRob\\Anaconda3\\envs\\R\\Lib\\R\\library\\00LOCK\\rlang\\libs\\x64\\rlang.dll to C:\\Users\\MorelRob\\Anaconda3\\envs\\R\\Lib\\R\\library\\rlang\\libs\\x64\\rlang.dll: Permission denied\"Warning message:\n",
      "\"restored 'rlang'\""
     ]
    },
    {
     "name": "stdout",
     "output_type": "stream",
     "text": [
      "package 'withr' successfully unpacked and MD5 sums checked\n",
      "package 'testthat' successfully unpacked and MD5 sums checked\n",
      "package 'isoband' successfully unpacked and MD5 sums checked\n",
      "package 'ggplot2' successfully unpacked and MD5 sums checked\n",
      "\n",
      "The downloaded binary packages are in\n",
      "\tC:\\Users\\MorelRob\\AppData\\Local\\Temp\\RtmpC2wpDn\\downloaded_packages\n"
     ]
    },
    {
     "name": "stderr",
     "output_type": "stream",
     "text": [
      "installing the source packages 'lifecycle', 'waldo'\n",
      "\n",
      "Warning message in install.packages(\"ggplot2\"):\n",
      "\"installation of package 'lifecycle' had non-zero exit status\"Warning message in install.packages(\"ggplot2\"):\n",
      "\"installation of package 'waldo' had non-zero exit status\""
     ]
    }
   ],
   "source": [
    "install.packages('ggplot2')"
   ]
  },
  {
   "cell_type": "code",
   "execution_count": 21,
   "id": "particular-workplace",
   "metadata": {},
   "outputs": [
    {
     "name": "stderr",
     "output_type": "stream",
     "text": [
      "Warning message:\n",
      "\"package 'ggplot2' was built under R version 3.6.3\""
     ]
    }
   ],
   "source": [
    "library(ggplot2)"
   ]
  },
  {
   "cell_type": "markdown",
   "id": "latter-africa",
   "metadata": {},
   "source": [
    "## Sequências e Tipagens"
   ]
  },
  {
   "cell_type": "code",
   "execution_count": 27,
   "id": "removed-georgia",
   "metadata": {},
   "outputs": [
    {
     "data": {
      "text/html": [
       "<ol class=list-inline>\n",
       "\t<li>1</li>\n",
       "\t<li>2</li>\n",
       "\t<li>3</li>\n",
       "\t<li>4</li>\n",
       "\t<li>5</li>\n",
       "\t<li>6</li>\n",
       "\t<li>7</li>\n",
       "\t<li>8</li>\n",
       "\t<li>9</li>\n",
       "\t<li>10</li>\n",
       "</ol>\n"
      ],
      "text/latex": [
       "\\begin{enumerate*}\n",
       "\\item 1\n",
       "\\item 2\n",
       "\\item 3\n",
       "\\item 4\n",
       "\\item 5\n",
       "\\item 6\n",
       "\\item 7\n",
       "\\item 8\n",
       "\\item 9\n",
       "\\item 10\n",
       "\\end{enumerate*}\n"
      ],
      "text/markdown": [
       "1. 1\n",
       "2. 2\n",
       "3. 3\n",
       "4. 4\n",
       "5. 5\n",
       "6. 6\n",
       "7. 7\n",
       "8. 8\n",
       "9. 9\n",
       "10. 10\n",
       "\n",
       "\n"
      ],
      "text/plain": [
       " [1]  1  2  3  4  5  6  7  8  9 10"
      ]
     },
     "metadata": {},
     "output_type": "display_data"
    },
    {
     "data": {
      "text/html": [
       "<ol class=list-inline>\n",
       "\t<li>10</li>\n",
       "\t<li>20</li>\n",
       "\t<li>30</li>\n",
       "\t<li>40</li>\n",
       "\t<li>50</li>\n",
       "\t<li>60</li>\n",
       "\t<li>70</li>\n",
       "\t<li>80</li>\n",
       "\t<li>90</li>\n",
       "\t<li>100</li>\n",
       "</ol>\n"
      ],
      "text/latex": [
       "\\begin{enumerate*}\n",
       "\\item 10\n",
       "\\item 20\n",
       "\\item 30\n",
       "\\item 40\n",
       "\\item 50\n",
       "\\item 60\n",
       "\\item 70\n",
       "\\item 80\n",
       "\\item 90\n",
       "\\item 100\n",
       "\\end{enumerate*}\n"
      ],
      "text/markdown": [
       "1. 10\n",
       "2. 20\n",
       "3. 30\n",
       "4. 40\n",
       "5. 50\n",
       "6. 60\n",
       "7. 70\n",
       "8. 80\n",
       "9. 90\n",
       "10. 100\n",
       "\n",
       "\n"
      ],
      "text/plain": [
       " [1]  10  20  30  40  50  60  70  80  90 100"
      ]
     },
     "metadata": {},
     "output_type": "display_data"
    },
    {
     "data": {
      "text/html": [
       "<ol class=list-inline>\n",
       "\t<li>0</li>\n",
       "\t<li>10</li>\n",
       "\t<li>20</li>\n",
       "\t<li>30</li>\n",
       "\t<li>40</li>\n",
       "\t<li>50</li>\n",
       "\t<li>60</li>\n",
       "\t<li>70</li>\n",
       "\t<li>80</li>\n",
       "\t<li>90</li>\n",
       "\t<li>100</li>\n",
       "</ol>\n"
      ],
      "text/latex": [
       "\\begin{enumerate*}\n",
       "\\item 0\n",
       "\\item 10\n",
       "\\item 20\n",
       "\\item 30\n",
       "\\item 40\n",
       "\\item 50\n",
       "\\item 60\n",
       "\\item 70\n",
       "\\item 80\n",
       "\\item 90\n",
       "\\item 100\n",
       "\\end{enumerate*}\n"
      ],
      "text/markdown": [
       "1. 0\n",
       "2. 10\n",
       "3. 20\n",
       "4. 30\n",
       "5. 40\n",
       "6. 50\n",
       "7. 60\n",
       "8. 70\n",
       "9. 80\n",
       "10. 90\n",
       "11. 100\n",
       "\n",
       "\n"
      ],
      "text/plain": [
       " [1]   0  10  20  30  40  50  60  70  80  90 100"
      ]
     },
     "metadata": {},
     "output_type": "display_data"
    },
    {
     "data": {
      "text/html": [
       "<ol class=list-inline>\n",
       "\t<li>0</li>\n",
       "\t<li>25</li>\n",
       "\t<li>50</li>\n",
       "\t<li>75</li>\n",
       "\t<li>100</li>\n",
       "</ol>\n"
      ],
      "text/latex": [
       "\\begin{enumerate*}\n",
       "\\item 0\n",
       "\\item 25\n",
       "\\item 50\n",
       "\\item 75\n",
       "\\item 100\n",
       "\\end{enumerate*}\n"
      ],
      "text/markdown": [
       "1. 0\n",
       "2. 25\n",
       "3. 50\n",
       "4. 75\n",
       "5. 100\n",
       "\n",
       "\n"
      ],
      "text/plain": [
       "[1]   0  25  50  75 100"
      ]
     },
     "metadata": {},
     "output_type": "display_data"
    }
   ],
   "source": [
    "# Criando sequências\n",
    "\n",
    "1:10 # 1 em 1 até 10\n",
    "(1:10)*10 # 10 em 10 até 100\n",
    "seq(from=0, to=100, by=10) # 10 em 10 até 100\n",
    "seq(from=0, to=100, len=5) # De 0 à 100, com 5 valores"
   ]
  },
  {
   "cell_type": "code",
   "execution_count": 34,
   "id": "backed-bulgarian",
   "metadata": {},
   "outputs": [
    {
     "data": {
      "text/html": [
       "<ol class=list-inline>\n",
       "\t<li>'A'</li>\n",
       "\t<li>'A'</li>\n",
       "\t<li>'A'</li>\n",
       "\t<li>'A'</li>\n",
       "\t<li>'A'</li>\n",
       "\t<li>'A'</li>\n",
       "\t<li>'A'</li>\n",
       "\t<li>'A'</li>\n",
       "\t<li>'A'</li>\n",
       "\t<li>'A'</li>\n",
       "</ol>\n"
      ],
      "text/latex": [
       "\\begin{enumerate*}\n",
       "\\item 'A'\n",
       "\\item 'A'\n",
       "\\item 'A'\n",
       "\\item 'A'\n",
       "\\item 'A'\n",
       "\\item 'A'\n",
       "\\item 'A'\n",
       "\\item 'A'\n",
       "\\item 'A'\n",
       "\\item 'A'\n",
       "\\end{enumerate*}\n"
      ],
      "text/markdown": [
       "1. 'A'\n",
       "2. 'A'\n",
       "3. 'A'\n",
       "4. 'A'\n",
       "5. 'A'\n",
       "6. 'A'\n",
       "7. 'A'\n",
       "8. 'A'\n",
       "9. 'A'\n",
       "10. 'A'\n",
       "\n",
       "\n"
      ],
      "text/plain": [
       " [1] \"A\" \"A\" \"A\" \"A\" \"A\" \"A\" \"A\" \"A\" \"A\" \"A\""
      ]
     },
     "metadata": {},
     "output_type": "display_data"
    },
    {
     "data": {
      "text/html": [
       "<ol class=list-inline>\n",
       "\t<li>'A'</li>\n",
       "\t<li>'B'</li>\n",
       "\t<li>'C'</li>\n",
       "\t<li>'A'</li>\n",
       "\t<li>'B'</li>\n",
       "\t<li>'C'</li>\n",
       "\t<li>'A'</li>\n",
       "\t<li>'B'</li>\n",
       "\t<li>'C'</li>\n",
       "\t<li>'A'</li>\n",
       "\t<li>'B'</li>\n",
       "\t<li>'C'</li>\n",
       "\t<li>'A'</li>\n",
       "\t<li>'B'</li>\n",
       "\t<li>'C'</li>\n",
       "\t<li>'A'</li>\n",
       "\t<li>'B'</li>\n",
       "\t<li>'C'</li>\n",
       "\t<li>'A'</li>\n",
       "\t<li>'B'</li>\n",
       "\t<li>'C'</li>\n",
       "\t<li>'A'</li>\n",
       "\t<li>'B'</li>\n",
       "\t<li>'C'</li>\n",
       "\t<li>'A'</li>\n",
       "\t<li>'B'</li>\n",
       "\t<li>'C'</li>\n",
       "\t<li>'A'</li>\n",
       "\t<li>'B'</li>\n",
       "\t<li>'C'</li>\n",
       "</ol>\n"
      ],
      "text/latex": [
       "\\begin{enumerate*}\n",
       "\\item 'A'\n",
       "\\item 'B'\n",
       "\\item 'C'\n",
       "\\item 'A'\n",
       "\\item 'B'\n",
       "\\item 'C'\n",
       "\\item 'A'\n",
       "\\item 'B'\n",
       "\\item 'C'\n",
       "\\item 'A'\n",
       "\\item 'B'\n",
       "\\item 'C'\n",
       "\\item 'A'\n",
       "\\item 'B'\n",
       "\\item 'C'\n",
       "\\item 'A'\n",
       "\\item 'B'\n",
       "\\item 'C'\n",
       "\\item 'A'\n",
       "\\item 'B'\n",
       "\\item 'C'\n",
       "\\item 'A'\n",
       "\\item 'B'\n",
       "\\item 'C'\n",
       "\\item 'A'\n",
       "\\item 'B'\n",
       "\\item 'C'\n",
       "\\item 'A'\n",
       "\\item 'B'\n",
       "\\item 'C'\n",
       "\\end{enumerate*}\n"
      ],
      "text/markdown": [
       "1. 'A'\n",
       "2. 'B'\n",
       "3. 'C'\n",
       "4. 'A'\n",
       "5. 'B'\n",
       "6. 'C'\n",
       "7. 'A'\n",
       "8. 'B'\n",
       "9. 'C'\n",
       "10. 'A'\n",
       "11. 'B'\n",
       "12. 'C'\n",
       "13. 'A'\n",
       "14. 'B'\n",
       "15. 'C'\n",
       "16. 'A'\n",
       "17. 'B'\n",
       "18. 'C'\n",
       "19. 'A'\n",
       "20. 'B'\n",
       "21. 'C'\n",
       "22. 'A'\n",
       "23. 'B'\n",
       "24. 'C'\n",
       "25. 'A'\n",
       "26. 'B'\n",
       "27. 'C'\n",
       "28. 'A'\n",
       "29. 'B'\n",
       "30. 'C'\n",
       "\n",
       "\n"
      ],
      "text/plain": [
       " [1] \"A\" \"B\" \"C\" \"A\" \"B\" \"C\" \"A\" \"B\" \"C\" \"A\" \"B\" \"C\" \"A\" \"B\" \"C\" \"A\" \"B\" \"C\" \"A\"\n",
       "[20] \"B\" \"C\" \"A\" \"B\" \"C\" \"A\" \"B\" \"C\" \"A\" \"B\" \"C\""
      ]
     },
     "metadata": {},
     "output_type": "display_data"
    },
    {
     "data": {
      "text/html": [
       "<ol class=list-inline>\n",
       "\t<li>'A'</li>\n",
       "\t<li>'A'</li>\n",
       "\t<li>'A'</li>\n",
       "\t<li>'A'</li>\n",
       "\t<li>'A'</li>\n",
       "\t<li>'A'</li>\n",
       "\t<li>'A'</li>\n",
       "\t<li>'A'</li>\n",
       "\t<li>'A'</li>\n",
       "\t<li>'A'</li>\n",
       "\t<li>'B'</li>\n",
       "\t<li>'B'</li>\n",
       "\t<li>'B'</li>\n",
       "\t<li>'B'</li>\n",
       "\t<li>'B'</li>\n",
       "\t<li>'B'</li>\n",
       "\t<li>'B'</li>\n",
       "\t<li>'B'</li>\n",
       "\t<li>'B'</li>\n",
       "\t<li>'B'</li>\n",
       "\t<li>'C'</li>\n",
       "\t<li>'C'</li>\n",
       "\t<li>'C'</li>\n",
       "\t<li>'C'</li>\n",
       "\t<li>'C'</li>\n",
       "\t<li>'C'</li>\n",
       "\t<li>'C'</li>\n",
       "\t<li>'C'</li>\n",
       "\t<li>'C'</li>\n",
       "\t<li>'C'</li>\n",
       "</ol>\n"
      ],
      "text/latex": [
       "\\begin{enumerate*}\n",
       "\\item 'A'\n",
       "\\item 'A'\n",
       "\\item 'A'\n",
       "\\item 'A'\n",
       "\\item 'A'\n",
       "\\item 'A'\n",
       "\\item 'A'\n",
       "\\item 'A'\n",
       "\\item 'A'\n",
       "\\item 'A'\n",
       "\\item 'B'\n",
       "\\item 'B'\n",
       "\\item 'B'\n",
       "\\item 'B'\n",
       "\\item 'B'\n",
       "\\item 'B'\n",
       "\\item 'B'\n",
       "\\item 'B'\n",
       "\\item 'B'\n",
       "\\item 'B'\n",
       "\\item 'C'\n",
       "\\item 'C'\n",
       "\\item 'C'\n",
       "\\item 'C'\n",
       "\\item 'C'\n",
       "\\item 'C'\n",
       "\\item 'C'\n",
       "\\item 'C'\n",
       "\\item 'C'\n",
       "\\item 'C'\n",
       "\\end{enumerate*}\n"
      ],
      "text/markdown": [
       "1. 'A'\n",
       "2. 'A'\n",
       "3. 'A'\n",
       "4. 'A'\n",
       "5. 'A'\n",
       "6. 'A'\n",
       "7. 'A'\n",
       "8. 'A'\n",
       "9. 'A'\n",
       "10. 'A'\n",
       "11. 'B'\n",
       "12. 'B'\n",
       "13. 'B'\n",
       "14. 'B'\n",
       "15. 'B'\n",
       "16. 'B'\n",
       "17. 'B'\n",
       "18. 'B'\n",
       "19. 'B'\n",
       "20. 'B'\n",
       "21. 'C'\n",
       "22. 'C'\n",
       "23. 'C'\n",
       "24. 'C'\n",
       "25. 'C'\n",
       "26. 'C'\n",
       "27. 'C'\n",
       "28. 'C'\n",
       "29. 'C'\n",
       "30. 'C'\n",
       "\n",
       "\n"
      ],
      "text/plain": [
       " [1] \"A\" \"A\" \"A\" \"A\" \"A\" \"A\" \"A\" \"A\" \"A\" \"A\" \"B\" \"B\" \"B\" \"B\" \"B\" \"B\" \"B\" \"B\" \"B\"\n",
       "[20] \"B\" \"C\" \"C\" \"C\" \"C\" \"C\" \"C\" \"C\" \"C\" \"C\" \"C\""
      ]
     },
     "metadata": {},
     "output_type": "display_data"
    },
    {
     "data": {
      "text/html": [
       "<ol class=list-inline>\n",
       "\t<li>'A'</li>\n",
       "\t<li>'A'</li>\n",
       "\t<li>'B'</li>\n",
       "\t<li>'B'</li>\n",
       "\t<li>'B'</li>\n",
       "\t<li>'C'</li>\n",
       "\t<li>'C'</li>\n",
       "\t<li>'C'</li>\n",
       "\t<li>'C'</li>\n",
       "\t<li>'C'</li>\n",
       "</ol>\n"
      ],
      "text/latex": [
       "\\begin{enumerate*}\n",
       "\\item 'A'\n",
       "\\item 'A'\n",
       "\\item 'B'\n",
       "\\item 'B'\n",
       "\\item 'B'\n",
       "\\item 'C'\n",
       "\\item 'C'\n",
       "\\item 'C'\n",
       "\\item 'C'\n",
       "\\item 'C'\n",
       "\\end{enumerate*}\n"
      ],
      "text/markdown": [
       "1. 'A'\n",
       "2. 'A'\n",
       "3. 'B'\n",
       "4. 'B'\n",
       "5. 'B'\n",
       "6. 'C'\n",
       "7. 'C'\n",
       "8. 'C'\n",
       "9. 'C'\n",
       "10. 'C'\n",
       "\n",
       "\n"
      ],
      "text/plain": [
       " [1] \"A\" \"A\" \"B\" \"B\" \"B\" \"C\" \"C\" \"C\" \"C\" \"C\""
      ]
     },
     "metadata": {},
     "output_type": "display_data"
    }
   ],
   "source": [
    "# Repetição\n",
    "\n",
    "rep(\"A\", times=10)\n",
    "rep(c(\"A\", \"B\", \"C\"), times=10)\n",
    "rep(c(\"A\", \"B\", \"C\"), each=10)\n",
    "seqABC <- rep(c(\"A\", \"B\", \"C\"), times=c(2,3,5))\n",
    "\n",
    "seqABC"
   ]
  },
  {
   "cell_type": "code",
   "execution_count": 51,
   "id": "acute-advertising",
   "metadata": {},
   "outputs": [
    {
     "data": {
      "text/html": [
       "'character'"
      ],
      "text/latex": [
       "'character'"
      ],
      "text/markdown": [
       "'character'"
      ],
      "text/plain": [
       "[1] \"character\""
      ]
     },
     "metadata": {},
     "output_type": "display_data"
    },
    {
     "data": {
      "text/html": [
       "'Date'"
      ],
      "text/latex": [
       "'Date'"
      ],
      "text/markdown": [
       "'Date'"
      ],
      "text/plain": [
       "[1] \"Date\""
      ]
     },
     "metadata": {},
     "output_type": "display_data"
    },
    {
     "data": {
      "text/plain": [
       "Time difference of 26 days"
      ]
     },
     "metadata": {},
     "output_type": "display_data"
    }
   ],
   "source": [
    "# Datas\n",
    "\n",
    "copa.70 <- '21/06/1970'\n",
    "copa.94 <- '17/07/1994'\n",
    "\n",
    "class(copa.94)\n",
    "\n",
    "copa.70 <- as.Date(copa.70, format='%d/%m/%y')\n",
    "copa.94 <- as.Date(copa.94, format='%d/%m/%y')\n",
    "\n",
    "class(copa.94)\n",
    "\n",
    "copa.94 - copa.70"
   ]
  },
  {
   "cell_type": "code",
   "execution_count": 61,
   "id": "american-seminar",
   "metadata": {},
   "outputs": [
    {
     "data": {
      "text/html": [
       "'character'"
      ],
      "text/latex": [
       "'character'"
      ],
      "text/markdown": [
       "'character'"
      ],
      "text/plain": [
       "[1] \"character\""
      ]
     },
     "metadata": {},
     "output_type": "display_data"
    },
    {
     "data": {
      "text/html": [
       "'character'"
      ],
      "text/latex": [
       "'character'"
      ],
      "text/markdown": [
       "'character'"
      ],
      "text/plain": [
       "[1] \"character\""
      ]
     },
     "metadata": {},
     "output_type": "display_data"
    },
    {
     "data": {
      "text/html": [
       "FALSE"
      ],
      "text/latex": [
       "FALSE"
      ],
      "text/markdown": [
       "FALSE"
      ],
      "text/plain": [
       "[1] FALSE"
      ]
     },
     "metadata": {},
     "output_type": "display_data"
    },
    {
     "data": {
      "text/html": [
       "FALSE"
      ],
      "text/latex": [
       "FALSE"
      ],
      "text/markdown": [
       "FALSE"
      ],
      "text/plain": [
       "[1] FALSE"
      ]
     },
     "metadata": {},
     "output_type": "display_data"
    },
    {
     "data": {
      "text/html": [
       "FALSE"
      ],
      "text/latex": [
       "FALSE"
      ],
      "text/markdown": [
       "FALSE"
      ],
      "text/plain": [
       "[1] FALSE"
      ]
     },
     "metadata": {},
     "output_type": "display_data"
    },
    {
     "data": {
      "text/html": [
       "TRUE"
      ],
      "text/latex": [
       "TRUE"
      ],
      "text/markdown": [
       "TRUE"
      ],
      "text/plain": [
       "[1] TRUE"
      ]
     },
     "metadata": {},
     "output_type": "display_data"
    },
    {
     "ename": "ERROR",
     "evalue": "Error in eval(expr, envir, enclos): objeto 'variavel3' não encontrado\n",
     "output_type": "error",
     "traceback": [
      "Error in eval(expr, envir, enclos): objeto 'variavel3' não encontrado\nTraceback:\n"
     ]
    }
   ],
   "source": [
    "# Tipagem\n",
    "\n",
    "variavel <- 'eu sou string'\n",
    "variavel2 <- 1\n",
    "\n",
    "class(variavel)\n",
    "typeof(variavel2)\n",
    "\n",
    "is.integer(variavel2)\n",
    "is.double(variavel2)\n",
    "is.numeric(variavel2)\n",
    "is.character(variavel)\n",
    "is.logical(variavel3)\n",
    "\n",
    "as.character(variavel)\n",
    "as.numeric(variavel)\n",
    "\n",
    "as.logical(1)\n"
   ]
  },
  {
   "cell_type": "code",
   "execution_count": 85,
   "id": "proud-negative",
   "metadata": {},
   "outputs": [
    {
     "data": {
      "text/html": [
       "<ol class=list-inline>\n",
       "\t<li>'a'</li>\n",
       "\t<li>'b'</li>\n",
       "\t<li>'c'</li>\n",
       "\t<li>'copa.70'</li>\n",
       "\t<li>'copa.94'</li>\n",
       "\t<li>'d'</li>\n",
       "\t<li>'e'</li>\n",
       "\t<li>'list_obj'</li>\n",
       "\t<li>'minha.lista'</li>\n",
       "\t<li>'seqABC'</li>\n",
       "\t<li>'variavel'</li>\n",
       "\t<li>'variavel2'</li>\n",
       "\t<li>'x'</li>\n",
       "</ol>\n"
      ],
      "text/latex": [
       "\\begin{enumerate*}\n",
       "\\item 'a'\n",
       "\\item 'b'\n",
       "\\item 'c'\n",
       "\\item 'copa.70'\n",
       "\\item 'copa.94'\n",
       "\\item 'd'\n",
       "\\item 'e'\n",
       "\\item 'list\\_obj'\n",
       "\\item 'minha.lista'\n",
       "\\item 'seqABC'\n",
       "\\item 'variavel'\n",
       "\\item 'variavel2'\n",
       "\\item 'x'\n",
       "\\end{enumerate*}\n"
      ],
      "text/markdown": [
       "1. 'a'\n",
       "2. 'b'\n",
       "3. 'c'\n",
       "4. 'copa.70'\n",
       "5. 'copa.94'\n",
       "6. 'd'\n",
       "7. 'e'\n",
       "8. 'list_obj'\n",
       "9. 'minha.lista'\n",
       "10. 'seqABC'\n",
       "11. 'variavel'\n",
       "12. 'variavel2'\n",
       "13. 'x'\n",
       "\n",
       "\n"
      ],
      "text/plain": [
       " [1] \"a\"           \"b\"           \"c\"           \"copa.70\"     \"copa.94\"    \n",
       " [6] \"d\"           \"e\"           \"list_obj\"    \"minha.lista\" \"seqABC\"     \n",
       "[11] \"variavel\"    \"variavel2\"   \"x\"          "
      ]
     },
     "metadata": {},
     "output_type": "display_data"
    },
    {
     "data": {
      "text/html": [
       "'integer'"
      ],
      "text/latex": [
       "'integer'"
      ],
      "text/markdown": [
       "'integer'"
      ],
      "text/plain": [
       "[1] \"integer\""
      ]
     },
     "metadata": {},
     "output_type": "display_data"
    },
    {
     "data": {
      "text/html": [
       "<ol class=list-inline>\n",
       "\t<li>a</li>\n",
       "\t<li>a</li>\n",
       "\t<li>a</li>\n",
       "\t<li>b</li>\n",
       "\t<li>b</li>\n",
       "\t<li>b</li>\n",
       "\t<li>c</li>\n",
       "\t<li>c</li>\n",
       "\t<li>c</li>\n",
       "</ol>\n",
       "\n",
       "<details>\n",
       "\t<summary style=display:list-item;cursor:pointer>\n",
       "\t\t<strong>Levels</strong>:\n",
       "\t</summary>\n",
       "\t<ol class=list-inline>\n",
       "\t\t<li>'a'</li>\n",
       "\t\t<li>'b'</li>\n",
       "\t\t<li>'c'</li>\n",
       "\t</ol>\n",
       "</details>"
      ],
      "text/latex": [
       "\\begin{enumerate*}\n",
       "\\item a\n",
       "\\item a\n",
       "\\item a\n",
       "\\item b\n",
       "\\item b\n",
       "\\item b\n",
       "\\item c\n",
       "\\item c\n",
       "\\item c\n",
       "\\end{enumerate*}\n",
       "\n",
       "\\emph{Levels}: \\begin{enumerate*}\n",
       "\\item 'a'\n",
       "\\item 'b'\n",
       "\\item 'c'\n",
       "\\end{enumerate*}\n"
      ],
      "text/markdown": [
       "1. a\n",
       "2. a\n",
       "3. a\n",
       "4. b\n",
       "5. b\n",
       "6. b\n",
       "7. c\n",
       "8. c\n",
       "9. c\n",
       "\n",
       "\n",
       "\n",
       "**Levels**: 1. 'a'\n",
       "2. 'b'\n",
       "3. 'c'\n",
       "\n",
       "\n"
      ],
      "text/plain": [
       "[1] a a a b b b c c c\n",
       "Levels: a b c"
      ]
     },
     "metadata": {},
     "output_type": "display_data"
    },
    {
     "data": {
      "text/html": [
       "'factor'"
      ],
      "text/latex": [
       "'factor'"
      ],
      "text/markdown": [
       "'factor'"
      ],
      "text/plain": [
       "[1] \"factor\""
      ]
     },
     "metadata": {},
     "output_type": "display_data"
    },
    {
     "data": {
      "text/html": [
       "<table>\n",
       "<thead><tr><th scope=col>sec</th><th scope=col>inicio</th></tr></thead>\n",
       "<tbody>\n",
       "\t<tr><td>XIX </td><td>1801</td></tr>\n",
       "\t<tr><td>XX  </td><td>1901</td></tr>\n",
       "\t<tr><td>XXI </td><td>2001</td></tr>\n",
       "</tbody>\n",
       "</table>\n"
      ],
      "text/latex": [
       "\\begin{tabular}{r|ll}\n",
       " sec & inicio\\\\\n",
       "\\hline\n",
       "\t XIX  & 1801\\\\\n",
       "\t XX   & 1901\\\\\n",
       "\t XXI  & 2001\\\\\n",
       "\\end{tabular}\n"
      ],
      "text/markdown": [
       "\n",
       "| sec | inicio |\n",
       "|---|---|\n",
       "| XIX  | 1801 |\n",
       "| XX   | 1901 |\n",
       "| XXI  | 2001 |\n",
       "\n"
      ],
      "text/plain": [
       "  sec inicio\n",
       "1 XIX 1801  \n",
       "2 XX  1901  \n",
       "3 XXI 2001  "
      ]
     },
     "metadata": {},
     "output_type": "display_data"
    },
    {
     "data": {
      "text/html": [
       "'data.frame'"
      ],
      "text/latex": [
       "'data.frame'"
      ],
      "text/markdown": [
       "'data.frame'"
      ],
      "text/plain": [
       "[1] \"data.frame\""
      ]
     },
     "metadata": {},
     "output_type": "display_data"
    },
    {
     "data": {
      "text/html": [
       "<table>\n",
       "<tbody>\n",
       "\t<tr><td>87</td><td> 4</td><td>82</td><td>13</td><td>35</td><td>60</td><td>63</td><td>26</td></tr>\n",
       "\t<tr><td>83</td><td>57</td><td>41</td><td>13</td><td>46</td><td> 5</td><td>73</td><td>54</td></tr>\n",
       "\t<tr><td>85</td><td> 3</td><td>94</td><td>86</td><td> 6</td><td>90</td><td>80</td><td>33</td></tr>\n",
       "\t<tr><td>96</td><td>51</td><td>18</td><td>12</td><td>74</td><td> 8</td><td>77</td><td>53</td></tr>\n",
       "\t<tr><td>89</td><td>44</td><td>94</td><td>93</td><td>70</td><td> 9</td><td>13</td><td> 2</td></tr>\n",
       "</tbody>\n",
       "</table>\n"
      ],
      "text/latex": [
       "\\begin{tabular}{llllllll}\n",
       "\t 87 &  4 & 82 & 13 & 35 & 60 & 63 & 26\\\\\n",
       "\t 83 & 57 & 41 & 13 & 46 &  5 & 73 & 54\\\\\n",
       "\t 85 &  3 & 94 & 86 &  6 & 90 & 80 & 33\\\\\n",
       "\t 96 & 51 & 18 & 12 & 74 &  8 & 77 & 53\\\\\n",
       "\t 89 & 44 & 94 & 93 & 70 &  9 & 13 &  2\\\\\n",
       "\\end{tabular}\n"
      ],
      "text/markdown": [
       "\n",
       "| 87 |  4 | 82 | 13 | 35 | 60 | 63 | 26 |\n",
       "| 83 | 57 | 41 | 13 | 46 |  5 | 73 | 54 |\n",
       "| 85 |  3 | 94 | 86 |  6 | 90 | 80 | 33 |\n",
       "| 96 | 51 | 18 | 12 | 74 |  8 | 77 | 53 |\n",
       "| 89 | 44 | 94 | 93 | 70 |  9 | 13 |  2 |\n",
       "\n"
      ],
      "text/plain": [
       "     [,1] [,2] [,3] [,4] [,5] [,6] [,7] [,8]\n",
       "[1,] 87    4   82   13   35   60   63   26  \n",
       "[2,] 83   57   41   13   46    5   73   54  \n",
       "[3,] 85    3   94   86    6   90   80   33  \n",
       "[4,] 96   51   18   12   74    8   77   53  \n",
       "[5,] 89   44   94   93   70    9   13    2  "
      ]
     },
     "metadata": {},
     "output_type": "display_data"
    },
    {
     "data": {
      "text/html": [
       "'matrix'"
      ],
      "text/latex": [
       "'matrix'"
      ],
      "text/markdown": [
       "'matrix'"
      ],
      "text/plain": [
       "[1] \"matrix\""
      ]
     },
     "metadata": {},
     "output_type": "display_data"
    },
    {
     "data": {
      "text/html": [
       "<ol class=list-inline>\n",
       "\t<li>1</li>\n",
       "\t<li>2</li>\n",
       "\t<li>3</li>\n",
       "\t<li>4</li>\n",
       "\t<li>5</li>\n",
       "\t<li>6</li>\n",
       "\t<li>7</li>\n",
       "\t<li>8</li>\n",
       "\t<li>9</li>\n",
       "\t<li>10</li>\n",
       "\t<li>11</li>\n",
       "\t<li>12</li>\n",
       "</ol>\n"
      ],
      "text/latex": [
       "\\begin{enumerate*}\n",
       "\\item 1\n",
       "\\item 2\n",
       "\\item 3\n",
       "\\item 4\n",
       "\\item 5\n",
       "\\item 6\n",
       "\\item 7\n",
       "\\item 8\n",
       "\\item 9\n",
       "\\item 10\n",
       "\\item 11\n",
       "\\item 12\n",
       "\\end{enumerate*}\n"
      ],
      "text/markdown": [
       "1. 1\n",
       "2. 2\n",
       "3. 3\n",
       "4. 4\n",
       "5. 5\n",
       "6. 6\n",
       "7. 7\n",
       "8. 8\n",
       "9. 9\n",
       "10. 10\n",
       "11. 11\n",
       "12. 12\n",
       "\n",
       "\n"
      ],
      "text/plain": [
       ", , 1\n",
       "\n",
       "     [,1] [,2]\n",
       "[1,]    1    4\n",
       "[2,]    2    5\n",
       "[3,]    3    6\n",
       "\n",
       ", , 2\n",
       "\n",
       "     [,1] [,2]\n",
       "[1,]    7   10\n",
       "[2,]    8   11\n",
       "[3,]    9   12\n"
      ]
     },
     "metadata": {},
     "output_type": "display_data"
    },
    {
     "data": {
      "text/html": [
       "'array'"
      ],
      "text/latex": [
       "'array'"
      ],
      "text/markdown": [
       "'array'"
      ],
      "text/plain": [
       "[1] \"array\""
      ]
     },
     "metadata": {},
     "output_type": "display_data"
    },
    {
     "data": {
      "text/html": [
       "<dl>\n",
       "\t<dt>$um.vetor</dt>\n",
       "\t\t<dd><ol class=list-inline>\n",
       "\t<li>1</li>\n",
       "\t<li>2</li>\n",
       "\t<li>3</li>\n",
       "\t<li>4</li>\n",
       "\t<li>5</li>\n",
       "</ol>\n",
       "</dd>\n",
       "\t<dt>$um.fator</dt>\n",
       "\t\t<dd><ol class=list-inline>\n",
       "\t<li>a</li>\n",
       "\t<li>a</li>\n",
       "\t<li>a</li>\n",
       "\t<li>b</li>\n",
       "\t<li>b</li>\n",
       "\t<li>b</li>\n",
       "\t<li>c</li>\n",
       "\t<li>c</li>\n",
       "\t<li>c</li>\n",
       "</ol>\n",
       "\n",
       "<details>\n",
       "\t<summary style=display:list-item;cursor:pointer>\n",
       "\t\t<strong>Levels</strong>:\n",
       "\t</summary>\n",
       "\t<ol class=list-inline>\n",
       "\t\t<li>'a'</li>\n",
       "\t\t<li>'b'</li>\n",
       "\t\t<li>'c'</li>\n",
       "\t</ol>\n",
       "</details></dd>\n",
       "\t<dt>$um.data.frame</dt>\n",
       "\t\t<dd><table>\n",
       "<thead><tr><th scope=col>sec</th><th scope=col>inicio</th></tr></thead>\n",
       "<tbody>\n",
       "\t<tr><td>XIX </td><td>1801</td></tr>\n",
       "\t<tr><td>XX  </td><td>1901</td></tr>\n",
       "\t<tr><td>XXI </td><td>2001</td></tr>\n",
       "</tbody>\n",
       "</table>\n",
       "</dd>\n",
       "\t<dt>$um.matriz</dt>\n",
       "\t\t<dd><table>\n",
       "<tbody>\n",
       "\t<tr><td>87</td><td> 4</td><td>82</td><td>13</td><td>35</td><td>60</td><td>63</td><td>26</td></tr>\n",
       "\t<tr><td>83</td><td>57</td><td>41</td><td>13</td><td>46</td><td> 5</td><td>73</td><td>54</td></tr>\n",
       "\t<tr><td>85</td><td> 3</td><td>94</td><td>86</td><td> 6</td><td>90</td><td>80</td><td>33</td></tr>\n",
       "\t<tr><td>96</td><td>51</td><td>18</td><td>12</td><td>74</td><td> 8</td><td>77</td><td>53</td></tr>\n",
       "\t<tr><td>89</td><td>44</td><td>94</td><td>93</td><td>70</td><td> 9</td><td>13</td><td> 2</td></tr>\n",
       "</tbody>\n",
       "</table>\n",
       "</dd>\n",
       "\t<dt>$um.array</dt>\n",
       "\t\t<dd><ol class=list-inline>\n",
       "\t<li>1</li>\n",
       "\t<li>2</li>\n",
       "\t<li>3</li>\n",
       "\t<li>4</li>\n",
       "\t<li>5</li>\n",
       "\t<li>6</li>\n",
       "\t<li>7</li>\n",
       "\t<li>8</li>\n",
       "\t<li>9</li>\n",
       "\t<li>10</li>\n",
       "\t<li>11</li>\n",
       "\t<li>12</li>\n",
       "</ol>\n",
       "</dd>\n",
       "</dl>\n"
      ],
      "text/latex": [
       "\\begin{description}\n",
       "\\item[\\$um.vetor] \\begin{enumerate*}\n",
       "\\item 1\n",
       "\\item 2\n",
       "\\item 3\n",
       "\\item 4\n",
       "\\item 5\n",
       "\\end{enumerate*}\n",
       "\n",
       "\\item[\\$um.fator] \\begin{enumerate*}\n",
       "\\item a\n",
       "\\item a\n",
       "\\item a\n",
       "\\item b\n",
       "\\item b\n",
       "\\item b\n",
       "\\item c\n",
       "\\item c\n",
       "\\item c\n",
       "\\end{enumerate*}\n",
       "\n",
       "\\emph{Levels}: \\begin{enumerate*}\n",
       "\\item 'a'\n",
       "\\item 'b'\n",
       "\\item 'c'\n",
       "\\end{enumerate*}\n",
       "\n",
       "\\item[\\$um.data.frame] \\begin{tabular}{r|ll}\n",
       " sec & inicio\\\\\n",
       "\\hline\n",
       "\t XIX  & 1801\\\\\n",
       "\t XX   & 1901\\\\\n",
       "\t XXI  & 2001\\\\\n",
       "\\end{tabular}\n",
       "\n",
       "\\item[\\$um.matriz] \\begin{tabular}{llllllll}\n",
       "\t 87 &  4 & 82 & 13 & 35 & 60 & 63 & 26\\\\\n",
       "\t 83 & 57 & 41 & 13 & 46 &  5 & 73 & 54\\\\\n",
       "\t 85 &  3 & 94 & 86 &  6 & 90 & 80 & 33\\\\\n",
       "\t 96 & 51 & 18 & 12 & 74 &  8 & 77 & 53\\\\\n",
       "\t 89 & 44 & 94 & 93 & 70 &  9 & 13 &  2\\\\\n",
       "\\end{tabular}\n",
       "\n",
       "\\item[\\$um.array] \\begin{enumerate*}\n",
       "\\item 1\n",
       "\\item 2\n",
       "\\item 3\n",
       "\\item 4\n",
       "\\item 5\n",
       "\\item 6\n",
       "\\item 7\n",
       "\\item 8\n",
       "\\item 9\n",
       "\\item 10\n",
       "\\item 11\n",
       "\\item 12\n",
       "\\end{enumerate*}\n",
       "\n",
       "\\end{description}\n"
      ],
      "text/markdown": [
       "$um.vetor\n",
       ":   1. 1\n",
       "2. 2\n",
       "3. 3\n",
       "4. 4\n",
       "5. 5\n",
       "\n",
       "\n",
       "\n",
       "$um.fator\n",
       ":   1. a\n",
       "2. a\n",
       "3. a\n",
       "4. b\n",
       "5. b\n",
       "6. b\n",
       "7. c\n",
       "8. c\n",
       "9. c\n",
       "\n",
       "\n",
       "\n",
       "**Levels**: 1. 'a'\n",
       "2. 'b'\n",
       "3. 'c'\n",
       "\n",
       "\n",
       "\n",
       "$um.data.frame\n",
       ":   \n",
       "| sec | inicio |\n",
       "|---|---|\n",
       "| XIX  | 1801 |\n",
       "| XX   | 1901 |\n",
       "| XXI  | 2001 |\n",
       "\n",
       "\n",
       "$um.matriz\n",
       ":   \n",
       "| 87 |  4 | 82 | 13 | 35 | 60 | 63 | 26 |\n",
       "| 83 | 57 | 41 | 13 | 46 |  5 | 73 | 54 |\n",
       "| 85 |  3 | 94 | 86 |  6 | 90 | 80 | 33 |\n",
       "| 96 | 51 | 18 | 12 | 74 |  8 | 77 | 53 |\n",
       "| 89 | 44 | 94 | 93 | 70 |  9 | 13 |  2 |\n",
       "\n",
       "\n",
       "$um.array\n",
       ":   1. 1\n",
       "2. 2\n",
       "3. 3\n",
       "4. 4\n",
       "5. 5\n",
       "6. 6\n",
       "7. 7\n",
       "8. 8\n",
       "9. 9\n",
       "10. 10\n",
       "11. 11\n",
       "12. 12\n",
       "\n",
       "\n",
       "\n",
       "\n",
       "\n"
      ],
      "text/plain": [
       "$um.vetor\n",
       "[1] 1 2 3 4 5\n",
       "\n",
       "$um.fator\n",
       "[1] a a a b b b c c c\n",
       "Levels: a b c\n",
       "\n",
       "$um.data.frame\n",
       "  sec inicio\n",
       "1 XIX   1801\n",
       "2  XX   1901\n",
       "3 XXI   2001\n",
       "\n",
       "$um.matriz\n",
       "     [,1] [,2] [,3] [,4] [,5] [,6] [,7] [,8]\n",
       "[1,]   87    4   82   13   35   60   63   26\n",
       "[2,]   83   57   41   13   46    5   73   54\n",
       "[3,]   85    3   94   86    6   90   80   33\n",
       "[4,]   96   51   18   12   74    8   77   53\n",
       "[5,]   89   44   94   93   70    9   13    2\n",
       "\n",
       "$um.array\n",
       ", , 1\n",
       "\n",
       "     [,1] [,2]\n",
       "[1,]    1    4\n",
       "[2,]    2    5\n",
       "[3,]    3    6\n",
       "\n",
       ", , 2\n",
       "\n",
       "     [,1] [,2]\n",
       "[1,]    7   10\n",
       "[2,]    8   11\n",
       "[3,]    9   12\n",
       "\n"
      ]
     },
     "metadata": {},
     "output_type": "display_data"
    },
    {
     "data": {
      "text/html": [
       "'list'"
      ],
      "text/latex": [
       "'list'"
      ],
      "text/markdown": [
       "'list'"
      ],
      "text/plain": [
       "[1] \"list\""
      ]
     },
     "metadata": {},
     "output_type": "display_data"
    },
    {
     "data": {
      "text/html": [
       "<table>\n",
       "<thead><tr><th scope=col>sec</th><th scope=col>inicio</th></tr></thead>\n",
       "<tbody>\n",
       "\t<tr><td>XIX </td><td>1801</td></tr>\n",
       "\t<tr><td>XX  </td><td>1901</td></tr>\n",
       "\t<tr><td>XXI </td><td>2001</td></tr>\n",
       "</tbody>\n",
       "</table>\n"
      ],
      "text/latex": [
       "\\begin{tabular}{r|ll}\n",
       " sec & inicio\\\\\n",
       "\\hline\n",
       "\t XIX  & 1801\\\\\n",
       "\t XX   & 1901\\\\\n",
       "\t XXI  & 2001\\\\\n",
       "\\end{tabular}\n"
      ],
      "text/markdown": [
       "\n",
       "| sec | inicio |\n",
       "|---|---|\n",
       "| XIX  | 1801 |\n",
       "| XX   | 1901 |\n",
       "| XXI  | 2001 |\n",
       "\n"
      ],
      "text/plain": [
       "  sec inicio\n",
       "1 XIX 1801  \n",
       "2 XX  1901  \n",
       "3 XXI 2001  "
      ]
     },
     "metadata": {},
     "output_type": "display_data"
    },
    {
     "data": {
      "text/html": [
       "<ol class=list-inline>\n",
       "\t<li>3</li>\n",
       "\t<li>2</li>\n",
       "</ol>\n"
      ],
      "text/latex": [
       "\\begin{enumerate*}\n",
       "\\item 3\n",
       "\\item 2\n",
       "\\end{enumerate*}\n"
      ],
      "text/markdown": [
       "1. 3\n",
       "2. 2\n",
       "\n",
       "\n"
      ],
      "text/plain": [
       "[1] 3 2"
      ]
     },
     "metadata": {},
     "output_type": "display_data"
    },
    {
     "data": {
      "text/html": [
       "3"
      ],
      "text/latex": [
       "3"
      ],
      "text/markdown": [
       "3"
      ],
      "text/plain": [
       "[1] 3"
      ]
     },
     "metadata": {},
     "output_type": "display_data"
    },
    {
     "data": {
      "text/html": [
       "2"
      ],
      "text/latex": [
       "2"
      ],
      "text/markdown": [
       "2"
      ],
      "text/plain": [
       "[1] 2"
      ]
     },
     "metadata": {},
     "output_type": "display_data"
    }
   ],
   "source": [
    "ls()\n",
    "a <- 1:5\n",
    "class(a)\n",
    "\n",
    "b <- factor(rep(c('a', 'b', 'c'), each=3))\n",
    "b\n",
    "class(b)\n",
    "\n",
    "c = data.frame(sec=c('XIX', 'XX', \"XXI\"), inicio=c(1801, 1901, 2001))\n",
    "c\n",
    "class(c)\n",
    "\n",
    "d = matrix(round(runif(40,0,100)), ncol=8)\n",
    "d\n",
    "class(d)\n",
    "\n",
    "e = array(1:12, c(3,2,2))\n",
    "e\n",
    "class(e)\n",
    "\n",
    "# Montando um objeto lista\n",
    "minha.lista <- list(\n",
    "    um.vetor=a,\n",
    "    um.fator=b,\n",
    "    um.data.frame=c,\n",
    "    um.matriz=d,\n",
    "    um.array=e\n",
    ")\n",
    "\n",
    "minha.lista\n",
    "\n",
    "typeof(minha.lista)\n",
    "\n",
    "# Acessando um elemento da lista\n",
    "minha.lista$um.data.frame\n",
    "# Dimensão da lista\n",
    "dim(minha.lista$um.data.frame)\n",
    "# Número de linhas do lista\n",
    "nrow(e)\n",
    "# Número de colunas da lista\n",
    "ncol(e)"
   ]
  },
  {
   "cell_type": "code",
   "execution_count": 102,
   "id": "respiratory-acoustic",
   "metadata": {},
   "outputs": [
    {
     "data": {
      "text/html": [
       "<ol class=list-inline>\n",
       "\t<li>8</li>\n",
       "\t<li>4</li>\n",
       "\t<li>&lt;NA&gt;</li>\n",
       "\t<li>9</li>\n",
       "\t<li>6</li>\n",
       "\t<li>1</li>\n",
       "\t<li>7</li>\n",
       "\t<li>5</li>\n",
       "</ol>\n"
      ],
      "text/latex": [
       "\\begin{enumerate*}\n",
       "\\item 8\n",
       "\\item 4\n",
       "\\item <NA>\n",
       "\\item 9\n",
       "\\item 6\n",
       "\\item 1\n",
       "\\item 7\n",
       "\\item 5\n",
       "\\end{enumerate*}\n"
      ],
      "text/markdown": [
       "1. 8\n",
       "2. 4\n",
       "3. &lt;NA&gt;\n",
       "4. 9\n",
       "5. 6\n",
       "6. 1\n",
       "7. 7\n",
       "8. 5\n",
       "\n",
       "\n"
      ],
      "text/plain": [
       "[1]  8  4 NA  9  6  1  7  5"
      ]
     },
     "metadata": {},
     "output_type": "display_data"
    },
    {
     "data": {
      "text/html": [
       "8"
      ],
      "text/latex": [
       "8"
      ],
      "text/markdown": [
       "8"
      ],
      "text/plain": [
       "[1] 8"
      ]
     },
     "metadata": {},
     "output_type": "display_data"
    },
    {
     "data": {
      "text/html": [
       "<ol class=list-inline>\n",
       "\t<li>8</li>\n",
       "\t<li>9</li>\n",
       "\t<li>5</li>\n",
       "</ol>\n"
      ],
      "text/latex": [
       "\\begin{enumerate*}\n",
       "\\item 8\n",
       "\\item 9\n",
       "\\item 5\n",
       "\\end{enumerate*}\n"
      ],
      "text/markdown": [
       "1. 8\n",
       "2. 9\n",
       "3. 5\n",
       "\n",
       "\n"
      ],
      "text/plain": [
       "[1] 8 9 5"
      ]
     },
     "metadata": {},
     "output_type": "display_data"
    },
    {
     "data": {
      "text/html": [
       "<ol class=list-inline>\n",
       "\t<li>4</li>\n",
       "\t<li>&lt;NA&gt;</li>\n",
       "\t<li>6</li>\n",
       "\t<li>1</li>\n",
       "\t<li>7</li>\n",
       "</ol>\n"
      ],
      "text/latex": [
       "\\begin{enumerate*}\n",
       "\\item 4\n",
       "\\item <NA>\n",
       "\\item 6\n",
       "\\item 1\n",
       "\\item 7\n",
       "\\end{enumerate*}\n"
      ],
      "text/markdown": [
       "1. 4\n",
       "2. &lt;NA&gt;\n",
       "3. 6\n",
       "4. 1\n",
       "5. 7\n",
       "\n",
       "\n"
      ],
      "text/plain": [
       "[1]  4 NA  6  1  7"
      ]
     },
     "metadata": {},
     "output_type": "display_data"
    },
    {
     "data": {
      "text/html": [
       "<ol class=list-inline>\n",
       "\t<li>8</li>\n",
       "\t<li>4</li>\n",
       "\t<li>&lt;NA&gt;</li>\n",
       "\t<li>9</li>\n",
       "\t<li>6</li>\n",
       "</ol>\n"
      ],
      "text/latex": [
       "\\begin{enumerate*}\n",
       "\\item 8\n",
       "\\item 4\n",
       "\\item <NA>\n",
       "\\item 9\n",
       "\\item 6\n",
       "\\end{enumerate*}\n"
      ],
      "text/markdown": [
       "1. 8\n",
       "2. 4\n",
       "3. &lt;NA&gt;\n",
       "4. 9\n",
       "5. 6\n",
       "\n",
       "\n"
      ],
      "text/plain": [
       "[1]  8  4 NA  9  6"
      ]
     },
     "metadata": {},
     "output_type": "display_data"
    },
    {
     "data": {
      "text/html": [
       "&lt;NA&gt;"
      ],
      "text/latex": [
       "<NA>"
      ],
      "text/markdown": [
       "&lt;NA&gt;"
      ],
      "text/plain": [
       "[1] NA"
      ]
     },
     "metadata": {},
     "output_type": "display_data"
    },
    {
     "data": {
      "text/html": [
       "<ol class=list-inline>\n",
       "\t<li>8</li>\n",
       "\t<li>4</li>\n",
       "\t<li>9</li>\n",
       "\t<li>6</li>\n",
       "\t<li>1</li>\n",
       "\t<li>7</li>\n",
       "\t<li>5</li>\n",
       "</ol>\n"
      ],
      "text/latex": [
       "\\begin{enumerate*}\n",
       "\\item 8\n",
       "\\item 4\n",
       "\\item 9\n",
       "\\item 6\n",
       "\\item 1\n",
       "\\item 7\n",
       "\\item 5\n",
       "\\end{enumerate*}\n"
      ],
      "text/markdown": [
       "1. 8\n",
       "2. 4\n",
       "3. 9\n",
       "4. 6\n",
       "5. 1\n",
       "6. 7\n",
       "7. 5\n",
       "\n",
       "\n"
      ],
      "text/plain": [
       "[1] 8 4 9 6 1 7 5"
      ]
     },
     "metadata": {},
     "output_type": "display_data"
    },
    {
     "data": {
      "text/html": [
       "<dl class=dl-horizontal>\n",
       "\t<dt>a</dt>\n",
       "\t\t<dd>8</dd>\n",
       "\t<dt>b</dt>\n",
       "\t\t<dd>4</dd>\n",
       "\t<dt>c</dt>\n",
       "\t\t<dd>&lt;NA&gt;</dd>\n",
       "\t<dt>d</dt>\n",
       "\t\t<dd>9</dd>\n",
       "\t<dt>e</dt>\n",
       "\t\t<dd>6</dd>\n",
       "\t<dt>f</dt>\n",
       "\t\t<dd>1</dd>\n",
       "\t<dt>g</dt>\n",
       "\t\t<dd>7</dd>\n",
       "\t<dt>h</dt>\n",
       "\t\t<dd>5</dd>\n",
       "</dl>\n"
      ],
      "text/latex": [
       "\\begin{description*}\n",
       "\\item[a] 8\n",
       "\\item[b] 4\n",
       "\\item[c] <NA>\n",
       "\\item[d] 9\n",
       "\\item[e] 6\n",
       "\\item[f] 1\n",
       "\\item[g] 7\n",
       "\\item[h] 5\n",
       "\\end{description*}\n"
      ],
      "text/markdown": [
       "a\n",
       ":   8b\n",
       ":   4c\n",
       ":   &lt;NA&gt;d\n",
       ":   9e\n",
       ":   6f\n",
       ":   1g\n",
       ":   7h\n",
       ":   5\n",
       "\n"
      ],
      "text/plain": [
       " a  b  c  d  e  f  g  h \n",
       " 8  4 NA  9  6  1  7  5 "
      ]
     },
     "metadata": {},
     "output_type": "display_data"
    },
    {
     "data": {
      "text/html": [
       "<strong>b:</strong> 4"
      ],
      "text/latex": [
       "\\textbf{b:} 4"
      ],
      "text/markdown": [
       "**b:** 4"
      ],
      "text/plain": [
       "b \n",
       "4 "
      ]
     },
     "metadata": {},
     "output_type": "display_data"
    },
    {
     "data": {
      "text/html": [
       "<dl class=dl-horizontal>\n",
       "\t<dt>f</dt>\n",
       "\t\t<dd>1</dd>\n",
       "\t<dt>a</dt>\n",
       "\t\t<dd>8</dd>\n",
       "</dl>\n"
      ],
      "text/latex": [
       "\\begin{description*}\n",
       "\\item[f] 1\n",
       "\\item[a] 8\n",
       "\\end{description*}\n"
      ],
      "text/markdown": [
       "f\n",
       ":   1a\n",
       ":   8\n",
       "\n"
      ],
      "text/plain": [
       "f a \n",
       "1 8 "
      ]
     },
     "metadata": {},
     "output_type": "display_data"
    }
   ],
   "source": [
    "# Indexando e acessando itens\n",
    "\n",
    "cont <- c(8,4,NA,9,6,1,7,5)\n",
    "cont\n",
    "cont[1]\n",
    "\n",
    "cont[c(1,4,8)]\n",
    "cont[-c(1,4,8)]\n",
    "\n",
    "cont[1:5]\n",
    "\n",
    "cont[is.na(cont)]\n",
    "\n",
    "cont[!is.na(cont)]\n",
    "\n",
    "\n",
    "names(cont) <- letters[1:length(cont)]\n",
    "cont\n",
    "cont['b']\n",
    "cont[c('f','a')]"
   ]
  },
  {
   "cell_type": "markdown",
   "id": "stopped-screw",
   "metadata": {},
   "source": [
    "## Matrizes"
   ]
  },
  {
   "cell_type": "code",
   "execution_count": 116,
   "id": "empirical-revolution",
   "metadata": {},
   "outputs": [
    {
     "data": {
      "text/html": [
       "<table>\n",
       "<tbody>\n",
       "\t<tr><td>1</td><td>4</td><td>7</td></tr>\n",
       "\t<tr><td>2</td><td>5</td><td>8</td></tr>\n",
       "\t<tr><td>3</td><td>6</td><td>9</td></tr>\n",
       "</tbody>\n",
       "</table>\n"
      ],
      "text/latex": [
       "\\begin{tabular}{lll}\n",
       "\t 1 & 4 & 7\\\\\n",
       "\t 2 & 5 & 8\\\\\n",
       "\t 3 & 6 & 9\\\\\n",
       "\\end{tabular}\n"
      ],
      "text/markdown": [
       "\n",
       "| 1 | 4 | 7 |\n",
       "| 2 | 5 | 8 |\n",
       "| 3 | 6 | 9 |\n",
       "\n"
      ],
      "text/plain": [
       "     [,1] [,2] [,3]\n",
       "[1,] 1    4    7   \n",
       "[2,] 2    5    8   \n",
       "[3,] 3    6    9   "
      ]
     },
     "metadata": {},
     "output_type": "display_data"
    },
    {
     "data": {
      "text/html": [
       "8"
      ],
      "text/latex": [
       "8"
      ],
      "text/markdown": [
       "8"
      ],
      "text/plain": [
       "[1] 8"
      ]
     },
     "metadata": {},
     "output_type": "display_data"
    },
    {
     "data": {
      "text/html": [
       "<ol class=list-inline>\n",
       "\t<li>1</li>\n",
       "\t<li>2</li>\n",
       "\t<li>3</li>\n",
       "</ol>\n"
      ],
      "text/latex": [
       "\\begin{enumerate*}\n",
       "\\item 1\n",
       "\\item 2\n",
       "\\item 3\n",
       "\\end{enumerate*}\n"
      ],
      "text/markdown": [
       "1. 1\n",
       "2. 2\n",
       "3. 3\n",
       "\n",
       "\n"
      ],
      "text/plain": [
       "[1] 1 2 3"
      ]
     },
     "metadata": {},
     "output_type": "display_data"
    },
    {
     "data": {
      "text/html": [
       "<ol class=list-inline>\n",
       "\t<li>1</li>\n",
       "\t<li>4</li>\n",
       "\t<li>7</li>\n",
       "</ol>\n"
      ],
      "text/latex": [
       "\\begin{enumerate*}\n",
       "\\item 1\n",
       "\\item 4\n",
       "\\item 7\n",
       "\\end{enumerate*}\n"
      ],
      "text/markdown": [
       "1. 1\n",
       "2. 4\n",
       "3. 7\n",
       "\n",
       "\n"
      ],
      "text/plain": [
       "[1] 1 4 7"
      ]
     },
     "metadata": {},
     "output_type": "display_data"
    },
    {
     "data": {
      "text/html": [
       "<table>\n",
       "<tbody>\n",
       "\t<tr><td>6</td></tr>\n",
       "</tbody>\n",
       "</table>\n"
      ],
      "text/latex": [
       "\\begin{tabular}{l}\n",
       "\t 6\\\\\n",
       "\\end{tabular}\n"
      ],
      "text/markdown": [
       "\n",
       "| 6 |\n",
       "\n"
      ],
      "text/plain": [
       "     [,1]\n",
       "[1,] 6   "
      ]
     },
     "metadata": {},
     "output_type": "display_data"
    },
    {
     "data": {
      "text/html": [
       "<table>\n",
       "<tbody>\n",
       "\t<tr><td>2</td><td>5</td><td>8</td></tr>\n",
       "</tbody>\n",
       "</table>\n"
      ],
      "text/latex": [
       "\\begin{tabular}{lll}\n",
       "\t 2 & 5 & 8\\\\\n",
       "\\end{tabular}\n"
      ],
      "text/markdown": [
       "\n",
       "| 2 | 5 | 8 |\n",
       "\n"
      ],
      "text/plain": [
       "     [,1] [,2] [,3]\n",
       "[1,] 2    5    8   "
      ]
     },
     "metadata": {},
     "output_type": "display_data"
    },
    {
     "data": {
      "text/html": [
       "<table>\n",
       "<thead><tr><th scope=col>A</th><th scope=col>B</th><th scope=col>C</th></tr></thead>\n",
       "<tbody>\n",
       "\t<tr><td>1</td><td>4</td><td>7</td></tr>\n",
       "\t<tr><td>2</td><td>5</td><td>8</td></tr>\n",
       "\t<tr><td>3</td><td>6</td><td>9</td></tr>\n",
       "</tbody>\n",
       "</table>\n"
      ],
      "text/latex": [
       "\\begin{tabular}{lll}\n",
       " A & B & C\\\\\n",
       "\\hline\n",
       "\t 1 & 4 & 7\\\\\n",
       "\t 2 & 5 & 8\\\\\n",
       "\t 3 & 6 & 9\\\\\n",
       "\\end{tabular}\n"
      ],
      "text/markdown": [
       "\n",
       "| A | B | C |\n",
       "|---|---|---|\n",
       "| 1 | 4 | 7 |\n",
       "| 2 | 5 | 8 |\n",
       "| 3 | 6 | 9 |\n",
       "\n"
      ],
      "text/plain": [
       "     A B C\n",
       "[1,] 1 4 7\n",
       "[2,] 2 5 8\n",
       "[3,] 3 6 9"
      ]
     },
     "metadata": {},
     "output_type": "display_data"
    },
    {
     "data": {
      "text/html": [
       "<table>\n",
       "<thead><tr><th></th><th scope=col>A</th><th scope=col>B</th><th scope=col>C</th></tr></thead>\n",
       "<tbody>\n",
       "\t<tr><th scope=row>X</th><td>1</td><td>4</td><td>7</td></tr>\n",
       "\t<tr><th scope=row>Y</th><td>2</td><td>5</td><td>8</td></tr>\n",
       "\t<tr><th scope=row>Z</th><td>3</td><td>6</td><td>9</td></tr>\n",
       "</tbody>\n",
       "</table>\n"
      ],
      "text/latex": [
       "\\begin{tabular}{r|lll}\n",
       "  & A & B & C\\\\\n",
       "\\hline\n",
       "\tX & 1 & 4 & 7\\\\\n",
       "\tY & 2 & 5 & 8\\\\\n",
       "\tZ & 3 & 6 & 9\\\\\n",
       "\\end{tabular}\n"
      ],
      "text/markdown": [
       "\n",
       "| <!--/--> | A | B | C |\n",
       "|---|---|---|---|\n",
       "| X | 1 | 4 | 7 |\n",
       "| Y | 2 | 5 | 8 |\n",
       "| Z | 3 | 6 | 9 |\n",
       "\n"
      ],
      "text/plain": [
       "  A B C\n",
       "X 1 4 7\n",
       "Y 2 5 8\n",
       "Z 3 6 9"
      ]
     },
     "metadata": {},
     "output_type": "display_data"
    },
    {
     "data": {
      "text/html": [
       "5"
      ],
      "text/latex": [
       "5"
      ],
      "text/markdown": [
       "5"
      ],
      "text/plain": [
       "[1] 5"
      ]
     },
     "metadata": {},
     "output_type": "display_data"
    }
   ],
   "source": [
    "# Indexação de Matriz\n",
    "\n",
    "mat = matrix(1:9, nrow=3)\n",
    "mat\n",
    "\n",
    "mat[2,3]\n",
    "mat[,1]\n",
    "mat[1,]\n",
    "\n",
    "mat[3,2, drop=FALSE] # Retorna do mesmo tipo da matriz original (int)\n",
    "mat[2,, drop=FALSE]\n",
    "\n",
    "# Cria labels para as colunas\n",
    "colnames(mat) <- LETTERS[1:3]\n",
    "mat\n",
    "\n",
    "# Cria labels para as linhas\n",
    "rownames(mat) <- LETTERS[24:26]\n",
    "mat\n",
    "\n",
    "mat['Y', 'B']"
   ]
  },
  {
   "cell_type": "markdown",
   "id": "beneficial-advancement",
   "metadata": {},
   "source": [
    "## Listas"
   ]
  },
  {
   "cell_type": "code",
   "execution_count": 129,
   "id": "physical-velvet",
   "metadata": {},
   "outputs": [
    {
     "data": {
      "text/html": [
       "<ol>\n",
       "\t<li><ol class=list-inline>\n",
       "\t<li>3</li>\n",
       "\t<li>8</li>\n",
       "\t<li>7</li>\n",
       "\t<li>4</li>\n",
       "</ol>\n",
       "</li>\n",
       "\t<li><table>\n",
       "<thead><tr><th></th><th scope=col>A</th><th scope=col>B</th><th scope=col>C</th></tr></thead>\n",
       "<tbody>\n",
       "\t<tr><th scope=row>X</th><td>1</td><td>4</td><td>7</td></tr>\n",
       "\t<tr><th scope=row>Y</th><td>2</td><td>5</td><td>8</td></tr>\n",
       "\t<tr><th scope=row>Z</th><td>3</td><td>6</td><td>9</td></tr>\n",
       "</tbody>\n",
       "</table>\n",
       "</li>\n",
       "\t<li><ol class=list-inline>\n",
       "\t<li>5</li>\n",
       "\t<li>4</li>\n",
       "\t<li>3</li>\n",
       "\t<li>2</li>\n",
       "\t<li>1</li>\n",
       "\t<li>0</li>\n",
       "</ol>\n",
       "</li>\n",
       "</ol>\n"
      ],
      "text/latex": [
       "\\begin{enumerate}\n",
       "\\item \\begin{enumerate*}\n",
       "\\item 3\n",
       "\\item 8\n",
       "\\item 7\n",
       "\\item 4\n",
       "\\end{enumerate*}\n",
       "\n",
       "\\item \\begin{tabular}{r|lll}\n",
       "  & A & B & C\\\\\n",
       "\\hline\n",
       "\tX & 1 & 4 & 7\\\\\n",
       "\tY & 2 & 5 & 8\\\\\n",
       "\tZ & 3 & 6 & 9\\\\\n",
       "\\end{tabular}\n",
       "\n",
       "\\item \\begin{enumerate*}\n",
       "\\item 5\n",
       "\\item 4\n",
       "\\item 3\n",
       "\\item 2\n",
       "\\item 1\n",
       "\\item 0\n",
       "\\end{enumerate*}\n",
       "\n",
       "\\end{enumerate}\n"
      ],
      "text/markdown": [
       "1. 1. 3\n",
       "2. 8\n",
       "3. 7\n",
       "4. 4\n",
       "\n",
       "\n",
       "\n",
       "2. \n",
       "| <!--/--> | A | B | C |\n",
       "|---|---|---|---|\n",
       "| X | 1 | 4 | 7 |\n",
       "| Y | 2 | 5 | 8 |\n",
       "| Z | 3 | 6 | 9 |\n",
       "\n",
       "\n",
       "3. 1. 5\n",
       "2. 4\n",
       "3. 3\n",
       "4. 2\n",
       "5. 1\n",
       "6. 0\n",
       "\n",
       "\n",
       "\n",
       "\n",
       "\n"
      ],
      "text/plain": [
       "[[1]]\n",
       "[1] 3 8 7 4\n",
       "\n",
       "[[2]]\n",
       "  A B C\n",
       "X 1 4 7\n",
       "Y 2 5 8\n",
       "Z 3 6 9\n",
       "\n",
       "[[3]]\n",
       "[1] 5 4 3 2 1 0\n"
      ]
     },
     "metadata": {},
     "output_type": "display_data"
    },
    {
     "data": {
      "text/html": [
       "<table>\n",
       "<thead><tr><th></th><th scope=col>A</th><th scope=col>B</th><th scope=col>C</th></tr></thead>\n",
       "<tbody>\n",
       "\t<tr><th scope=row>X</th><td>1</td><td>4</td><td>7</td></tr>\n",
       "\t<tr><th scope=row>Y</th><td>2</td><td>5</td><td>8</td></tr>\n",
       "\t<tr><th scope=row>Z</th><td>3</td><td>6</td><td>9</td></tr>\n",
       "</tbody>\n",
       "</table>\n"
      ],
      "text/latex": [
       "\\begin{tabular}{r|lll}\n",
       "  & A & B & C\\\\\n",
       "\\hline\n",
       "\tX & 1 & 4 & 7\\\\\n",
       "\tY & 2 & 5 & 8\\\\\n",
       "\tZ & 3 & 6 & 9\\\\\n",
       "\\end{tabular}\n"
      ],
      "text/markdown": [
       "\n",
       "| <!--/--> | A | B | C |\n",
       "|---|---|---|---|\n",
       "| X | 1 | 4 | 7 |\n",
       "| Y | 2 | 5 | 8 |\n",
       "| Z | 3 | 6 | 9 |\n",
       "\n"
      ],
      "text/plain": [
       "  A B C\n",
       "X 1 4 7\n",
       "Y 2 5 8\n",
       "Z 3 6 9"
      ]
     },
     "metadata": {},
     "output_type": "display_data"
    },
    {
     "data": {
      "text/html": [
       "8"
      ],
      "text/latex": [
       "8"
      ],
      "text/markdown": [
       "8"
      ],
      "text/plain": [
       "[1] 8"
      ]
     },
     "metadata": {},
     "output_type": "display_data"
    },
    {
     "data": {
      "text/html": [
       "<dl>\n",
       "\t<dt>$vetor1</dt>\n",
       "\t\t<dd><ol class=list-inline>\n",
       "\t<li>3</li>\n",
       "\t<li>8</li>\n",
       "\t<li>7</li>\n",
       "\t<li>4</li>\n",
       "</ol>\n",
       "</dd>\n",
       "\t<dt>$mat</dt>\n",
       "\t\t<dd><table>\n",
       "<thead><tr><th></th><th scope=col>A</th><th scope=col>B</th><th scope=col>C</th></tr></thead>\n",
       "<tbody>\n",
       "\t<tr><th scope=row>X</th><td>1</td><td>4</td><td>7</td></tr>\n",
       "\t<tr><th scope=row>Y</th><td>2</td><td>5</td><td>8</td></tr>\n",
       "\t<tr><th scope=row>Z</th><td>3</td><td>6</td><td>9</td></tr>\n",
       "</tbody>\n",
       "</table>\n",
       "</dd>\n",
       "\t<dt>$vetor2</dt>\n",
       "\t\t<dd><ol class=list-inline>\n",
       "\t<li>5</li>\n",
       "\t<li>4</li>\n",
       "\t<li>3</li>\n",
       "\t<li>2</li>\n",
       "\t<li>1</li>\n",
       "\t<li>0</li>\n",
       "</ol>\n",
       "</dd>\n",
       "</dl>\n"
      ],
      "text/latex": [
       "\\begin{description}\n",
       "\\item[\\$vetor1] \\begin{enumerate*}\n",
       "\\item 3\n",
       "\\item 8\n",
       "\\item 7\n",
       "\\item 4\n",
       "\\end{enumerate*}\n",
       "\n",
       "\\item[\\$mat] \\begin{tabular}{r|lll}\n",
       "  & A & B & C\\\\\n",
       "\\hline\n",
       "\tX & 1 & 4 & 7\\\\\n",
       "\tY & 2 & 5 & 8\\\\\n",
       "\tZ & 3 & 6 & 9\\\\\n",
       "\\end{tabular}\n",
       "\n",
       "\\item[\\$vetor2] \\begin{enumerate*}\n",
       "\\item 5\n",
       "\\item 4\n",
       "\\item 3\n",
       "\\item 2\n",
       "\\item 1\n",
       "\\item 0\n",
       "\\end{enumerate*}\n",
       "\n",
       "\\end{description}\n"
      ],
      "text/markdown": [
       "$vetor1\n",
       ":   1. 3\n",
       "2. 8\n",
       "3. 7\n",
       "4. 4\n",
       "\n",
       "\n",
       "\n",
       "$mat\n",
       ":   \n",
       "| <!--/--> | A | B | C |\n",
       "|---|---|---|---|\n",
       "| X | 1 | 4 | 7 |\n",
       "| Y | 2 | 5 | 8 |\n",
       "| Z | 3 | 6 | 9 |\n",
       "\n",
       "\n",
       "$vetor2\n",
       ":   1. 5\n",
       "2. 4\n",
       "3. 3\n",
       "4. 2\n",
       "5. 1\n",
       "6. 0\n",
       "\n",
       "\n",
       "\n",
       "\n",
       "\n"
      ],
      "text/plain": [
       "$vetor1\n",
       "[1] 3 8 7 4\n",
       "\n",
       "$mat\n",
       "  A B C\n",
       "X 1 4 7\n",
       "Y 2 5 8\n",
       "Z 3 6 9\n",
       "\n",
       "$vetor2\n",
       "[1] 5 4 3 2 1 0\n"
      ]
     },
     "metadata": {},
     "output_type": "display_data"
    },
    {
     "data": {
      "text/html": [
       "8"
      ],
      "text/latex": [
       "8"
      ],
      "text/markdown": [
       "8"
      ],
      "text/plain": [
       "[1] 8"
      ]
     },
     "metadata": {},
     "output_type": "display_data"
    },
    {
     "data": {
      "text/html": [
       "1"
      ],
      "text/latex": [
       "1"
      ],
      "text/markdown": [
       "1"
      ],
      "text/plain": [
       "[1] 1"
      ]
     },
     "metadata": {},
     "output_type": "display_data"
    }
   ],
   "source": [
    "lis <- list(c(3,8,7,4), mat, 5:0)\n",
    "\n",
    "lis\n",
    "\n",
    "lis[[2]]\n",
    "lis[[2]][2,3]\n",
    "\n",
    "lis <- list(vetor1=c(3,8,7,4), mat=mat, vetor2=5:0)\n",
    "lis\n",
    "\n",
    "lis$vetor1[2]\n",
    "lis[['mat']][1,1]"
   ]
  },
  {
   "cell_type": "markdown",
   "id": "recovered-freeze",
   "metadata": {},
   "source": [
    "## Dataframes"
   ]
  },
  {
   "cell_type": "code",
   "execution_count": 138,
   "id": "abandoned-associate",
   "metadata": {},
   "outputs": [
    {
     "data": {
      "text/html": [
       "<table>\n",
       "<thead><tr><th scope=col>A</th><th scope=col>B</th></tr></thead>\n",
       "<tbody>\n",
       "\t<tr><td>4 </td><td> 2</td></tr>\n",
       "\t<tr><td>3 </td><td>NA</td></tr>\n",
       "\t<tr><td>2 </td><td> 5</td></tr>\n",
       "\t<tr><td>1 </td><td> 8</td></tr>\n",
       "</tbody>\n",
       "</table>\n"
      ],
      "text/latex": [
       "\\begin{tabular}{r|ll}\n",
       " A & B\\\\\n",
       "\\hline\n",
       "\t 4  &  2\\\\\n",
       "\t 3  & NA\\\\\n",
       "\t 2  &  5\\\\\n",
       "\t 1  &  8\\\\\n",
       "\\end{tabular}\n"
      ],
      "text/markdown": [
       "\n",
       "| A | B |\n",
       "|---|---|\n",
       "| 4  |  2 |\n",
       "| 3  | NA |\n",
       "| 2  |  5 |\n",
       "| 1  |  8 |\n",
       "\n"
      ],
      "text/plain": [
       "  A B \n",
       "1 4  2\n",
       "2 3 NA\n",
       "3 2  5\n",
       "4 1  8"
      ]
     },
     "metadata": {},
     "output_type": "display_data"
    },
    {
     "data": {
      "text/html": [
       "3"
      ],
      "text/latex": [
       "3"
      ],
      "text/markdown": [
       "3"
      ],
      "text/plain": [
       "[1] 3"
      ]
     },
     "metadata": {},
     "output_type": "display_data"
    },
    {
     "data": {
      "text/html": [
       "<ol class=list-inline>\n",
       "\t<li>2</li>\n",
       "\t<li>&lt;NA&gt;</li>\n",
       "\t<li>5</li>\n",
       "\t<li>8</li>\n",
       "</ol>\n"
      ],
      "text/latex": [
       "\\begin{enumerate*}\n",
       "\\item 2\n",
       "\\item <NA>\n",
       "\\item 5\n",
       "\\item 8\n",
       "\\end{enumerate*}\n"
      ],
      "text/markdown": [
       "1. 2\n",
       "2. &lt;NA&gt;\n",
       "3. 5\n",
       "4. 8\n",
       "\n",
       "\n"
      ],
      "text/plain": [
       "[1]  2 NA  5  8"
      ]
     },
     "metadata": {},
     "output_type": "display_data"
    },
    {
     "data": {
      "text/html": [
       "<table>\n",
       "<thead><tr><th scope=col>A</th><th scope=col>B</th></tr></thead>\n",
       "<tbody>\n",
       "\t<tr><td>4</td><td>2</td></tr>\n",
       "</tbody>\n",
       "</table>\n"
      ],
      "text/latex": [
       "\\begin{tabular}{r|ll}\n",
       " A & B\\\\\n",
       "\\hline\n",
       "\t 4 & 2\\\\\n",
       "\\end{tabular}\n"
      ],
      "text/markdown": [
       "\n",
       "| A | B |\n",
       "|---|---|\n",
       "| 4 | 2 |\n",
       "\n"
      ],
      "text/plain": [
       "  A B\n",
       "1 4 2"
      ]
     },
     "metadata": {},
     "output_type": "display_data"
    },
    {
     "data": {
      "text/html": [
       "5"
      ],
      "text/latex": [
       "5"
      ],
      "text/markdown": [
       "5"
      ],
      "text/plain": [
       "[1] 5"
      ]
     },
     "metadata": {},
     "output_type": "display_data"
    },
    {
     "data": {
      "text/html": [
       "<table>\n",
       "<thead><tr><th scope=col>A</th><th scope=col>B</th></tr></thead>\n",
       "<tbody>\n",
       "</tbody>\n",
       "</table>\n"
      ],
      "text/latex": [
       "\\begin{tabular}{r|ll}\n",
       " A & B\\\\\n",
       "\\hline\n",
       "\\end{tabular}\n"
      ],
      "text/markdown": [
       "\n",
       "| A | B |\n",
       "|---|---|\n",
       "\n"
      ],
      "text/plain": [
       "     A B"
      ]
     },
     "metadata": {},
     "output_type": "display_data"
    },
    {
     "data": {
      "text/html": [
       "<table>\n",
       "<thead><tr><th></th><th scope=col>A</th><th scope=col>B</th></tr></thead>\n",
       "<tbody>\n",
       "\t<tr><th scope=row>2</th><td>3 </td><td>NA</td></tr>\n",
       "</tbody>\n",
       "</table>\n"
      ],
      "text/latex": [
       "\\begin{tabular}{r|ll}\n",
       "  & A & B\\\\\n",
       "\\hline\n",
       "\t2 & 3  & NA\\\\\n",
       "\\end{tabular}\n"
      ],
      "text/markdown": [
       "\n",
       "| <!--/--> | A | B |\n",
       "|---|---|---|\n",
       "| 2 | 3  | NA |\n",
       "\n"
      ],
      "text/plain": [
       "  A B \n",
       "2 3 NA"
      ]
     },
     "metadata": {},
     "output_type": "display_data"
    },
    {
     "data": {
      "text/html": [
       "<ol class=list-inline>\n",
       "\t<li>FALSE</li>\n",
       "\t<li>TRUE</li>\n",
       "\t<li>FALSE</li>\n",
       "\t<li>FALSE</li>\n",
       "</ol>\n"
      ],
      "text/latex": [
       "\\begin{enumerate*}\n",
       "\\item FALSE\n",
       "\\item TRUE\n",
       "\\item FALSE\n",
       "\\item FALSE\n",
       "\\end{enumerate*}\n"
      ],
      "text/markdown": [
       "1. FALSE\n",
       "2. TRUE\n",
       "3. FALSE\n",
       "4. FALSE\n",
       "\n",
       "\n"
      ],
      "text/plain": [
       "[1] FALSE  TRUE FALSE FALSE"
      ]
     },
     "metadata": {},
     "output_type": "display_data"
    }
   ],
   "source": [
    "da <- data.frame(A=4:1, B=c(2,NA,5,8))\n",
    "\n",
    "da\n",
    "\n",
    "da[2,1]\n",
    "da[,2]\n",
    "da[1,]\n",
    "\n",
    "da$B[3]\n",
    "\n",
    "da[is.na(da$A),]\n",
    "da[is.na(da$B),]\n",
    "\n",
    "is.na(da$B)"
   ]
  },
  {
   "cell_type": "markdown",
   "id": "sized-tension",
   "metadata": {},
   "source": [
    "## Seleção Condicional"
   ]
  },
  {
   "cell_type": "code",
   "execution_count": 158,
   "id": "proper-greenhouse",
   "metadata": {},
   "outputs": [
    {
     "data": {
      "text/html": [
       "<ol class=list-inline>\n",
       "\t<li>5</li>\n",
       "\t<li>15</li>\n",
       "\t<li>42</li>\n",
       "\t<li>28</li>\n",
       "\t<li>79</li>\n",
       "\t<li>4</li>\n",
       "\t<li>7</li>\n",
       "\t<li>14</li>\n",
       "</ol>\n"
      ],
      "text/latex": [
       "\\begin{enumerate*}\n",
       "\\item 5\n",
       "\\item 15\n",
       "\\item 42\n",
       "\\item 28\n",
       "\\item 79\n",
       "\\item 4\n",
       "\\item 7\n",
       "\\item 14\n",
       "\\end{enumerate*}\n"
      ],
      "text/markdown": [
       "1. 5\n",
       "2. 15\n",
       "3. 42\n",
       "4. 28\n",
       "5. 79\n",
       "6. 4\n",
       "7. 7\n",
       "8. 14\n",
       "\n",
       "\n"
      ],
      "text/plain": [
       "[1]  5 15 42 28 79  4  7 14"
      ]
     },
     "metadata": {},
     "output_type": "display_data"
    },
    {
     "data": {
      "text/html": [
       "<ol class=list-inline>\n",
       "\t<li>FALSE</li>\n",
       "\t<li>FALSE</li>\n",
       "\t<li>TRUE</li>\n",
       "\t<li>TRUE</li>\n",
       "\t<li>TRUE</li>\n",
       "\t<li>FALSE</li>\n",
       "\t<li>FALSE</li>\n",
       "\t<li>FALSE</li>\n",
       "</ol>\n"
      ],
      "text/latex": [
       "\\begin{enumerate*}\n",
       "\\item FALSE\n",
       "\\item FALSE\n",
       "\\item TRUE\n",
       "\\item TRUE\n",
       "\\item TRUE\n",
       "\\item FALSE\n",
       "\\item FALSE\n",
       "\\item FALSE\n",
       "\\end{enumerate*}\n"
      ],
      "text/markdown": [
       "1. FALSE\n",
       "2. FALSE\n",
       "3. TRUE\n",
       "4. TRUE\n",
       "5. TRUE\n",
       "6. FALSE\n",
       "7. FALSE\n",
       "8. FALSE\n",
       "\n",
       "\n"
      ],
      "text/plain": [
       "[1] FALSE FALSE  TRUE  TRUE  TRUE FALSE FALSE FALSE"
      ]
     },
     "metadata": {},
     "output_type": "display_data"
    },
    {
     "data": {
      "text/html": [
       "<ol class=list-inline>\n",
       "\t<li>42</li>\n",
       "\t<li>28</li>\n",
       "\t<li>79</li>\n",
       "</ol>\n"
      ],
      "text/latex": [
       "\\begin{enumerate*}\n",
       "\\item 42\n",
       "\\item 28\n",
       "\\item 79\n",
       "\\end{enumerate*}\n"
      ],
      "text/markdown": [
       "1. 42\n",
       "2. 28\n",
       "3. 79\n",
       "\n",
       "\n"
      ],
      "text/plain": [
       "[1] 42 28 79"
      ]
     },
     "metadata": {},
     "output_type": "display_data"
    },
    {
     "data": {
      "text/html": [
       "28"
      ],
      "text/latex": [
       "28"
      ],
      "text/markdown": [
       "28"
      ],
      "text/plain": [
       "[1] 28"
      ]
     },
     "metadata": {},
     "output_type": "display_data"
    },
    {
     "data": {
      "text/html": [
       "<ol class=list-inline>\n",
       "\t<li>TRUE</li>\n",
       "\t<li>TRUE</li>\n",
       "\t<li>TRUE</li>\n",
       "\t<li>TRUE</li>\n",
       "\t<li>TRUE</li>\n",
       "\t<li>TRUE</li>\n",
       "\t<li>TRUE</li>\n",
       "\t<li>TRUE</li>\n",
       "</ol>\n"
      ],
      "text/latex": [
       "\\begin{enumerate*}\n",
       "\\item TRUE\n",
       "\\item TRUE\n",
       "\\item TRUE\n",
       "\\item TRUE\n",
       "\\item TRUE\n",
       "\\item TRUE\n",
       "\\item TRUE\n",
       "\\item TRUE\n",
       "\\end{enumerate*}\n"
      ],
      "text/markdown": [
       "1. TRUE\n",
       "2. TRUE\n",
       "3. TRUE\n",
       "4. TRUE\n",
       "5. TRUE\n",
       "6. TRUE\n",
       "7. TRUE\n",
       "8. TRUE\n",
       "\n",
       "\n"
      ],
      "text/plain": [
       "[1] TRUE TRUE TRUE TRUE TRUE TRUE TRUE TRUE"
      ]
     },
     "metadata": {},
     "output_type": "display_data"
    },
    {
     "data": {
      "text/html": [
       "<ol class=list-inline>\n",
       "\t<li>'a'</li>\n",
       "\t<li>'b'</li>\n",
       "\t<li>'c'</li>\n",
       "\t<li>'d'</li>\n",
       "\t<li>'e'</li>\n",
       "\t<li>'f'</li>\n",
       "\t<li>'g'</li>\n",
       "\t<li>'h'</li>\n",
       "</ol>\n"
      ],
      "text/latex": [
       "\\begin{enumerate*}\n",
       "\\item 'a'\n",
       "\\item 'b'\n",
       "\\item 'c'\n",
       "\\item 'd'\n",
       "\\item 'e'\n",
       "\\item 'f'\n",
       "\\item 'g'\n",
       "\\item 'h'\n",
       "\\end{enumerate*}\n"
      ],
      "text/markdown": [
       "1. 'a'\n",
       "2. 'b'\n",
       "3. 'c'\n",
       "4. 'd'\n",
       "5. 'e'\n",
       "6. 'f'\n",
       "7. 'g'\n",
       "8. 'h'\n",
       "\n",
       "\n"
      ],
      "text/plain": [
       "[1] \"a\" \"b\" \"c\" \"d\" \"e\" \"f\" \"g\" \"h\""
      ]
     },
     "metadata": {},
     "output_type": "display_data"
    },
    {
     "data": {
      "text/html": [
       "<ol class=list-inline>\n",
       "\t<li>FALSE</li>\n",
       "\t<li>FALSE</li>\n",
       "\t<li>TRUE</li>\n",
       "\t<li>FALSE</li>\n",
       "\t<li>FALSE</li>\n",
       "\t<li>FALSE</li>\n",
       "\t<li>FALSE</li>\n",
       "\t<li>FALSE</li>\n",
       "</ol>\n"
      ],
      "text/latex": [
       "\\begin{enumerate*}\n",
       "\\item FALSE\n",
       "\\item FALSE\n",
       "\\item TRUE\n",
       "\\item FALSE\n",
       "\\item FALSE\n",
       "\\item FALSE\n",
       "\\item FALSE\n",
       "\\item FALSE\n",
       "\\end{enumerate*}\n"
      ],
      "text/markdown": [
       "1. FALSE\n",
       "2. FALSE\n",
       "3. TRUE\n",
       "4. FALSE\n",
       "5. FALSE\n",
       "6. FALSE\n",
       "7. FALSE\n",
       "8. FALSE\n",
       "\n",
       "\n"
      ],
      "text/plain": [
       "[1] FALSE FALSE  TRUE FALSE FALSE FALSE FALSE FALSE"
      ]
     },
     "metadata": {},
     "output_type": "display_data"
    },
    {
     "data": {
      "text/html": [
       "42"
      ],
      "text/latex": [
       "42"
      ],
      "text/markdown": [
       "42"
      ],
      "text/plain": [
       "[1] 42"
      ]
     },
     "metadata": {},
     "output_type": "display_data"
    },
    {
     "data": {
      "text/html": [
       "<ol class=list-inline>\n",
       "\t<li>TRUE</li>\n",
       "\t<li>FALSE</li>\n",
       "\t<li>TRUE</li>\n",
       "\t<li>FALSE</li>\n",
       "\t<li>FALSE</li>\n",
       "\t<li>FALSE</li>\n",
       "\t<li>FALSE</li>\n",
       "\t<li>FALSE</li>\n",
       "</ol>\n"
      ],
      "text/latex": [
       "\\begin{enumerate*}\n",
       "\\item TRUE\n",
       "\\item FALSE\n",
       "\\item TRUE\n",
       "\\item FALSE\n",
       "\\item FALSE\n",
       "\\item FALSE\n",
       "\\item FALSE\n",
       "\\item FALSE\n",
       "\\end{enumerate*}\n"
      ],
      "text/markdown": [
       "1. TRUE\n",
       "2. FALSE\n",
       "3. TRUE\n",
       "4. FALSE\n",
       "5. FALSE\n",
       "6. FALSE\n",
       "7. FALSE\n",
       "8. FALSE\n",
       "\n",
       "\n"
      ],
      "text/plain": [
       "[1]  TRUE FALSE  TRUE FALSE FALSE FALSE FALSE FALSE"
      ]
     },
     "metadata": {},
     "output_type": "display_data"
    },
    {
     "data": {
      "text/html": [
       "<ol class=list-inline>\n",
       "\t<li>5</li>\n",
       "\t<li>42</li>\n",
       "</ol>\n"
      ],
      "text/latex": [
       "\\begin{enumerate*}\n",
       "\\item 5\n",
       "\\item 42\n",
       "\\end{enumerate*}\n"
      ],
      "text/markdown": [
       "1. 5\n",
       "2. 42\n",
       "\n",
       "\n"
      ],
      "text/plain": [
       "[1]  5 42"
      ]
     },
     "metadata": {},
     "output_type": "display_data"
    }
   ],
   "source": [
    "dados <- c(5,15,42,28,79,4,7,14)\n",
    "dados\n",
    "\n",
    "dados > 15\n",
    "dados[ dados > 15 ]\n",
    "dados [ dados > 15 & dados <= 35 ]\n",
    "\n",
    "dados > 15 | dados <= 35\n",
    "\n",
    "cara <- letters[1:length(dados)] #\n",
    "cara\n",
    "\n",
    "cara =='c'\n",
    "dados[cara =='c']\n",
    "\n",
    "cara %in% c('a','c')\n",
    "dados [ cara %in% c('a','c') ]"
   ]
  },
  {
   "cell_type": "code",
   "execution_count": 161,
   "id": "overhead-equivalent",
   "metadata": {},
   "outputs": [
    {
     "data": {
      "text/html": [
       "'b'"
      ],
      "text/latex": [
       "'b'"
      ],
      "text/markdown": [
       "'b'"
      ],
      "text/plain": [
       "[1] \"b\""
      ]
     },
     "metadata": {},
     "output_type": "display_data"
    },
    {
     "data": {
      "text/html": [
       "<ol class=list-inline>\n",
       "\t<li>3</li>\n",
       "\t<li>4</li>\n",
       "\t<li>5</li>\n",
       "</ol>\n"
      ],
      "text/latex": [
       "\\begin{enumerate*}\n",
       "\\item 3\n",
       "\\item 4\n",
       "\\item 5\n",
       "\\end{enumerate*}\n"
      ],
      "text/markdown": [
       "1. 3\n",
       "2. 4\n",
       "3. 5\n",
       "\n",
       "\n"
      ],
      "text/plain": [
       "[1] 3 4 5"
      ]
     },
     "metadata": {},
     "output_type": "display_data"
    },
    {
     "data": {
      "text/html": [
       "3"
      ],
      "text/latex": [
       "3"
      ],
      "text/markdown": [
       "3"
      ],
      "text/plain": [
       "[1] 3"
      ]
     },
     "metadata": {},
     "output_type": "display_data"
    },
    {
     "data": {
      "text/html": [
       "<ol class=list-inline>\n",
       "\t<li>1</li>\n",
       "\t<li>3</li>\n",
       "</ol>\n"
      ],
      "text/latex": [
       "\\begin{enumerate*}\n",
       "\\item 1\n",
       "\\item 3\n",
       "\\end{enumerate*}\n"
      ],
      "text/markdown": [
       "1. 1\n",
       "2. 3\n",
       "\n",
       "\n"
      ],
      "text/plain": [
       "[1] 1 3"
      ]
     },
     "metadata": {},
     "output_type": "display_data"
    }
   ],
   "source": [
    "cara[ dados == 15 ]\n",
    "\n",
    "which(dados>15)\n",
    "which(cara=='c')\n",
    "which( cara %in% c('a', 'c') )"
   ]
  },
  {
   "cell_type": "markdown",
   "id": "unique-teddy",
   "metadata": {},
   "source": [
    "## Exercício 1"
   ]
  },
  {
   "cell_type": "code",
   "execution_count": 183,
   "id": "enclosed-producer",
   "metadata": {},
   "outputs": [
    {
     "data": {
      "text/html": [
       "<table>\n",
       "<thead><tr><th scope=col>ano</th><th scope=col>captura</th><th scope=col>porto</th></tr></thead>\n",
       "<tbody>\n",
       "\t<tr><td>2001</td><td>26  </td><td>SP  </td></tr>\n",
       "\t<tr><td>2001</td><td>18  </td><td>RS  </td></tr>\n",
       "\t<tr><td>2003</td><td>25  </td><td>CE  </td></tr>\n",
       "\t<tr><td>2004</td><td>32  </td><td>SC  </td></tr>\n",
       "\t<tr><td>2005</td><td>NA  </td><td>RN  </td></tr>\n",
       "</tbody>\n",
       "</table>\n"
      ],
      "text/latex": [
       "\\begin{tabular}{r|lll}\n",
       " ano & captura & porto\\\\\n",
       "\\hline\n",
       "\t 2001 & 26   & SP  \\\\\n",
       "\t 2001 & 18   & RS  \\\\\n",
       "\t 2003 & 25   & CE  \\\\\n",
       "\t 2004 & 32   & SC  \\\\\n",
       "\t 2005 & NA   & RN  \\\\\n",
       "\\end{tabular}\n"
      ],
      "text/markdown": [
       "\n",
       "| ano | captura | porto |\n",
       "|---|---|---|\n",
       "| 2001 | 26   | SP   |\n",
       "| 2001 | 18   | RS   |\n",
       "| 2003 | 25   | CE   |\n",
       "| 2004 | 32   | SC   |\n",
       "| 2005 | NA   | RN   |\n",
       "\n"
      ],
      "text/plain": [
       "  ano  captura porto\n",
       "1 2001 26      SP   \n",
       "2 2001 18      RS   \n",
       "3 2003 25      CE   \n",
       "4 2004 32      SC   \n",
       "5 2005 NA      RN   "
      ]
     },
     "metadata": {},
     "output_type": "display_data"
    }
   ],
   "source": [
    "dados <- data.frame(ano = c(2001,2001,2003,2004,2005),\n",
    "                    captura = c(26,18,25,32,NA),\n",
    "                    porto=c(\"SP\",\"RS\",\"CE\",\"SC\",\"RN\"))\n",
    "dados"
   ]
  },
  {
   "cell_type": "code",
   "execution_count": 178,
   "id": "loose-accident",
   "metadata": {},
   "outputs": [
    {
     "data": {
      "text/html": [
       "<table>\n",
       "<thead><tr><th></th><th scope=col>ano</th><th scope=col>captura</th><th scope=col>porto</th></tr></thead>\n",
       "<tbody>\n",
       "\t<tr><th scope=row>4</th><td>2004</td><td>32  </td><td>SC  </td></tr>\n",
       "</tbody>\n",
       "</table>\n"
      ],
      "text/latex": [
       "\\begin{tabular}{r|lll}\n",
       "  & ano & captura & porto\\\\\n",
       "\\hline\n",
       "\t4 & 2004 & 32   & SC  \\\\\n",
       "\\end{tabular}\n"
      ],
      "text/markdown": [
       "\n",
       "| <!--/--> | ano | captura | porto |\n",
       "|---|---|---|---|\n",
       "| 4 | 2004 | 32   | SC   |\n",
       "\n"
      ],
      "text/plain": [
       "  ano  captura porto\n",
       "4 2004 32      SC   "
      ]
     },
     "metadata": {},
     "output_type": "display_data"
    },
    {
     "data": {
      "text/html": [
       "<table>\n",
       "<thead><tr><th></th><th scope=col>ano</th><th scope=col>captura</th><th scope=col>porto</th></tr></thead>\n",
       "<tbody>\n",
       "\t<tr><th scope=row>4</th><td>2004</td><td>32  </td><td>SC  </td></tr>\n",
       "</tbody>\n",
       "</table>\n"
      ],
      "text/latex": [
       "\\begin{tabular}{r|lll}\n",
       "  & ano & captura & porto\\\\\n",
       "\\hline\n",
       "\t4 & 2004 & 32   & SC  \\\\\n",
       "\\end{tabular}\n"
      ],
      "text/markdown": [
       "\n",
       "| <!--/--> | ano | captura | porto |\n",
       "|---|---|---|---|\n",
       "| 4 | 2004 | 32   | SC   |\n",
       "\n"
      ],
      "text/plain": [
       "  ano  captura porto\n",
       "4 2004 32      SC   "
      ]
     },
     "metadata": {},
     "output_type": "display_data"
    }
   ],
   "source": [
    "# Dados do ano de 2004\n",
    "dados[ dados$ano == 2004, ]\n",
    "subset(dados,dados$ano ==2004)"
   ]
  },
  {
   "cell_type": "code",
   "execution_count": 180,
   "id": "chronic-yemen",
   "metadata": {},
   "outputs": [
    {
     "data": {
      "text/html": [
       "<table>\n",
       "<thead><tr><th></th><th scope=col>ano</th><th scope=col>captura</th><th scope=col>porto</th></tr></thead>\n",
       "<tbody>\n",
       "\t<tr><th scope=row>3</th><td>2003</td><td>25  </td><td>SC  </td></tr>\n",
       "\t<tr><th scope=row>4</th><td>2004</td><td>32  </td><td>SC  </td></tr>\n",
       "</tbody>\n",
       "</table>\n"
      ],
      "text/latex": [
       "\\begin{tabular}{r|lll}\n",
       "  & ano & captura & porto\\\\\n",
       "\\hline\n",
       "\t3 & 2003 & 25   & SC  \\\\\n",
       "\t4 & 2004 & 32   & SC  \\\\\n",
       "\\end{tabular}\n"
      ],
      "text/markdown": [
       "\n",
       "| <!--/--> | ano | captura | porto |\n",
       "|---|---|---|---|\n",
       "| 3 | 2003 | 25   | SC   |\n",
       "| 4 | 2004 | 32   | SC   |\n",
       "\n"
      ],
      "text/plain": [
       "  ano  captura porto\n",
       "3 2003 25      SC   \n",
       "4 2004 32      SC   "
      ]
     },
     "metadata": {},
     "output_type": "display_data"
    },
    {
     "data": {
      "text/html": [
       "<table>\n",
       "<thead><tr><th></th><th scope=col>ano</th><th scope=col>captura</th><th scope=col>porto</th></tr></thead>\n",
       "<tbody>\n",
       "\t<tr><th scope=row>3</th><td>2003</td><td>25  </td><td>SC  </td></tr>\n",
       "\t<tr><th scope=row>4</th><td>2004</td><td>32  </td><td>SC  </td></tr>\n",
       "</tbody>\n",
       "</table>\n"
      ],
      "text/latex": [
       "\\begin{tabular}{r|lll}\n",
       "  & ano & captura & porto\\\\\n",
       "\\hline\n",
       "\t3 & 2003 & 25   & SC  \\\\\n",
       "\t4 & 2004 & 32   & SC  \\\\\n",
       "\\end{tabular}\n"
      ],
      "text/markdown": [
       "\n",
       "| <!--/--> | ano | captura | porto |\n",
       "|---|---|---|---|\n",
       "| 3 | 2003 | 25   | SC   |\n",
       "| 4 | 2004 | 32   | SC   |\n",
       "\n"
      ],
      "text/plain": [
       "  ano  captura porto\n",
       "3 2003 25      SC   \n",
       "4 2004 32      SC   "
      ]
     },
     "metadata": {},
     "output_type": "display_data"
    },
    {
     "data": {
      "text/html": [
       "<table>\n",
       "<thead><tr><th></th><th scope=col>ano</th><th scope=col>captura</th><th scope=col>porto</th></tr></thead>\n",
       "<tbody>\n",
       "\t<tr><th scope=row>3</th><td>2003</td><td>25  </td><td>SC  </td></tr>\n",
       "\t<tr><th scope=row>4</th><td>2004</td><td>32  </td><td>SC  </td></tr>\n",
       "</tbody>\n",
       "</table>\n"
      ],
      "text/latex": [
       "\\begin{tabular}{r|lll}\n",
       "  & ano & captura & porto\\\\\n",
       "\\hline\n",
       "\t3 & 2003 & 25   & SC  \\\\\n",
       "\t4 & 2004 & 32   & SC  \\\\\n",
       "\\end{tabular}\n"
      ],
      "text/markdown": [
       "\n",
       "| <!--/--> | ano | captura | porto |\n",
       "|---|---|---|---|\n",
       "| 3 | 2003 | 25   | SC   |\n",
       "| 4 | 2004 | 32   | SC   |\n",
       "\n"
      ],
      "text/plain": [
       "  ano  captura porto\n",
       "3 2003 25      SC   \n",
       "4 2004 32      SC   "
      ]
     },
     "metadata": {},
     "output_type": "display_data"
    }
   ],
   "source": [
    "# Dados do estado de SC\n",
    "dados[dados$porto==\"SC\",]\n",
    "dados[ dados$porto %in% \"SC\", ]\n",
    "subset(dados,dados$porto==\"SC\")"
   ]
  },
  {
   "cell_type": "code",
   "execution_count": 181,
   "id": "checked-luxury",
   "metadata": {},
   "outputs": [
    {
     "data": {
      "text/html": [
       "<table>\n",
       "<thead><tr><th></th><th scope=col>ano</th><th scope=col>captura</th><th scope=col>porto</th></tr></thead>\n",
       "<tbody>\n",
       "\t<tr><th scope=row>1</th><td>2001</td><td>26  </td><td>SP  </td></tr>\n",
       "\t<tr><th scope=row>4</th><td>2004</td><td>32  </td><td>SC  </td></tr>\n",
       "\t<tr><th scope=row>NA</th><td>  NA</td><td>NA  </td><td>NA  </td></tr>\n",
       "</tbody>\n",
       "</table>\n"
      ],
      "text/latex": [
       "\\begin{tabular}{r|lll}\n",
       "  & ano & captura & porto\\\\\n",
       "\\hline\n",
       "\t1 & 2001 & 26   & SP  \\\\\n",
       "\t4 & 2004 & 32   & SC  \\\\\n",
       "\tNA &   NA & NA   & NA  \\\\\n",
       "\\end{tabular}\n"
      ],
      "text/markdown": [
       "\n",
       "| <!--/--> | ano | captura | porto |\n",
       "|---|---|---|---|\n",
       "| 1 | 2001 | 26   | SP   |\n",
       "| 4 | 2004 | 32   | SC   |\n",
       "| NA |   NA | NA   | NA   |\n",
       "\n"
      ],
      "text/plain": [
       "   ano  captura porto\n",
       "1  2001 26      SP   \n",
       "4  2004 32      SC   \n",
       "NA   NA NA      NA   "
      ]
     },
     "metadata": {},
     "output_type": "display_data"
    },
    {
     "data": {
      "text/html": [
       "<table>\n",
       "<thead><tr><th></th><th scope=col>ano</th><th scope=col>captura</th><th scope=col>porto</th></tr></thead>\n",
       "<tbody>\n",
       "\t<tr><th scope=row>1</th><td>2001</td><td>26  </td><td>SP  </td></tr>\n",
       "\t<tr><th scope=row>4</th><td>2004</td><td>32  </td><td>SC  </td></tr>\n",
       "</tbody>\n",
       "</table>\n"
      ],
      "text/latex": [
       "\\begin{tabular}{r|lll}\n",
       "  & ano & captura & porto\\\\\n",
       "\\hline\n",
       "\t1 & 2001 & 26   & SP  \\\\\n",
       "\t4 & 2004 & 32   & SC  \\\\\n",
       "\\end{tabular}\n"
      ],
      "text/markdown": [
       "\n",
       "| <!--/--> | ano | captura | porto |\n",
       "|---|---|---|---|\n",
       "| 1 | 2001 | 26   | SP   |\n",
       "| 4 | 2004 | 32   | SC   |\n",
       "\n"
      ],
      "text/plain": [
       "  ano  captura porto\n",
       "1 2001 26      SP   \n",
       "4 2004 32      SC   "
      ]
     },
     "metadata": {},
     "output_type": "display_data"
    }
   ],
   "source": [
    "# Dados onde títulos maior do que 25\n",
    "dados[dados$captura>25,]\n",
    "subset(dados,dados$captura>25)"
   ]
  },
  {
   "cell_type": "code",
   "execution_count": 187,
   "id": "thousand-bumper",
   "metadata": {},
   "outputs": [
    {
     "data": {
      "text/html": [
       "<table>\n",
       "<thead><tr><th></th><th scope=col>ano</th><th scope=col>captura</th><th scope=col>porto</th></tr></thead>\n",
       "<tbody>\n",
       "\t<tr><th scope=row>3</th><td>2003</td><td>25  </td><td>CE  </td></tr>\n",
       "</tbody>\n",
       "</table>\n"
      ],
      "text/latex": [
       "\\begin{tabular}{r|lll}\n",
       "  & ano & captura & porto\\\\\n",
       "\\hline\n",
       "\t3 & 2003 & 25   & CE  \\\\\n",
       "\\end{tabular}\n"
      ],
      "text/markdown": [
       "\n",
       "| <!--/--> | ano | captura | porto |\n",
       "|---|---|---|---|\n",
       "| 3 | 2003 | 25   | CE   |\n",
       "\n"
      ],
      "text/plain": [
       "  ano  captura porto\n",
       "3 2003 25      CE   "
      ]
     },
     "metadata": {},
     "output_type": "display_data"
    },
    {
     "data": {
      "text/html": [
       "<table>\n",
       "<thead><tr><th></th><th scope=col>ano</th><th scope=col>captura</th><th scope=col>porto</th></tr></thead>\n",
       "<tbody>\n",
       "\t<tr><th scope=row>3</th><td>2003</td><td>25  </td><td>CE  </td></tr>\n",
       "</tbody>\n",
       "</table>\n"
      ],
      "text/latex": [
       "\\begin{tabular}{r|lll}\n",
       "  & ano & captura & porto\\\\\n",
       "\\hline\n",
       "\t3 & 2003 & 25   & CE  \\\\\n",
       "\\end{tabular}\n"
      ],
      "text/markdown": [
       "\n",
       "| <!--/--> | ano | captura | porto |\n",
       "|---|---|---|---|\n",
       "| 3 | 2003 | 25   | CE   |\n",
       "\n"
      ],
      "text/plain": [
       "  ano  captura porto\n",
       "3 2003 25      CE   "
      ]
     },
     "metadata": {},
     "output_type": "display_data"
    }
   ],
   "source": [
    "# Dados em que títulos maior do que 24 e estado do CE\n",
    "dados[dados$captura>24 & dados$porto==\"CE\", ]\n",
    "subset(dados,dados$captura>24 & dados$porto==\"CE\")"
   ]
  },
  {
   "cell_type": "code",
   "execution_count": 188,
   "id": "engaging-destination",
   "metadata": {},
   "outputs": [
    {
     "data": {
      "text/html": [
       "<table>\n",
       "<thead><tr><th></th><th scope=col>ano</th><th scope=col>captura</th><th scope=col>porto</th></tr></thead>\n",
       "<tbody>\n",
       "\t<tr><th scope=row>5</th><td>2005</td><td>NA  </td><td>RN  </td></tr>\n",
       "</tbody>\n",
       "</table>\n"
      ],
      "text/latex": [
       "\\begin{tabular}{r|lll}\n",
       "  & ano & captura & porto\\\\\n",
       "\\hline\n",
       "\t5 & 2005 & NA   & RN  \\\\\n",
       "\\end{tabular}\n"
      ],
      "text/markdown": [
       "\n",
       "| <!--/--> | ano | captura | porto |\n",
       "|---|---|---|---|\n",
       "| 5 | 2005 | NA   | RN   |\n",
       "\n"
      ],
      "text/plain": [
       "  ano  captura porto\n",
       "5 2005 NA      RN   "
      ]
     },
     "metadata": {},
     "output_type": "display_data"
    },
    {
     "data": {
      "text/html": [
       "<table>\n",
       "<thead><tr><th></th><th scope=col>ano</th><th scope=col>captura</th><th scope=col>porto</th></tr></thead>\n",
       "<tbody>\n",
       "\t<tr><th scope=row>5</th><td>2005</td><td>NA  </td><td>RN  </td></tr>\n",
       "</tbody>\n",
       "</table>\n"
      ],
      "text/latex": [
       "\\begin{tabular}{r|lll}\n",
       "  & ano & captura & porto\\\\\n",
       "\\hline\n",
       "\t5 & 2005 & NA   & RN  \\\\\n",
       "\\end{tabular}\n"
      ],
      "text/markdown": [
       "\n",
       "| <!--/--> | ano | captura | porto |\n",
       "|---|---|---|---|\n",
       "| 5 | 2005 | NA   | RN   |\n",
       "\n"
      ],
      "text/plain": [
       "  ano  captura porto\n",
       "5 2005 NA      RN   "
      ]
     },
     "metadata": {},
     "output_type": "display_data"
    }
   ],
   "source": [
    "# Dados de estados que possuem NA\n",
    "dados[is.na(dados$captura),]\n",
    "subset(dados,is.na(dados$captura))"
   ]
  },
  {
   "cell_type": "markdown",
   "id": "continuing-revision",
   "metadata": {},
   "source": [
    "## Estatística Descritiva"
   ]
  },
  {
   "cell_type": "code",
   "execution_count": 191,
   "id": "seven-glass",
   "metadata": {},
   "outputs": [
    {
     "data": {
      "text/plain": [
       "      ano          captura      porto \n",
       " Min.   :2001   Min.   :18.00   CE:1  \n",
       " 1st Qu.:2001   1st Qu.:23.25   RN:1  \n",
       " Median :2003   Median :25.50   RS:1  \n",
       " Mean   :2003   Mean   :25.25   SC:1  \n",
       " 3rd Qu.:2004   3rd Qu.:27.50   SP:1  \n",
       " Max.   :2005   Max.   :32.00         \n",
       "                NA's   :1             "
      ]
     },
     "metadata": {},
     "output_type": "display_data"
    }
   ],
   "source": [
    "summary(dados)"
   ]
  }
 ],
 "metadata": {
  "kernelspec": {
   "display_name": "R",
   "language": "R",
   "name": "ir"
  },
  "language_info": {
   "codemirror_mode": "r",
   "file_extension": ".r",
   "mimetype": "text/x-r-source",
   "name": "R",
   "pygments_lexer": "r",
   "version": "3.6.1"
  }
 },
 "nbformat": 4,
 "nbformat_minor": 5
}
