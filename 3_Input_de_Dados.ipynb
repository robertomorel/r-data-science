{
 "cells": [
  {
   "cell_type": "code",
   "execution_count": 6,
   "metadata": {},
   "outputs": [
    {
     "data": {
      "text/html": [
       "<ol class=list-inline>\n",
       "\t<li>'0_First_Test_Plot.ipynb'</li>\n",
       "\t<li>'1_Tutorial.ipynb'</li>\n",
       "\t<li>'2_Exercicio.ipynb'</li>\n",
       "\t<li>'3_Input_de_Dados.ipynb'</li>\n",
       "\t<li>'Aula Sabadao tarde.ipynb'</li>\n",
       "\t<li>'aula.RData'</li>\n",
       "\t<li>'lista_presenca.csv'</li>\n",
       "</ol>\n"
      ],
      "text/latex": [
       "\\begin{enumerate*}\n",
       "\\item '0\\_First\\_Test\\_Plot.ipynb'\n",
       "\\item '1\\_Tutorial.ipynb'\n",
       "\\item '2\\_Exercicio.ipynb'\n",
       "\\item '3\\_Input\\_de\\_Dados.ipynb'\n",
       "\\item 'Aula Sabadao tarde.ipynb'\n",
       "\\item 'aula.RData'\n",
       "\\item 'lista\\_presenca.csv'\n",
       "\\end{enumerate*}\n"
      ],
      "text/markdown": [
       "1. '0_First_Test_Plot.ipynb'\n",
       "2. '1_Tutorial.ipynb'\n",
       "3. '2_Exercicio.ipynb'\n",
       "4. '3_Input_de_Dados.ipynb'\n",
       "5. 'Aula Sabadao tarde.ipynb'\n",
       "6. 'aula.RData'\n",
       "7. 'lista_presenca.csv'\n",
       "\n",
       "\n"
      ],
      "text/plain": [
       "[1] \"0_First_Test_Plot.ipynb\"  \"1_Tutorial.ipynb\"        \n",
       "[3] \"2_Exercicio.ipynb\"        \"3_Input_de_Dados.ipynb\"  \n",
       "[5] \"Aula Sabadao tarde.ipynb\" \"aula.RData\"              \n",
       "[7] \"lista_presenca.csv\"      "
      ]
     },
     "metadata": {},
     "output_type": "display_data"
    }
   ],
   "source": [
    "dir()"
   ]
  },
  {
   "cell_type": "code",
   "execution_count": 39,
   "metadata": {},
   "outputs": [
    {
     "data": {
      "text/html": [
       "<table>\n",
       "<thead><tr><th scope=col>ï..Nome.Completo</th><th scope=col>Atividade</th><th scope=col>Data.e.Hora</th></tr></thead>\n",
       "<tbody>\n",
       "\t<tr><td>Edson Neto                          </td><td>Entrou                              </td><td>06/02/2021 07:52                    </td></tr>\n",
       "\t<tr><td>Bruno de Sousa Pacheco              </td><td>Entrou                              </td><td>06/02/2021 07:54                    </td></tr>\n",
       "\t<tr><td>Bruno de Sousa Pacheco              </td><td>Saiu                                </td><td>06/02/2021 09:01                    </td></tr>\n",
       "\t<tr><td>Bruno de Sousa Pacheco              </td><td>Entrou                              </td><td>06/02/2021 09:02                    </td></tr>\n",
       "\t<tr><td>Caio Cavalcante de Oliveira         </td><td>Entrou                              </td><td>06/02/2021 07:55                    </td></tr>\n",
       "\t<tr><td>Caio Cavalcante de Oliveira         </td><td>Saiu                                </td><td>06/02/2021 07:55                    </td></tr>\n",
       "\t<tr><td>Caio Cavalcante de Oliveira         </td><td>Entrou                              </td><td>06/02/2021 08:08                    </td></tr>\n",
       "\t<tr><td>Ruriel Gomes dos Santos             </td><td>Entrou                              </td><td>06/02/2021 08:02                    </td></tr>\n",
       "\t<tr><td>Synara Soares Pereira               </td><td>Entrou                              </td><td>06/02/2021 08:05                    </td></tr>\n",
       "\t<tr><td>Synara Soares Pereira               </td><td>Saiu                                </td><td>06/02/2021 08:06                    </td></tr>\n",
       "\t<tr><td>Synara Soares Pereira               </td><td>Entrou                              </td><td>06/02/2021 08:06                    </td></tr>\n",
       "\t<tr><td>Synara Soares Pereira               </td><td>Saiu                                </td><td>06/02/2021 08:07                    </td></tr>\n",
       "\t<tr><td>Synara Soares Pereira               </td><td>Entrou                              </td><td>06/02/2021 08:12                    </td></tr>\n",
       "\t<tr><td>Bergson Leite Tavares Santos        </td><td>Entrou                              </td><td>06/02/2021 08:05                    </td></tr>\n",
       "\t<tr><td>Jose Gilmario da Costa Batista      </td><td>Entrou                              </td><td>06/02/2021 08:06                    </td></tr>\n",
       "\t<tr><td>Sergio Luis Barros Rodrigues        </td><td>Entrou                              </td><td>06/02/2021 08:06                    </td></tr>\n",
       "\t<tr><td>Lucas Beserra de Sena               </td><td>Entrou                              </td><td>06/02/2021 08:08                    </td></tr>\n",
       "\t<tr><td>Lucas Beserra de Sena               </td><td>Saiu                                </td><td>06/02/2021 08:30                    </td></tr>\n",
       "\t<tr><td>Lucas Beserra de Sena               </td><td>Entrou                              </td><td>06/02/2021 08:34                    </td></tr>\n",
       "\t<tr><td>Amanda Acacio Carneiro              </td><td>Entrou                              </td><td>06/02/2021 08:13                    </td></tr>\n",
       "\t<tr><td>Amanda Acacio Carneiro              </td><td>Saiu                                </td><td>06/02/2021 09:22                    </td></tr>\n",
       "\t<tr><td>Amanda Acacio Carneiro              </td><td>Entrou                              </td><td>06/02/2021 09:23                    </td></tr>\n",
       "\t<tr><td>Amanda Acacio Carneiro              </td><td>Saiu                                </td><td>06/02/2021 09:32                    </td></tr>\n",
       "\t<tr><td>Amanda Acacio Carneiro              </td><td>Entrou                              </td><td>06/02/2021 09:34                    </td></tr>\n",
       "\t<tr><td>Pryscilla de Souza Pereira          </td><td>Entrou                              </td><td>06/02/2021 08:13                    </td></tr>\n",
       "\t<tr><td>Antonio Wanderson de Castro Silva   </td><td>Entrou                              </td><td>06/02/2021 08:14                    </td></tr>\n",
       "\t<tr><td>Marcela Yara Vasconcelos de Farias  </td><td>Entrou                              </td><td>06/02/2021 08:23                    </td></tr>\n",
       "\t<tr><td>Micaella da Silva Teixeira Rodrigues</td><td>Entrou                              </td><td>06/02/2021 08:28                    </td></tr>\n",
       "\t<tr><td>Aryberg de Souza Duarte             </td><td>Entrou                              </td><td>06/02/2021 08:28                    </td></tr>\n",
       "\t<tr><td>Diego Loyola Ximenes                </td><td>Entrou                              </td><td>06/02/2021 08:32                    </td></tr>\n",
       "\t<tr><td>Andson Castro de Oliveira           </td><td>Entrou                              </td><td>06/02/2021 08:35                    </td></tr>\n",
       "\t<tr><td>Andson Castro de Oliveira           </td><td>Saiu                                </td><td>06/02/2021 08:37                    </td></tr>\n",
       "\t<tr><td>Andson Castro de Oliveira           </td><td>Entrou                              </td><td>06/02/2021 08:37                    </td></tr>\n",
       "\t<tr><td>Andson Castro de Oliveira           </td><td>Saiu                                </td><td>06/02/2021 08:39                    </td></tr>\n",
       "\t<tr><td>Andson Castro de Oliveira           </td><td>Entrou                              </td><td>06/02/2021 08:39                    </td></tr>\n",
       "\t<tr><td>Lucas Martins Belmino               </td><td>Entrou                              </td><td>06/02/2021 09:04                    </td></tr>\n",
       "</tbody>\n",
       "</table>\n"
      ],
      "text/latex": [
       "\\begin{tabular}{r|lll}\n",
       " ï..Nome.Completo & Atividade & Data.e.Hora\\\\\n",
       "\\hline\n",
       "\t Edson Neto                           & Entrou                               & 06/02/2021 07:52                    \\\\\n",
       "\t Bruno de Sousa Pacheco               & Entrou                               & 06/02/2021 07:54                    \\\\\n",
       "\t Bruno de Sousa Pacheco               & Saiu                                 & 06/02/2021 09:01                    \\\\\n",
       "\t Bruno de Sousa Pacheco               & Entrou                               & 06/02/2021 09:02                    \\\\\n",
       "\t Caio Cavalcante de Oliveira          & Entrou                               & 06/02/2021 07:55                    \\\\\n",
       "\t Caio Cavalcante de Oliveira          & Saiu                                 & 06/02/2021 07:55                    \\\\\n",
       "\t Caio Cavalcante de Oliveira          & Entrou                               & 06/02/2021 08:08                    \\\\\n",
       "\t Ruriel Gomes dos Santos              & Entrou                               & 06/02/2021 08:02                    \\\\\n",
       "\t Synara Soares Pereira                & Entrou                               & 06/02/2021 08:05                    \\\\\n",
       "\t Synara Soares Pereira                & Saiu                                 & 06/02/2021 08:06                    \\\\\n",
       "\t Synara Soares Pereira                & Entrou                               & 06/02/2021 08:06                    \\\\\n",
       "\t Synara Soares Pereira                & Saiu                                 & 06/02/2021 08:07                    \\\\\n",
       "\t Synara Soares Pereira                & Entrou                               & 06/02/2021 08:12                    \\\\\n",
       "\t Bergson Leite Tavares Santos         & Entrou                               & 06/02/2021 08:05                    \\\\\n",
       "\t Jose Gilmario da Costa Batista       & Entrou                               & 06/02/2021 08:06                    \\\\\n",
       "\t Sergio Luis Barros Rodrigues         & Entrou                               & 06/02/2021 08:06                    \\\\\n",
       "\t Lucas Beserra de Sena                & Entrou                               & 06/02/2021 08:08                    \\\\\n",
       "\t Lucas Beserra de Sena                & Saiu                                 & 06/02/2021 08:30                    \\\\\n",
       "\t Lucas Beserra de Sena                & Entrou                               & 06/02/2021 08:34                    \\\\\n",
       "\t Amanda Acacio Carneiro               & Entrou                               & 06/02/2021 08:13                    \\\\\n",
       "\t Amanda Acacio Carneiro               & Saiu                                 & 06/02/2021 09:22                    \\\\\n",
       "\t Amanda Acacio Carneiro               & Entrou                               & 06/02/2021 09:23                    \\\\\n",
       "\t Amanda Acacio Carneiro               & Saiu                                 & 06/02/2021 09:32                    \\\\\n",
       "\t Amanda Acacio Carneiro               & Entrou                               & 06/02/2021 09:34                    \\\\\n",
       "\t Pryscilla de Souza Pereira           & Entrou                               & 06/02/2021 08:13                    \\\\\n",
       "\t Antonio Wanderson de Castro Silva    & Entrou                               & 06/02/2021 08:14                    \\\\\n",
       "\t Marcela Yara Vasconcelos de Farias   & Entrou                               & 06/02/2021 08:23                    \\\\\n",
       "\t Micaella da Silva Teixeira Rodrigues & Entrou                               & 06/02/2021 08:28                    \\\\\n",
       "\t Aryberg de Souza Duarte              & Entrou                               & 06/02/2021 08:28                    \\\\\n",
       "\t Diego Loyola Ximenes                 & Entrou                               & 06/02/2021 08:32                    \\\\\n",
       "\t Andson Castro de Oliveira            & Entrou                               & 06/02/2021 08:35                    \\\\\n",
       "\t Andson Castro de Oliveira            & Saiu                                 & 06/02/2021 08:37                    \\\\\n",
       "\t Andson Castro de Oliveira            & Entrou                               & 06/02/2021 08:37                    \\\\\n",
       "\t Andson Castro de Oliveira            & Saiu                                 & 06/02/2021 08:39                    \\\\\n",
       "\t Andson Castro de Oliveira            & Entrou                               & 06/02/2021 08:39                    \\\\\n",
       "\t Lucas Martins Belmino                & Entrou                               & 06/02/2021 09:04                    \\\\\n",
       "\\end{tabular}\n"
      ],
      "text/markdown": [
       "\n",
       "| ï..Nome.Completo | Atividade | Data.e.Hora |\n",
       "|---|---|---|\n",
       "| Edson Neto                           | Entrou                               | 06/02/2021 07:52                     |\n",
       "| Bruno de Sousa Pacheco               | Entrou                               | 06/02/2021 07:54                     |\n",
       "| Bruno de Sousa Pacheco               | Saiu                                 | 06/02/2021 09:01                     |\n",
       "| Bruno de Sousa Pacheco               | Entrou                               | 06/02/2021 09:02                     |\n",
       "| Caio Cavalcante de Oliveira          | Entrou                               | 06/02/2021 07:55                     |\n",
       "| Caio Cavalcante de Oliveira          | Saiu                                 | 06/02/2021 07:55                     |\n",
       "| Caio Cavalcante de Oliveira          | Entrou                               | 06/02/2021 08:08                     |\n",
       "| Ruriel Gomes dos Santos              | Entrou                               | 06/02/2021 08:02                     |\n",
       "| Synara Soares Pereira                | Entrou                               | 06/02/2021 08:05                     |\n",
       "| Synara Soares Pereira                | Saiu                                 | 06/02/2021 08:06                     |\n",
       "| Synara Soares Pereira                | Entrou                               | 06/02/2021 08:06                     |\n",
       "| Synara Soares Pereira                | Saiu                                 | 06/02/2021 08:07                     |\n",
       "| Synara Soares Pereira                | Entrou                               | 06/02/2021 08:12                     |\n",
       "| Bergson Leite Tavares Santos         | Entrou                               | 06/02/2021 08:05                     |\n",
       "| Jose Gilmario da Costa Batista       | Entrou                               | 06/02/2021 08:06                     |\n",
       "| Sergio Luis Barros Rodrigues         | Entrou                               | 06/02/2021 08:06                     |\n",
       "| Lucas Beserra de Sena                | Entrou                               | 06/02/2021 08:08                     |\n",
       "| Lucas Beserra de Sena                | Saiu                                 | 06/02/2021 08:30                     |\n",
       "| Lucas Beserra de Sena                | Entrou                               | 06/02/2021 08:34                     |\n",
       "| Amanda Acacio Carneiro               | Entrou                               | 06/02/2021 08:13                     |\n",
       "| Amanda Acacio Carneiro               | Saiu                                 | 06/02/2021 09:22                     |\n",
       "| Amanda Acacio Carneiro               | Entrou                               | 06/02/2021 09:23                     |\n",
       "| Amanda Acacio Carneiro               | Saiu                                 | 06/02/2021 09:32                     |\n",
       "| Amanda Acacio Carneiro               | Entrou                               | 06/02/2021 09:34                     |\n",
       "| Pryscilla de Souza Pereira           | Entrou                               | 06/02/2021 08:13                     |\n",
       "| Antonio Wanderson de Castro Silva    | Entrou                               | 06/02/2021 08:14                     |\n",
       "| Marcela Yara Vasconcelos de Farias   | Entrou                               | 06/02/2021 08:23                     |\n",
       "| Micaella da Silva Teixeira Rodrigues | Entrou                               | 06/02/2021 08:28                     |\n",
       "| Aryberg de Souza Duarte              | Entrou                               | 06/02/2021 08:28                     |\n",
       "| Diego Loyola Ximenes                 | Entrou                               | 06/02/2021 08:32                     |\n",
       "| Andson Castro de Oliveira            | Entrou                               | 06/02/2021 08:35                     |\n",
       "| Andson Castro de Oliveira            | Saiu                                 | 06/02/2021 08:37                     |\n",
       "| Andson Castro de Oliveira            | Entrou                               | 06/02/2021 08:37                     |\n",
       "| Andson Castro de Oliveira            | Saiu                                 | 06/02/2021 08:39                     |\n",
       "| Andson Castro de Oliveira            | Entrou                               | 06/02/2021 08:39                     |\n",
       "| Lucas Martins Belmino                | Entrou                               | 06/02/2021 09:04                     |\n",
       "\n"
      ],
      "text/plain": [
       "   ï..Nome.Completo                     Atividade Data.e.Hora     \n",
       "1  Edson Neto                           Entrou    06/02/2021 07:52\n",
       "2  Bruno de Sousa Pacheco               Entrou    06/02/2021 07:54\n",
       "3  Bruno de Sousa Pacheco               Saiu      06/02/2021 09:01\n",
       "4  Bruno de Sousa Pacheco               Entrou    06/02/2021 09:02\n",
       "5  Caio Cavalcante de Oliveira          Entrou    06/02/2021 07:55\n",
       "6  Caio Cavalcante de Oliveira          Saiu      06/02/2021 07:55\n",
       "7  Caio Cavalcante de Oliveira          Entrou    06/02/2021 08:08\n",
       "8  Ruriel Gomes dos Santos              Entrou    06/02/2021 08:02\n",
       "9  Synara Soares Pereira                Entrou    06/02/2021 08:05\n",
       "10 Synara Soares Pereira                Saiu      06/02/2021 08:06\n",
       "11 Synara Soares Pereira                Entrou    06/02/2021 08:06\n",
       "12 Synara Soares Pereira                Saiu      06/02/2021 08:07\n",
       "13 Synara Soares Pereira                Entrou    06/02/2021 08:12\n",
       "14 Bergson Leite Tavares Santos         Entrou    06/02/2021 08:05\n",
       "15 Jose Gilmario da Costa Batista       Entrou    06/02/2021 08:06\n",
       "16 Sergio Luis Barros Rodrigues         Entrou    06/02/2021 08:06\n",
       "17 Lucas Beserra de Sena                Entrou    06/02/2021 08:08\n",
       "18 Lucas Beserra de Sena                Saiu      06/02/2021 08:30\n",
       "19 Lucas Beserra de Sena                Entrou    06/02/2021 08:34\n",
       "20 Amanda Acacio Carneiro               Entrou    06/02/2021 08:13\n",
       "21 Amanda Acacio Carneiro               Saiu      06/02/2021 09:22\n",
       "22 Amanda Acacio Carneiro               Entrou    06/02/2021 09:23\n",
       "23 Amanda Acacio Carneiro               Saiu      06/02/2021 09:32\n",
       "24 Amanda Acacio Carneiro               Entrou    06/02/2021 09:34\n",
       "25 Pryscilla de Souza Pereira           Entrou    06/02/2021 08:13\n",
       "26 Antonio Wanderson de Castro Silva    Entrou    06/02/2021 08:14\n",
       "27 Marcela Yara Vasconcelos de Farias   Entrou    06/02/2021 08:23\n",
       "28 Micaella da Silva Teixeira Rodrigues Entrou    06/02/2021 08:28\n",
       "29 Aryberg de Souza Duarte              Entrou    06/02/2021 08:28\n",
       "30 Diego Loyola Ximenes                 Entrou    06/02/2021 08:32\n",
       "31 Andson Castro de Oliveira            Entrou    06/02/2021 08:35\n",
       "32 Andson Castro de Oliveira            Saiu      06/02/2021 08:37\n",
       "33 Andson Castro de Oliveira            Entrou    06/02/2021 08:37\n",
       "34 Andson Castro de Oliveira            Saiu      06/02/2021 08:39\n",
       "35 Andson Castro de Oliveira            Entrou    06/02/2021 08:39\n",
       "36 Lucas Martins Belmino                Entrou    06/02/2021 09:04"
      ]
     },
     "metadata": {},
     "output_type": "display_data"
    }
   ],
   "source": [
    "dados <- read.csv2(\"lista_presenca.csv\", header=T)\n",
    "dados"
   ]
  },
  {
   "cell_type": "code",
   "execution_count": 36,
   "metadata": {},
   "outputs": [
    {
     "data": {
      "text/plain": [
       "                    ï..Nome.Completo  Atividade            Data.e.Hora\n",
       " Amanda Acacio Carneiro     : 5      Entrou:27   06/02/2021 08:06: 4  \n",
       " Andson Castro de Oliveira  : 5      Saiu  : 9   06/02/2021 07:55: 2  \n",
       " Synara Soares Pereira      : 5                  06/02/2021 08:05: 2  \n",
       " Bruno de Sousa Pacheco     : 3                  06/02/2021 08:08: 2  \n",
       " Caio Cavalcante de Oliveira: 3                  06/02/2021 08:13: 2  \n",
       " Lucas Beserra de Sena      : 3                  06/02/2021 08:28: 2  \n",
       " (Other)                    :12                  (Other)         :22  "
      ]
     },
     "metadata": {},
     "output_type": "display_data"
    }
   ],
   "source": [
    "summary(dados)"
   ]
  },
  {
   "cell_type": "code",
   "execution_count": 37,
   "metadata": {},
   "outputs": [
    {
     "data": {
      "text/html": [
       "<table>\n",
       "<thead><tr><th></th><th scope=col>ï..Nome.Completo</th><th scope=col>Atividade</th><th scope=col>Data.e.Hora</th></tr></thead>\n",
       "<tbody>\n",
       "\t<tr><th scope=row>5</th><td>Caio Cavalcante de Oliveira</td><td>Entrou                     </td><td>06/02/2021 07:55           </td></tr>\n",
       "\t<tr><th scope=row>6</th><td>Caio Cavalcante de Oliveira</td><td>Saiu                       </td><td>06/02/2021 07:55           </td></tr>\n",
       "\t<tr><th scope=row>7</th><td>Caio Cavalcante de Oliveira</td><td>Entrou                     </td><td>06/02/2021 08:08           </td></tr>\n",
       "</tbody>\n",
       "</table>\n"
      ],
      "text/latex": [
       "\\begin{tabular}{r|lll}\n",
       "  & ï..Nome.Completo & Atividade & Data.e.Hora\\\\\n",
       "\\hline\n",
       "\t5 & Caio Cavalcante de Oliveira & Entrou                      & 06/02/2021 07:55           \\\\\n",
       "\t6 & Caio Cavalcante de Oliveira & Saiu                        & 06/02/2021 07:55           \\\\\n",
       "\t7 & Caio Cavalcante de Oliveira & Entrou                      & 06/02/2021 08:08           \\\\\n",
       "\\end{tabular}\n"
      ],
      "text/markdown": [
       "\n",
       "| <!--/--> | ï..Nome.Completo | Atividade | Data.e.Hora |\n",
       "|---|---|---|---|\n",
       "| 5 | Caio Cavalcante de Oliveira | Entrou                      | 06/02/2021 07:55            |\n",
       "| 6 | Caio Cavalcante de Oliveira | Saiu                        | 06/02/2021 07:55            |\n",
       "| 7 | Caio Cavalcante de Oliveira | Entrou                      | 06/02/2021 08:08            |\n",
       "\n"
      ],
      "text/plain": [
       "  ï..Nome.Completo            Atividade Data.e.Hora     \n",
       "5 Caio Cavalcante de Oliveira Entrou    06/02/2021 07:55\n",
       "6 Caio Cavalcante de Oliveira Saiu      06/02/2021 07:55\n",
       "7 Caio Cavalcante de Oliveira Entrou    06/02/2021 08:08"
      ]
     },
     "metadata": {},
     "output_type": "display_data"
    }
   ],
   "source": [
    "dados[dados$ï..Nome.Completo == 'Caio Cavalcante de Oliveira',]"
   ]
  },
  {
   "cell_type": "code",
   "execution_count": 38,
   "metadata": {},
   "outputs": [
    {
     "data": {
      "text/html": [
       "<table>\n",
       "<thead><tr><th scope=col>ï..Nome.Completo</th><th scope=col>Atividade</th><th scope=col>Data.e.Hora</th></tr></thead>\n",
       "<tbody>\n",
       "\t<tr><td>Edson Neto      </td><td>Entrou          </td><td>06/02/2021 07:52</td></tr>\n",
       "</tbody>\n",
       "</table>\n"
      ],
      "text/latex": [
       "\\begin{tabular}{r|lll}\n",
       " ï..Nome.Completo & Atividade & Data.e.Hora\\\\\n",
       "\\hline\n",
       "\t Edson Neto       & Entrou           & 06/02/2021 07:52\\\\\n",
       "\\end{tabular}\n"
      ],
      "text/markdown": [
       "\n",
       "| ï..Nome.Completo | Atividade | Data.e.Hora |\n",
       "|---|---|---|\n",
       "| Edson Neto       | Entrou           | 06/02/2021 07:52 |\n",
       "\n"
      ],
      "text/plain": [
       "  ï..Nome.Completo Atividade Data.e.Hora     \n",
       "1 Edson Neto       Entrou    06/02/2021 07:52"
      ]
     },
     "metadata": {},
     "output_type": "display_data"
    }
   ],
   "source": [
    "dados[dados$Atividade == \"Entrou\" & dados$ï..Nome.Completo==\"Edson Neto\",]"
   ]
  },
  {
   "cell_type": "code",
   "execution_count": null,
   "metadata": {},
   "outputs": [],
   "source": []
  }
 ],
 "metadata": {
  "kernelspec": {
   "display_name": "R",
   "language": "R",
   "name": "ir"
  },
  "language_info": {
   "codemirror_mode": "r",
   "file_extension": ".r",
   "mimetype": "text/x-r-source",
   "name": "R",
   "pygments_lexer": "r",
   "version": "3.6.1"
  }
 },
 "nbformat": 4,
 "nbformat_minor": 2
}
